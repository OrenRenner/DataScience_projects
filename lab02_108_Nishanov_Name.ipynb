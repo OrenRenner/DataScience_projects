{
  "nbformat": 4,
  "nbformat_minor": 0,
  "metadata": {
    "colab": {
      "name": "lab02_108_Nishanov_Name.ipynb",
      "provenance": [],
      "collapsed_sections": []
    },
    "kernelspec": {
      "name": "python3",
      "display_name": "Python 3"
    }
  },
  "cells": [
    {
      "cell_type": "code",
      "metadata": {
        "id": "x-uVE17R8fEF"
      },
      "source": [
        "import numpy as np\n",
        "import pandas as pd\n",
        "import matplotlib.pyplot as plt\n",
        "%matplotlib inline"
      ],
      "execution_count": 1,
      "outputs": []
    },
    {
      "cell_type": "code",
      "metadata": {
        "id": "r2qr6NnHg93A",
        "outputId": "c383b28d-099e-4bcc-f7d7-13c7deb6ff8f",
        "colab": {
          "base_uri": "https://localhost:8080/",
          "height": 34
        }
      },
      "source": [
        "from google.colab import drive\n",
        "drive.mount('/gdrive', force_remount=True)"
      ],
      "execution_count": 2,
      "outputs": [
        {
          "output_type": "stream",
          "text": [
            "Mounted at /gdrive\n"
          ],
          "name": "stdout"
        }
      ]
    },
    {
      "cell_type": "markdown",
      "metadata": {
        "id": "r5dHOnRhfD7p"
      },
      "source": [
        "**Part 1. Feature Selection [4 points]**\n",
        "\n",
        "In this part of the assignemt you will be offered a task to analyze a dataset and figure out which features are the most important. The first means to solve this problem is to use linear model and examine the weights, another option is to train a logic classifier and see which featires it uses to build the splits. And finally you may use PCA and analyze how new PCA-features are configured.\n",
        "\n",
        "Firstly, load the data from feature_selection_sample.txt and save it into variable db."
      ]
    },
    {
      "cell_type": "code",
      "metadata": {
        "id": "pJScQp_ofd7F"
      },
      "source": [
        "input_filename = '/gdrive/My Drive/dataset/msu/feature_selection_sample.txt'\n",
        "db = pd.read_csv(input_filename, sep='\\t', header=None)"
      ],
      "execution_count": 3,
      "outputs": []
    },
    {
      "cell_type": "code",
      "metadata": {
        "id": "Of6dXrRphFAF",
        "outputId": "3fa2f40d-ace9-44ed-c9f7-ab851e3d76b8",
        "colab": {
          "base_uri": "https://localhost:8080/",
          "height": 204
        }
      },
      "source": [
        "db.head()"
      ],
      "execution_count": 4,
      "outputs": [
        {
          "output_type": "execute_result",
          "data": {
            "text/html": [
              "<div>\n",
              "<style scoped>\n",
              "    .dataframe tbody tr th:only-of-type {\n",
              "        vertical-align: middle;\n",
              "    }\n",
              "\n",
              "    .dataframe tbody tr th {\n",
              "        vertical-align: top;\n",
              "    }\n",
              "\n",
              "    .dataframe thead th {\n",
              "        text-align: right;\n",
              "    }\n",
              "</style>\n",
              "<table border=\"1\" class=\"dataframe\">\n",
              "  <thead>\n",
              "    <tr style=\"text-align: right;\">\n",
              "      <th></th>\n",
              "      <th>0</th>\n",
              "      <th>1</th>\n",
              "      <th>2</th>\n",
              "      <th>3</th>\n",
              "      <th>4</th>\n",
              "      <th>5</th>\n",
              "      <th>6</th>\n",
              "      <th>7</th>\n",
              "      <th>8</th>\n",
              "      <th>9</th>\n",
              "      <th>10</th>\n",
              "    </tr>\n",
              "  </thead>\n",
              "  <tbody>\n",
              "    <tr>\n",
              "      <th>0</th>\n",
              "      <td>1.550508</td>\n",
              "      <td>19.483747</td>\n",
              "      <td>-0.002987</td>\n",
              "      <td>4.421460</td>\n",
              "      <td>5.541652</td>\n",
              "      <td>0.468138</td>\n",
              "      <td>-0.017365</td>\n",
              "      <td>0.005496</td>\n",
              "      <td>0.931543</td>\n",
              "      <td>-0.033190</td>\n",
              "      <td>15</td>\n",
              "    </tr>\n",
              "    <tr>\n",
              "      <th>1</th>\n",
              "      <td>9.683788</td>\n",
              "      <td>14.336396</td>\n",
              "      <td>-0.027154</td>\n",
              "      <td>5.100489</td>\n",
              "      <td>8.179487</td>\n",
              "      <td>0.573692</td>\n",
              "      <td>-0.024525</td>\n",
              "      <td>0.002686</td>\n",
              "      <td>0.880111</td>\n",
              "      <td>-0.040193</td>\n",
              "      <td>17</td>\n",
              "    </tr>\n",
              "    <tr>\n",
              "      <th>2</th>\n",
              "      <td>4.682631</td>\n",
              "      <td>8.112067</td>\n",
              "      <td>-0.012813</td>\n",
              "      <td>4.680838</td>\n",
              "      <td>1.514920</td>\n",
              "      <td>0.974407</td>\n",
              "      <td>-0.009002</td>\n",
              "      <td>0.007909</td>\n",
              "      <td>0.050082</td>\n",
              "      <td>-0.053341</td>\n",
              "      <td>12</td>\n",
              "    </tr>\n",
              "    <tr>\n",
              "      <th>3</th>\n",
              "      <td>7.768197</td>\n",
              "      <td>2.074808</td>\n",
              "      <td>-0.014950</td>\n",
              "      <td>7.977821</td>\n",
              "      <td>13.602144</td>\n",
              "      <td>0.599069</td>\n",
              "      <td>-0.018800</td>\n",
              "      <td>0.012021</td>\n",
              "      <td>0.632768</td>\n",
              "      <td>-0.035886</td>\n",
              "      <td>16</td>\n",
              "    </tr>\n",
              "    <tr>\n",
              "      <th>4</th>\n",
              "      <td>4.078857</td>\n",
              "      <td>8.307135</td>\n",
              "      <td>-0.004062</td>\n",
              "      <td>9.351602</td>\n",
              "      <td>6.661857</td>\n",
              "      <td>0.193607</td>\n",
              "      <td>-0.019705</td>\n",
              "      <td>0.007799</td>\n",
              "      <td>0.868582</td>\n",
              "      <td>-0.028378</td>\n",
              "      <td>20</td>\n",
              "    </tr>\n",
              "  </tbody>\n",
              "</table>\n",
              "</div>"
            ],
            "text/plain": [
              "         0          1         2         3   ...        7         8         9   10\n",
              "0  1.550508  19.483747 -0.002987  4.421460  ...  0.005496  0.931543 -0.033190  15\n",
              "1  9.683788  14.336396 -0.027154  5.100489  ...  0.002686  0.880111 -0.040193  17\n",
              "2  4.682631   8.112067 -0.012813  4.680838  ...  0.007909  0.050082 -0.053341  12\n",
              "3  7.768197   2.074808 -0.014950  7.977821  ...  0.012021  0.632768 -0.035886  16\n",
              "4  4.078857   8.307135 -0.004062  9.351602  ...  0.007799  0.868582 -0.028378  20\n",
              "\n",
              "[5 rows x 11 columns]"
            ]
          },
          "metadata": {
            "tags": []
          },
          "execution_count": 4
        }
      ]
    },
    {
      "cell_type": "markdown",
      "metadata": {
        "id": "rLeNk9SQhzg1"
      },
      "source": [
        "Feature columns are [0-9] and the target is [10]. Split the table into object and target arrays:"
      ]
    },
    {
      "cell_type": "code",
      "metadata": {
        "id": "BmgQey9Ah0aG"
      },
      "source": [
        "X = db.loc[:, db.columns != 10]\n",
        "Y = db.loc[:, db.columns == 10]"
      ],
      "execution_count": 5,
      "outputs": []
    },
    {
      "cell_type": "markdown",
      "metadata": {
        "id": "jra75HAWinf6"
      },
      "source": [
        "Now split the data into train and test"
      ]
    },
    {
      "cell_type": "code",
      "metadata": {
        "id": "ltuXF8hrij-V"
      },
      "source": [
        "from sklearn.model_selection import train_test_split"
      ],
      "execution_count": 6,
      "outputs": []
    },
    {
      "cell_type": "code",
      "metadata": {
        "id": "FHUiTcQ3itSy"
      },
      "source": [
        "RANDOM_SEED = 42"
      ],
      "execution_count": 7,
      "outputs": []
    },
    {
      "cell_type": "code",
      "metadata": {
        "id": "jaxMwyiTivqR"
      },
      "source": [
        "X_train, X_test, Y_train, Y_test = train_test_split(X, Y, test_size=0.1, random_state=RANDOM_SEED)"
      ],
      "execution_count": 8,
      "outputs": []
    },
    {
      "cell_type": "markdown",
      "metadata": {
        "id": "jd6FbS9ni6Oh"
      },
      "source": [
        "**Task 1.1 [1 point] Linear models**\n",
        "\n",
        "Import LinearRegression and define a problem with default parameters."
      ]
    },
    {
      "cell_type": "code",
      "metadata": {
        "id": "ZWzCkbV2jDpf"
      },
      "source": [
        "from sklearn.linear_model import LinearRegression"
      ],
      "execution_count": 9,
      "outputs": []
    },
    {
      "cell_type": "code",
      "metadata": {
        "id": "e-9eJoD5jF8A"
      },
      "source": [
        "model_lr = LinearRegression()"
      ],
      "execution_count": 10,
      "outputs": []
    },
    {
      "cell_type": "markdown",
      "metadata": {
        "id": "uWCRUGqSkSca"
      },
      "source": [
        "Train the model and check the quality both on train set and test set. Since we are solving a regression problem, we will use mean_squared_error as a quality metric."
      ]
    },
    {
      "cell_type": "code",
      "metadata": {
        "id": "Nh1vujBUkNjF"
      },
      "source": [
        "from sklearn.metrics import mean_squared_error"
      ],
      "execution_count": 11,
      "outputs": []
    },
    {
      "cell_type": "code",
      "metadata": {
        "id": "wQ7JGH5ukWkK",
        "outputId": "4cb3d1aa-e1f6-4472-ce0e-c225b689e52d",
        "colab": {
          "base_uri": "https://localhost:8080/",
          "height": 34
        }
      },
      "source": [
        "model_lr.fit(X_train, Y_train)\n",
        "train_pred = model_lr.predict(X_train)\n",
        "test_pred = model_lr.predict(X_test)\n",
        "train_score = mean_squared_error(Y_train, train_pred)\n",
        "test_score = mean_squared_error(Y_test, test_pred)\n",
        "\n",
        "print(\"Linear Regression scores: train: {:.3f}, test: {:3.3f}\".format(train_score, test_score))\n",
        "original_test_score = test_score"
      ],
      "execution_count": 12,
      "outputs": [
        {
          "output_type": "stream",
          "text": [
            "Linear Regression scores: train: 5.814, test: 6.916\n"
          ],
          "name": "stdout"
        }
      ]
    },
    {
      "cell_type": "markdown",
      "metadata": {
        "id": "80cVXce4mybr"
      },
      "source": [
        "Extract feature-vector from the trained model and bar-plot them."
      ]
    },
    {
      "cell_type": "code",
      "metadata": {
        "id": "U-lfnR0am1Ma",
        "outputId": "6b334274-5b73-4016-8037-2a6fe9b849f1",
        "colab": {
          "base_uri": "https://localhost:8080/",
          "height": 296
        }
      },
      "source": [
        "model_coefs = model_lr.coef_\n",
        "\n",
        "ncoef = model_coefs.shape[0]\n",
        "default_x = np.arange(ncoef)\n",
        "indexes = np.array(range(0, len(model_coefs[0])))\n",
        "\n",
        "plt.figure(figsize=(12,4))\n",
        "plt.bar(indexes, model_coefs[0])\n",
        "plt.xticks(indexes)\n",
        "plt.xlabel('Coefficient Index')\n",
        "plt.ylabel('Coefficient Magnitude')\n",
        "plt.legend(loc='upper right')\n",
        "plt.grid()\n",
        "plt.show()"
      ],
      "execution_count": 13,
      "outputs": [
        {
          "output_type": "stream",
          "text": [
            "No handles with labels found to put in legend.\n"
          ],
          "name": "stderr"
        },
        {
          "output_type": "display_data",
          "data": {
            "image/png": "[encoded data removed]",
            "text/plain": [
              "<Figure size 864x288 with 1 Axes>"
            ]
          },
          "metadata": {
            "tags": [],
            "needs_background": "light"
          }
        }
      ]
    },
    {
      "cell_type": "markdown",
      "metadata": {
        "id": "Bn-JnD_JrL-a"
      },
      "source": [
        "According to this plot, what are the most important features?"
      ]
    },
    {
      "cell_type": "markdown",
      "metadata": {
        "id": "LBjeEwgxrPdo"
      },
      "source": [
        "**Your answer here:** the 6th feature"
      ]
    },
    {
      "cell_type": "markdown",
      "metadata": {
        "id": "u-PUeE-9ru9I"
      },
      "source": [
        "Save 4 most important feature indexes to a list:"
      ]
    },
    {
      "cell_type": "code",
      "metadata": {
        "id": "50C-hiMwrxlR"
      },
      "source": [
        "important_feature_idx = [2, 6, 7, 9]"
      ],
      "execution_count": 14,
      "outputs": []
    },
    {
      "cell_type": "markdown",
      "metadata": {
        "id": "nyFXTmBUr_K5"
      },
      "source": [
        "Use these feature indexes to construct new train and test sets with smaller amount of features:"
      ]
    },
    {
      "cell_type": "code",
      "metadata": {
        "id": "1U-YVpyGr_zh"
      },
      "source": [
        "X_train_smaller = X_train[important_feature_idx]\n",
        "X_test_smaller = X_test[important_feature_idx]"
      ],
      "execution_count": 15,
      "outputs": []
    },
    {
      "cell_type": "markdown",
      "metadata": {
        "id": "-3XmDxE1slqE"
      },
      "source": [
        "Define a new LinearRegression model, train and test it on new sets:"
      ]
    },
    {
      "cell_type": "code",
      "metadata": {
        "id": "vM3Pa2dnsgxb",
        "outputId": "95660d73-ad79-4542-ee9f-1f8b77500858",
        "colab": {
          "base_uri": "https://localhost:8080/",
          "height": 34
        }
      },
      "source": [
        "smaller_model = LinearRegression()\n",
        "smaller_model.fit(X_train_smaller, Y_train)\n",
        "train_pred = smaller_model.predict(X_train_smaller)\n",
        "test_pred = smaller_model.predict(X_test_smaller)\n",
        "train_score = mean_squared_error(Y_train, train_pred)\n",
        "test_score = mean_squared_error(Y_test, test_pred)\n",
        "print(\"{} train score: {:.3f}, test score: {:3.3f}\".format('Smaller LR', train_score, test_score))"
      ],
      "execution_count": 16,
      "outputs": [
        {
          "output_type": "stream",
          "text": [
            "Smaller LR train score: 22.244, test score: 26.171\n"
          ],
          "name": "stdout"
        }
      ]
    },
    {
      "cell_type": "markdown",
      "metadata": {
        "id": "gqBRcpcQuHBY"
      },
      "source": [
        "Compare scores of model_lr (variable original_score) and smaller_model (variable smaller_test_score). We reduced number of feature but why scores changes so drastically?"
      ]
    },
    {
      "cell_type": "markdown",
      "metadata": {
        "id": "NuI4viTfuM7R"
      },
      "source": [
        "**Your answer here:**\n",
        "Misplaced priorities"
      ]
    },
    {
      "cell_type": "markdown",
      "metadata": {
        "id": "05MPv3yFNqbc"
      },
      "source": [
        "**Task 1.2 [1 point] Linear models on scaled data**\n",
        "\n",
        "It is time to fix this failure and scale the data - we should have done it earlier, since we decided to use linear models. Import the scaler and apply it to all of the data (X)"
      ]
    },
    {
      "cell_type": "code",
      "metadata": {
        "id": "H-A1NnuuNw06"
      },
      "source": [
        "from sklearn.preprocessing import StandardScaler"
      ],
      "execution_count": 17,
      "outputs": []
    },
    {
      "cell_type": "code",
      "metadata": {
        "id": "7JnrtlAzOO1W",
        "outputId": "2d478fa4-9a1d-462d-9e1e-86460ed749a2",
        "colab": {
          "base_uri": "https://localhost:8080/",
          "height": 204
        }
      },
      "source": [
        "st_scaler = StandardScaler()\n",
        "X_scaled = st_scaler.fit_transform(X)\n",
        "X_scaled = pd.DataFrame(X_scaled)\n",
        "X_scaled.head()"
      ],
      "execution_count": 18,
      "outputs": [
        {
          "output_type": "execute_result",
          "data": {
            "text/html": [
              "<div>\n",
              "<style scoped>\n",
              "    .dataframe tbody tr th:only-of-type {\n",
              "        vertical-align: middle;\n",
              "    }\n",
              "\n",
              "    .dataframe tbody tr th {\n",
              "        vertical-align: top;\n",
              "    }\n",
              "\n",
              "    .dataframe thead th {\n",
              "        text-align: right;\n",
              "    }\n",
              "</style>\n",
              "<table border=\"1\" class=\"dataframe\">\n",
              "  <thead>\n",
              "    <tr style=\"text-align: right;\">\n",
              "      <th></th>\n",
              "      <th>0</th>\n",
              "      <th>1</th>\n",
              "      <th>2</th>\n",
              "      <th>3</th>\n",
              "      <th>4</th>\n",
              "      <th>5</th>\n",
              "      <th>6</th>\n",
              "      <th>7</th>\n",
              "      <th>8</th>\n",
              "      <th>9</th>\n",
              "    </tr>\n",
              "  </thead>\n",
              "  <tbody>\n",
              "    <tr>\n",
              "      <th>0</th>\n",
              "      <td>-1.141835</td>\n",
              "      <td>1.702237</td>\n",
              "      <td>1.416003</td>\n",
              "      <td>-0.214893</td>\n",
              "      <td>-0.492513</td>\n",
              "      <td>-0.155813</td>\n",
              "      <td>-0.318232</td>\n",
              "      <td>-0.266354</td>\n",
              "      <td>1.505116</td>\n",
              "      <td>0.087923</td>\n",
              "    </tr>\n",
              "    <tr>\n",
              "      <th>1</th>\n",
              "      <td>1.626725</td>\n",
              "      <td>0.778758</td>\n",
              "      <td>-0.612272</td>\n",
              "      <td>0.024236</td>\n",
              "      <td>0.128539</td>\n",
              "      <td>0.207025</td>\n",
              "      <td>-1.146106</td>\n",
              "      <td>-1.022473</td>\n",
              "      <td>1.323372</td>\n",
              "      <td>-0.264412</td>\n",
              "    </tr>\n",
              "    <tr>\n",
              "      <th>2</th>\n",
              "      <td>-0.075664</td>\n",
              "      <td>-0.337939</td>\n",
              "      <td>0.591326</td>\n",
              "      <td>-0.123550</td>\n",
              "      <td>-1.440566</td>\n",
              "      <td>1.584462</td>\n",
              "      <td>0.648886</td>\n",
              "      <td>0.383071</td>\n",
              "      <td>-1.609707</td>\n",
              "      <td>-0.925921</td>\n",
              "    </tr>\n",
              "    <tr>\n",
              "      <th>3</th>\n",
              "      <td>0.974660</td>\n",
              "      <td>-1.421075</td>\n",
              "      <td>0.411977</td>\n",
              "      <td>1.037524</td>\n",
              "      <td>1.405249</td>\n",
              "      <td>0.294255</td>\n",
              "      <td>-0.484170</td>\n",
              "      <td>1.489914</td>\n",
              "      <td>0.449334</td>\n",
              "      <td>-0.047725</td>\n",
              "    </tr>\n",
              "    <tr>\n",
              "      <th>4</th>\n",
              "      <td>-0.281188</td>\n",
              "      <td>-0.302942</td>\n",
              "      <td>1.325804</td>\n",
              "      <td>1.521319</td>\n",
              "      <td>-0.228772</td>\n",
              "      <td>-1.099498</td>\n",
              "      <td>-0.588789</td>\n",
              "      <td>0.353585</td>\n",
              "      <td>1.282631</td>\n",
              "      <td>0.330033</td>\n",
              "    </tr>\n",
              "  </tbody>\n",
              "</table>\n",
              "</div>"
            ],
            "text/plain": [
              "          0         1         2  ...         7         8         9\n",
              "0 -1.141835  1.702237  1.416003  ... -0.266354  1.505116  0.087923\n",
              "1  1.626725  0.778758 -0.612272  ... -1.022473  1.323372 -0.264412\n",
              "2 -0.075664 -0.337939  0.591326  ...  0.383071 -1.609707 -0.925921\n",
              "3  0.974660 -1.421075  0.411977  ...  1.489914  0.449334 -0.047725\n",
              "4 -0.281188 -0.302942  1.325804  ...  0.353585  1.282631  0.330033\n",
              "\n",
              "[5 rows x 10 columns]"
            ]
          },
          "metadata": {
            "tags": []
          },
          "execution_count": 18
        }
      ]
    },
    {
      "cell_type": "markdown",
      "metadata": {
        "id": "bww0Ku03P0il"
      },
      "source": [
        "Now we repeat all the steps:\n",
        "\n",
        "\n",
        "*   split the data\n",
        "*   train a model on all features\n",
        "*   plot coefficients\n",
        "*   choose 4 most-important features\n",
        "*   train a model on a feature-subset\n",
        "*   compare the scores\n",
        "*   profit!\n",
        "\n"
      ]
    },
    {
      "cell_type": "code",
      "metadata": {
        "id": "E2GmXTOQQIHk"
      },
      "source": [
        "X_sc_train, X_sc_test, Y_sc_train, Y_sc_test = train_test_split(X_scaled, Y, test_size=0.1, random_state=RANDOM_SEED)"
      ],
      "execution_count": 19,
      "outputs": []
    },
    {
      "cell_type": "code",
      "metadata": {
        "id": "4Dw8eALSSWFT",
        "outputId": "ba3f32c6-6b77-4b08-a812-dcae246f6333",
        "colab": {
          "base_uri": "https://localhost:8080/",
          "height": 34
        }
      },
      "source": [
        "model_lr_sc = LinearRegression()\n",
        "model_lr_sc.fit(X_sc_train, Y_sc_train)\n",
        "train_pred = model_lr_sc.predict(X_sc_train)\n",
        "test_pred = model_lr_sc.predict(X_sc_test)\n",
        "train_score = mean_squared_error(Y_sc_train, train_pred)\n",
        "test_score = mean_squared_error(Y_sc_test, test_pred)\n",
        "print(\"Linear Regression on Scaled Data scores: train: {:.3f}, test: {:3.3f}\".format(train_score, test_score))"
      ],
      "execution_count": 20,
      "outputs": [
        {
          "output_type": "stream",
          "text": [
            "Linear Regression on Scaled Data scores: train: 5.814, test: 6.916\n"
          ],
          "name": "stdout"
        }
      ]
    },
    {
      "cell_type": "code",
      "metadata": {
        "id": "trpq0Cw6We8V",
        "outputId": "a876f47c-5fd2-4e90-da9b-8848cccee30a",
        "colab": {
          "base_uri": "https://localhost:8080/",
          "height": 279
        }
      },
      "source": [
        "model_coefs = model_lr_sc.coef_\n",
        "\n",
        "ncoef = model_coefs.shape[0]\n",
        "default_x = np.arange(ncoef)\n",
        "indexes = np.array(range(0, len(model_coefs[0])))\n",
        "\n",
        "plt.figure(figsize=(12,4))\n",
        "plt.bar(indexes, model_coefs[0], label=model_lr_sc, width=0.5, color = 'red')\n",
        "plt.xticks(indexes)\n",
        "plt.xlabel('Coefficient Index')\n",
        "plt.ylabel('Coefficient Magnitude')\n",
        "plt.legend(loc='upper right')\n",
        "plt.grid()\n",
        "plt.show()"
      ],
      "execution_count": 21,
      "outputs": [
        {
          "output_type": "display_data",
          "data": {
            "image/png": "[encoded data removed]",
            "text/plain": [
              "<Figure size 864x288 with 1 Axes>"
            ]
          },
          "metadata": {
            "tags": [],
            "needs_background": "light"
          }
        }
      ]
    },
    {
      "cell_type": "markdown",
      "metadata": {
        "id": "pHCijlbmXRp-"
      },
      "source": [
        "What are the most important features now? Let's do the sanity check and train on this subset: "
      ]
    },
    {
      "cell_type": "code",
      "metadata": {
        "id": "g4lcXN5fXZZ2"
      },
      "source": [
        "important_feature_idx = [0, 1, 3, 4]"
      ],
      "execution_count": 22,
      "outputs": []
    },
    {
      "cell_type": "code",
      "metadata": {
        "id": "5zFZgeEKXj8x"
      },
      "source": [
        "X_sc_train_smaller = X_sc_train[important_feature_idx]\n",
        "X_sc_test_smaller = X_sc_test[important_feature_idx]"
      ],
      "execution_count": 23,
      "outputs": []
    },
    {
      "cell_type": "code",
      "metadata": {
        "id": "Rh4m39UXXvEd",
        "outputId": "c5dc13a4-b9fa-41a5-f3f6-2f8c077e587c",
        "colab": {
          "base_uri": "https://localhost:8080/",
          "height": 34
        }
      },
      "source": [
        "model_lr_sc_smaller = LinearRegression()\n",
        "model_lr_sc_smaller.fit(X_sc_train_smaller, Y_sc_train)\n",
        "train_pred = model_lr_sc_smaller.predict(X_sc_train_smaller)\n",
        "test_pred = model_lr_sc_smaller.predict(X_sc_test_smaller)\n",
        "train_score = mean_squared_error(Y_sc_train, train_pred)\n",
        "test_score = mean_squared_error(Y_sc_test, test_pred)\n",
        "print(\"Linear Regression on Scaled Data scores: train: {:.3f}, test: {:3.3f}\".format(train_score, test_score))"
      ],
      "execution_count": 24,
      "outputs": [
        {
          "output_type": "stream",
          "text": [
            "Linear Regression on Scaled Data scores: train: 5.841, test: 6.856\n"
          ],
          "name": "stdout"
        }
      ]
    },
    {
      "cell_type": "markdown",
      "metadata": {
        "id": "0UTvXoVUasgd"
      },
      "source": [
        "Has **MSE** changed? To what extent?\n",
        "\n",
        "**Your answer here:**\n",
        "Minor improvement on validation"
      ]
    },
    {
      "cell_type": "markdown",
      "metadata": {
        "id": "c3QUP6ORLBJ5"
      },
      "source": [
        "**Task 2 [2 points] Decision Tree**"
      ]
    },
    {
      "cell_type": "markdown",
      "metadata": {
        "id": "_sVxN2xULC-M"
      },
      "source": [
        "As you probably now, there are models that are not influence by the fact that data is not normalized: for example, Decision Tree or Random Forest.\n",
        "\n",
        "Since you already have all the sets prepared: X_train and X_sc_train, train a RF model and prove that scaling does not affect feature importances.\n",
        "\n",
        "Then compare durations of training loops for a set with 10 features and 4 features."
      ]
    },
    {
      "cell_type": "code",
      "metadata": {
        "id": "bB0E90ala1zY"
      },
      "source": [
        "from sklearn.ensemble import RandomForestRegressor"
      ],
      "execution_count": 25,
      "outputs": []
    },
    {
      "cell_type": "code",
      "metadata": {
        "id": "oOL4umxmLW8e"
      },
      "source": [
        "rf = RandomForestRegressor()\n",
        "rf_scaled = RandomForestRegressor()"
      ],
      "execution_count": 26,
      "outputs": []
    },
    {
      "cell_type": "code",
      "metadata": {
        "id": "KDX0LspmMXDa",
        "outputId": "b30f5d90-33c1-4657-cf4c-52a8dcfe7a38",
        "colab": {
          "base_uri": "https://localhost:8080/",
          "height": 139
        }
      },
      "source": [
        "rf.fit(X_train, Y_train)\n",
        "rf_scaled.fit(X_sc_train, Y_sc_train)\n",
        "rf_test_score = mean_squared_error(Y_test, rf.predict(X_test))\n",
        "rf_scaled_test_score = mean_squared_error(Y_sc_test, rf_scaled.predict(X_sc_test))\n",
        "print(\"RF test score {:.3f}\".format(rf_test_score))\n",
        "print(\"RF scaled test score {:.3f}\".format(rf_scaled_test_score))"
      ],
      "execution_count": 27,
      "outputs": [
        {
          "output_type": "stream",
          "text": [
            "/usr/local/lib/python3.6/dist-packages/ipykernel_launcher.py:1: DataConversionWarning: A column-vector y was passed when a 1d array was expected. Please change the shape of y to (n_samples,), for example using ravel().\n",
            "  \"\"\"Entry point for launching an IPython kernel.\n",
            "/usr/local/lib/python3.6/dist-packages/ipykernel_launcher.py:2: DataConversionWarning: A column-vector y was passed when a 1d array was expected. Please change the shape of y to (n_samples,), for example using ravel().\n",
            "  \n"
          ],
          "name": "stderr"
        },
        {
          "output_type": "stream",
          "text": [
            "RF test score 3.071\n",
            "RF scaled test score 3.029\n"
          ],
          "name": "stdout"
        }
      ]
    },
    {
      "cell_type": "code",
      "metadata": {
        "id": "0IKyhYuQPZfD",
        "outputId": "0f1e97c2-0179-4bf0-dbd9-cf0accafa5e8",
        "colab": {
          "base_uri": "https://localhost:8080/",
          "height": 51
        }
      },
      "source": [
        "rf.feature_importances_"
      ],
      "execution_count": 28,
      "outputs": [
        {
          "output_type": "execute_result",
          "data": {
            "text/plain": [
              "array([0.25391266, 0.21407649, 0.05459466, 0.33541293, 0.08886369,\n",
              "       0.01117227, 0.01144193, 0.00964321, 0.00914207, 0.0117401 ])"
            ]
          },
          "metadata": {
            "tags": []
          },
          "execution_count": 28
        }
      ]
    },
    {
      "cell_type": "code",
      "metadata": {
        "id": "mzuz4coUQs5n",
        "outputId": "0785c9b1-20f3-4782-f5a3-f691e902e026",
        "colab": {
          "base_uri": "https://localhost:8080/",
          "height": 51
        }
      },
      "source": [
        "rf_scaled.feature_importances_"
      ],
      "execution_count": 29,
      "outputs": [
        {
          "output_type": "execute_result",
          "data": {
            "text/plain": [
              "array([0.25603131, 0.20878998, 0.05486376, 0.34011402, 0.08978275,\n",
              "       0.00987275, 0.01118465, 0.00875265, 0.00944224, 0.01116589])"
            ]
          },
          "metadata": {
            "tags": []
          },
          "execution_count": 29
        }
      ]
    },
    {
      "cell_type": "code",
      "metadata": {
        "id": "gwfOVj_nQYUj",
        "outputId": "1af4dc38-1557-4ba4-e145-703a64015159",
        "colab": {
          "base_uri": "https://localhost:8080/",
          "height": 279
        }
      },
      "source": [
        "rf_model_coefs = rf.feature_importances_\n",
        "rf_scaled__model_coefs = rf_scaled.feature_importances_\n",
        "ncoef = rf_model_coefs.shape[0]\n",
        "default_x = np.arange(ncoef)\n",
        "\n",
        "plt.figure(figsize=(12,4))\n",
        "plt.bar(default_x - 0.1, rf_model_coefs, label=\"RF\", width=0.1, color = 'red')\n",
        "plt.bar(default_x + 0.1, rf_scaled__model_coefs, label=\"RF Scaled\", width=0.1, color = 'blue')\n",
        "plt.xticks(default_x)\n",
        "plt.xlabel('Coefficient Index')\n",
        "plt.ylabel('Coefficient Magnitude')\n",
        "plt.legend(loc='upper right')\n",
        "plt.grid()\n",
        "plt.show()"
      ],
      "execution_count": 30,
      "outputs": [
        {
          "output_type": "display_data",
          "data": {
            "image/png": "[encoded data removed]",
            "text/plain": [
              "<Figure size 864x288 with 1 Axes>"
            ]
          },
          "metadata": {
            "tags": [],
            "needs_background": "light"
          }
        }
      ]
    },
    {
      "cell_type": "markdown",
      "metadata": {
        "id": "zVRiZ1sGTSed"
      },
      "source": [
        "**Your Comment on the plot:**\n",
        "The algorithm does not care whether the data is standardized or not"
      ]
    },
    {
      "cell_type": "markdown",
      "metadata": {
        "id": "1DAQ0gLRTTsO"
      },
      "source": [
        "Now examine how reduction of . You may use time module.\n",
        "\n",
        "Here is an example:"
      ]
    },
    {
      "cell_type": "code",
      "metadata": {
        "id": "H5cL8pXpTYYi",
        "outputId": "eef9bbef-f130-4e6d-9a94-0e92027e70bf",
        "colab": {
          "base_uri": "https://localhost:8080/",
          "height": 68
        }
      },
      "source": [
        "from time import time\n",
        "\n",
        "n = 1000\n",
        "a = np.diag(np.ones(n)) + np.random.rand(n, n)\n",
        "\n",
        "start = time()\n",
        "det = np.linalg.det(a)\n",
        "end = time()\n",
        "print(\"{} x {} matrix determinant took {:.3f} seconds\".format(n, n, end - start))"
      ],
      "execution_count": 31,
      "outputs": [
        {
          "output_type": "stream",
          "text": [
            "1000 x 1000 matrix determinant took 0.044 seconds\n"
          ],
          "name": "stdout"
        },
        {
          "output_type": "stream",
          "text": [
            "/usr/local/lib/python3.6/dist-packages/numpy/linalg/linalg.py:2116: RuntimeWarning: overflow encountered in det\n",
            "  r = _umath_linalg.det(a, signature=signature)\n"
          ],
          "name": "stderr"
        }
      ]
    },
    {
      "cell_type": "code",
      "metadata": {
        "id": "f6bykM7vAoJv"
      },
      "source": [
        "rf1 = RandomForestRegressor()\n",
        "rf2 = RandomForestRegressor()"
      ],
      "execution_count": 32,
      "outputs": []
    },
    {
      "cell_type": "code",
      "metadata": {
        "id": "sLVjUuLBBdGm",
        "outputId": "ae9e511b-edac-4df1-bf07-a20940362c6b",
        "colab": {
          "base_uri": "https://localhost:8080/",
          "height": 88
        }
      },
      "source": [
        "start = time()\n",
        "rf1.fit(X_train, Y_train)\n",
        "end = time()\n",
        "print(\"fit took {:.3f} seconds\".format(end - start))"
      ],
      "execution_count": 33,
      "outputs": [
        {
          "output_type": "stream",
          "text": [
            "/usr/local/lib/python3.6/dist-packages/ipykernel_launcher.py:2: DataConversionWarning: A column-vector y was passed when a 1d array was expected. Please change the shape of y to (n_samples,), for example using ravel().\n",
            "  \n"
          ],
          "name": "stderr"
        },
        {
          "output_type": "stream",
          "text": [
            "fit took 0.581 seconds\n"
          ],
          "name": "stdout"
        }
      ]
    },
    {
      "cell_type": "code",
      "metadata": {
        "id": "wyhrlp5SB4sa",
        "outputId": "9300879a-5002-4f3b-d5ab-23f9242049eb",
        "colab": {
          "base_uri": "https://localhost:8080/",
          "height": 88
        }
      },
      "source": [
        "start = time()\n",
        "rf2.fit(X_sc_train_smaller, Y_train)\n",
        "end = time()\n",
        "print(\"fit took {:.3f} seconds\".format(end - start))"
      ],
      "execution_count": 34,
      "outputs": [
        {
          "output_type": "stream",
          "text": [
            "/usr/local/lib/python3.6/dist-packages/ipykernel_launcher.py:2: DataConversionWarning: A column-vector y was passed when a 1d array was expected. Please change the shape of y to (n_samples,), for example using ravel().\n",
            "  \n"
          ],
          "name": "stderr"
        },
        {
          "output_type": "stream",
          "text": [
            "fit took 0.332 seconds\n"
          ],
          "name": "stdout"
        }
      ]
    },
    {
      "cell_type": "markdown",
      "metadata": {
        "id": "hVBnE-jNCErj"
      },
      "source": [
        "## **Part 2. GridSearch: hyperparameter tuning [11 points]**"
      ]
    },
    {
      "cell_type": "markdown",
      "metadata": {
        "id": "hrm9ViocCKy7"
      },
      "source": [
        "In this part we will try to solve a multiclass classification task on Richter's dataset (source). The aim is to predict damage rate (label from 1 to 3).\n",
        "\n",
        "We will experiment with following models:\n",
        "\n",
        "\n",
        "*   kNN\n",
        "*   LinearRegression\n",
        "*   DecisionTree\n",
        "*   RandomForest\n",
        "\n"
      ]
    },
    {
      "cell_type": "code",
      "metadata": {
        "id": "wQSQ6kIMCafh"
      },
      "source": [
        "import numpy as np\n",
        "import pandas as pd\n",
        "import matplotlib.pyplot as plt\n",
        "%matplotlib inline"
      ],
      "execution_count": 35,
      "outputs": []
    },
    {
      "cell_type": "markdown",
      "metadata": {
        "id": "EdzbPLqJCw3b"
      },
      "source": [
        "Read the data, transform the table into arrays X and y, target column is called damage_grade. Note that objects are described with both numerical and categorical features. In the first part of this assignment we will use numerical features only (apply _get_numeric_data() to pandas dataframe).\n",
        "\n",
        "Split the data into train, test and val with ratio 4-to-2-to-1. Since we are going to use metric classifiers, don't forget to preprocess the data."
      ]
    },
    {
      "cell_type": "code",
      "metadata": {
        "id": "bji4s_hsCuVD"
      },
      "source": [
        "RANDOM_SEED = 42"
      ],
      "execution_count": 36,
      "outputs": []
    },
    {
      "cell_type": "code",
      "metadata": {
        "id": "yyJ0qI8sDGdV"
      },
      "source": [
        "from sklearn.model_selection import train_test_split\n",
        "\n",
        "from sklearn.preprocessing import StandardScaler\n",
        "from sklearn.preprocessing import MinMaxScaler"
      ],
      "execution_count": 37,
      "outputs": []
    },
    {
      "cell_type": "code",
      "metadata": {
        "id": "TDSM7sI5DJ7P"
      },
      "source": [
        "data = pd.read_csv(\"/gdrive/My Drive/dataset/msu/richters_sample.csv\")\n",
        "objects = data.drop(columns=\"damage_grade\")\n",
        "labels = data[\"damage_grade\"]"
      ],
      "execution_count": 38,
      "outputs": []
    },
    {
      "cell_type": "code",
      "metadata": {
        "id": "hvYM6CviDlpD",
        "outputId": "f62a8126-b55e-43dc-be1f-5cc678f0c60c",
        "colab": {
          "base_uri": "https://localhost:8080/",
          "height": 224
        }
      },
      "source": [
        "objects.head()"
      ],
      "execution_count": 39,
      "outputs": [
        {
          "output_type": "execute_result",
          "data": {
            "text/html": [
              "<div>\n",
              "<style scoped>\n",
              "    .dataframe tbody tr th:only-of-type {\n",
              "        vertical-align: middle;\n",
              "    }\n",
              "\n",
              "    .dataframe tbody tr th {\n",
              "        vertical-align: top;\n",
              "    }\n",
              "\n",
              "    .dataframe thead th {\n",
              "        text-align: right;\n",
              "    }\n",
              "</style>\n",
              "<table border=\"1\" class=\"dataframe\">\n",
              "  <thead>\n",
              "    <tr style=\"text-align: right;\">\n",
              "      <th></th>\n",
              "      <th>building_id</th>\n",
              "      <th>geo_level_1_id</th>\n",
              "      <th>geo_level_2_id</th>\n",
              "      <th>geo_level_3_id</th>\n",
              "      <th>count_floors_pre_eq</th>\n",
              "      <th>age</th>\n",
              "      <th>area_percentage</th>\n",
              "      <th>height_percentage</th>\n",
              "      <th>land_surface_condition</th>\n",
              "      <th>foundation_type</th>\n",
              "      <th>roof_type</th>\n",
              "      <th>ground_floor_type</th>\n",
              "      <th>other_floor_type</th>\n",
              "      <th>position</th>\n",
              "      <th>plan_configuration</th>\n",
              "      <th>has_superstructure_adobe_mud</th>\n",
              "      <th>has_superstructure_mud_mortar_stone</th>\n",
              "      <th>has_superstructure_stone_flag</th>\n",
              "      <th>has_superstructure_cement_mortar_stone</th>\n",
              "      <th>has_superstructure_mud_mortar_brick</th>\n",
              "      <th>has_superstructure_cement_mortar_brick</th>\n",
              "      <th>has_superstructure_timber</th>\n",
              "      <th>has_superstructure_bamboo</th>\n",
              "      <th>has_superstructure_rc_non_engineered</th>\n",
              "      <th>has_superstructure_rc_engineered</th>\n",
              "      <th>has_superstructure_other</th>\n",
              "      <th>legal_ownership_status</th>\n",
              "      <th>count_families</th>\n",
              "      <th>has_secondary_use</th>\n",
              "      <th>has_secondary_use_agriculture</th>\n",
              "      <th>has_secondary_use_hotel</th>\n",
              "      <th>has_secondary_use_rental</th>\n",
              "      <th>has_secondary_use_institution</th>\n",
              "      <th>has_secondary_use_school</th>\n",
              "      <th>has_secondary_use_industry</th>\n",
              "      <th>has_secondary_use_health_post</th>\n",
              "      <th>has_secondary_use_gov_office</th>\n",
              "      <th>has_secondary_use_use_police</th>\n",
              "      <th>has_secondary_use_other</th>\n",
              "    </tr>\n",
              "  </thead>\n",
              "  <tbody>\n",
              "    <tr>\n",
              "      <th>0</th>\n",
              "      <td>1030261</td>\n",
              "      <td>27</td>\n",
              "      <td>269</td>\n",
              "      <td>8954</td>\n",
              "      <td>4</td>\n",
              "      <td>45</td>\n",
              "      <td>8</td>\n",
              "      <td>10</td>\n",
              "      <td>t</td>\n",
              "      <td>r</td>\n",
              "      <td>q</td>\n",
              "      <td>f</td>\n",
              "      <td>x</td>\n",
              "      <td>j</td>\n",
              "      <td>d</td>\n",
              "      <td>0</td>\n",
              "      <td>0</td>\n",
              "      <td>0</td>\n",
              "      <td>0</td>\n",
              "      <td>1</td>\n",
              "      <td>0</td>\n",
              "      <td>0</td>\n",
              "      <td>0</td>\n",
              "      <td>0</td>\n",
              "      <td>0</td>\n",
              "      <td>0</td>\n",
              "      <td>v</td>\n",
              "      <td>1</td>\n",
              "      <td>0</td>\n",
              "      <td>0</td>\n",
              "      <td>0</td>\n",
              "      <td>0</td>\n",
              "      <td>0</td>\n",
              "      <td>0</td>\n",
              "      <td>0</td>\n",
              "      <td>0</td>\n",
              "      <td>0</td>\n",
              "      <td>0</td>\n",
              "      <td>0</td>\n",
              "    </tr>\n",
              "    <tr>\n",
              "      <th>1</th>\n",
              "      <td>419144</td>\n",
              "      <td>11</td>\n",
              "      <td>765</td>\n",
              "      <td>2964</td>\n",
              "      <td>2</td>\n",
              "      <td>65</td>\n",
              "      <td>6</td>\n",
              "      <td>5</td>\n",
              "      <td>t</td>\n",
              "      <td>r</td>\n",
              "      <td>n</td>\n",
              "      <td>f</td>\n",
              "      <td>q</td>\n",
              "      <td>s</td>\n",
              "      <td>d</td>\n",
              "      <td>1</td>\n",
              "      <td>1</td>\n",
              "      <td>0</td>\n",
              "      <td>0</td>\n",
              "      <td>0</td>\n",
              "      <td>0</td>\n",
              "      <td>0</td>\n",
              "      <td>0</td>\n",
              "      <td>0</td>\n",
              "      <td>0</td>\n",
              "      <td>0</td>\n",
              "      <td>v</td>\n",
              "      <td>1</td>\n",
              "      <td>0</td>\n",
              "      <td>0</td>\n",
              "      <td>0</td>\n",
              "      <td>0</td>\n",
              "      <td>0</td>\n",
              "      <td>0</td>\n",
              "      <td>0</td>\n",
              "      <td>0</td>\n",
              "      <td>0</td>\n",
              "      <td>0</td>\n",
              "      <td>0</td>\n",
              "    </tr>\n",
              "    <tr>\n",
              "      <th>2</th>\n",
              "      <td>543923</td>\n",
              "      <td>22</td>\n",
              "      <td>378</td>\n",
              "      <td>9559</td>\n",
              "      <td>2</td>\n",
              "      <td>30</td>\n",
              "      <td>10</td>\n",
              "      <td>4</td>\n",
              "      <td>t</td>\n",
              "      <td>r</td>\n",
              "      <td>n</td>\n",
              "      <td>f</td>\n",
              "      <td>q</td>\n",
              "      <td>s</td>\n",
              "      <td>d</td>\n",
              "      <td>0</td>\n",
              "      <td>1</td>\n",
              "      <td>0</td>\n",
              "      <td>0</td>\n",
              "      <td>0</td>\n",
              "      <td>0</td>\n",
              "      <td>0</td>\n",
              "      <td>0</td>\n",
              "      <td>0</td>\n",
              "      <td>0</td>\n",
              "      <td>0</td>\n",
              "      <td>v</td>\n",
              "      <td>1</td>\n",
              "      <td>0</td>\n",
              "      <td>0</td>\n",
              "      <td>0</td>\n",
              "      <td>0</td>\n",
              "      <td>0</td>\n",
              "      <td>0</td>\n",
              "      <td>0</td>\n",
              "      <td>0</td>\n",
              "      <td>0</td>\n",
              "      <td>0</td>\n",
              "      <td>0</td>\n",
              "    </tr>\n",
              "    <tr>\n",
              "      <th>3</th>\n",
              "      <td>495911</td>\n",
              "      <td>10</td>\n",
              "      <td>310</td>\n",
              "      <td>6799</td>\n",
              "      <td>2</td>\n",
              "      <td>10</td>\n",
              "      <td>5</td>\n",
              "      <td>4</td>\n",
              "      <td>t</td>\n",
              "      <td>w</td>\n",
              "      <td>n</td>\n",
              "      <td>f</td>\n",
              "      <td>q</td>\n",
              "      <td>s</td>\n",
              "      <td>d</td>\n",
              "      <td>1</td>\n",
              "      <td>0</td>\n",
              "      <td>0</td>\n",
              "      <td>0</td>\n",
              "      <td>0</td>\n",
              "      <td>0</td>\n",
              "      <td>1</td>\n",
              "      <td>1</td>\n",
              "      <td>0</td>\n",
              "      <td>0</td>\n",
              "      <td>0</td>\n",
              "      <td>v</td>\n",
              "      <td>1</td>\n",
              "      <td>0</td>\n",
              "      <td>0</td>\n",
              "      <td>0</td>\n",
              "      <td>0</td>\n",
              "      <td>0</td>\n",
              "      <td>0</td>\n",
              "      <td>0</td>\n",
              "      <td>0</td>\n",
              "      <td>0</td>\n",
              "      <td>0</td>\n",
              "      <td>0</td>\n",
              "    </tr>\n",
              "    <tr>\n",
              "      <th>4</th>\n",
              "      <td>347963</td>\n",
              "      <td>18</td>\n",
              "      <td>321</td>\n",
              "      <td>2911</td>\n",
              "      <td>1</td>\n",
              "      <td>20</td>\n",
              "      <td>15</td>\n",
              "      <td>2</td>\n",
              "      <td>t</td>\n",
              "      <td>r</td>\n",
              "      <td>q</td>\n",
              "      <td>x</td>\n",
              "      <td>j</td>\n",
              "      <td>t</td>\n",
              "      <td>d</td>\n",
              "      <td>0</td>\n",
              "      <td>1</td>\n",
              "      <td>0</td>\n",
              "      <td>0</td>\n",
              "      <td>0</td>\n",
              "      <td>0</td>\n",
              "      <td>0</td>\n",
              "      <td>0</td>\n",
              "      <td>0</td>\n",
              "      <td>0</td>\n",
              "      <td>0</td>\n",
              "      <td>v</td>\n",
              "      <td>1</td>\n",
              "      <td>0</td>\n",
              "      <td>0</td>\n",
              "      <td>0</td>\n",
              "      <td>0</td>\n",
              "      <td>0</td>\n",
              "      <td>0</td>\n",
              "      <td>0</td>\n",
              "      <td>0</td>\n",
              "      <td>0</td>\n",
              "      <td>0</td>\n",
              "      <td>0</td>\n",
              "    </tr>\n",
              "  </tbody>\n",
              "</table>\n",
              "</div>"
            ],
            "text/plain": [
              "   building_id  ...  has_secondary_use_other\n",
              "0      1030261  ...                        0\n",
              "1       419144  ...                        0\n",
              "2       543923  ...                        0\n",
              "3       495911  ...                        0\n",
              "4       347963  ...                        0\n",
              "\n",
              "[5 rows x 39 columns]"
            ]
          },
          "metadata": {
            "tags": []
          },
          "execution_count": 39
        }
      ]
    },
    {
      "cell_type": "code",
      "metadata": {
        "id": "FMpuwU5zDzot",
        "outputId": "7ddd9c18-19c4-4ea4-a14f-63ef818d90f5",
        "colab": {
          "base_uri": "https://localhost:8080/",
          "height": 34
        }
      },
      "source": [
        "labels.unique()"
      ],
      "execution_count": 40,
      "outputs": [
        {
          "output_type": "execute_result",
          "data": {
            "text/plain": [
              "array([2, 3, 1])"
            ]
          },
          "metadata": {
            "tags": []
          },
          "execution_count": 40
        }
      ]
    },
    {
      "cell_type": "code",
      "metadata": {
        "id": "MNdIS3MLEo1w",
        "outputId": "4813e910-59f3-470f-c8fc-0aafa3a62a73",
        "colab": {
          "base_uri": "https://localhost:8080/",
          "height": 771
        }
      },
      "source": [
        "import missingno\n",
        "missingno.bar(objects)"
      ],
      "execution_count": 41,
      "outputs": [
        {
          "output_type": "execute_result",
          "data": {
            "text/plain": [
              "<matplotlib.axes._subplots.AxesSubplot at 0x7fdec2dae5f8>"
            ]
          },
          "metadata": {
            "tags": []
          },
          "execution_count": 41
        },
        {
          "output_type": "display_data",
          "data": {
            "image/png": "[encoded data removed]",
            "text/plain": [
              "<Figure size 1728x720 with 3 Axes>"
            ]
          },
          "metadata": {
            "tags": [],
            "needs_background": "light"
          }
        }
      ]
    },
    {
      "cell_type": "code",
      "metadata": {
        "id": "krqQk0i3FYXX"
      },
      "source": [
        "X = objects._get_numeric_data()\n",
        "y = labels.copy()\n",
        "\n",
        "assert X.shape == (35000, 31) and  y.shape == (35000,)"
      ],
      "execution_count": 42,
      "outputs": []
    },
    {
      "cell_type": "code",
      "metadata": {
        "id": "9qyVA68CGQmu"
      },
      "source": [
        "scaler = StandardScaler()\n",
        "X = scaler.fit_transform(X)"
      ],
      "execution_count": 43,
      "outputs": []
    },
    {
      "cell_type": "code",
      "metadata": {
        "id": "nEjTCt75GYl9"
      },
      "source": [
        "X_train, X_not_train, y_train, y_not_train = train_test_split(X, y, test_size= 3/7, \n",
        "                                                    shuffle=True, stratify= y,\n",
        "                                                    random_state=RANDOM_SEED)\n",
        "\n",
        "X_test, X_val, y_test, y_val = train_test_split(X_not_train, y_not_train, test_size= 1/3, \n",
        "                                                    shuffle=True, stratify= y_not_train,\n",
        "                                                    random_state=RANDOM_SEED)\n",
        "\n",
        "assert X_train.shape[0] == 20000 and X_test.shape[0] == 10000 and X_val.shape[0] == 5000"
      ],
      "execution_count": 44,
      "outputs": []
    },
    {
      "cell_type": "markdown",
      "metadata": {
        "id": "rfC-JsfXIoLG"
      },
      "source": [
        "Import the models:"
      ]
    },
    {
      "cell_type": "code",
      "metadata": {
        "id": "8uDs16ONIc9n"
      },
      "source": [
        "from sklearn.neighbors import KNeighborsClassifier\n",
        "from sklearn.linear_model import LogisticRegression\n",
        "from sklearn.tree import DecisionTreeClassifier\n",
        "from sklearn.ensemble import RandomForestClassifier"
      ],
      "execution_count": 45,
      "outputs": []
    },
    {
      "cell_type": "markdown",
      "metadata": {
        "id": "xo2vvWV4IzqS"
      },
      "source": [
        "Import classification quality metrics:"
      ]
    },
    {
      "cell_type": "code",
      "metadata": {
        "id": "daN3S_HhItLs"
      },
      "source": [
        "from sklearn.metrics import accuracy_score, precision_score, recall_score"
      ],
      "execution_count": 46,
      "outputs": []
    },
    {
      "cell_type": "markdown",
      "metadata": {
        "id": "CpklMrLtI9g4"
      },
      "source": [
        "**Task 2.1 [2 points]. Default-parameter models**\n",
        "\n",
        "Let's take 4 classifiers (1 of a kind) with \n",
        "**default** \n",
        "parameters and check how well they can perform."
      ]
    },
    {
      "cell_type": "code",
      "metadata": {
        "id": "F_Y_Y84sI3wz"
      },
      "source": [
        "clf1 = KNeighborsClassifier()\n",
        "clf2 = LogisticRegression()\n",
        "clf3 = DecisionTreeClassifier()\n",
        "clf4 = RandomForestClassifier()\n",
        "\n",
        "default_classifiers = [clf1, clf2, clf3, clf4]"
      ],
      "execution_count": 47,
      "outputs": []
    },
    {
      "cell_type": "markdown",
      "metadata": {
        "id": "Gfhxm4NvJQQX"
      },
      "source": [
        "Fit each classifier on X_train, y_train, predict on X_test"
      ]
    },
    {
      "cell_type": "code",
      "metadata": {
        "id": "BmHwz2g-JLec"
      },
      "source": [
        "clf_predictions = []\n",
        "for clf in default_classifiers:\n",
        "    clf.fit(X_train, y_train)  \n",
        "    pred = clf.predict(X_test)\n",
        "    clf_predictions.append(pred)"
      ],
      "execution_count": 48,
      "outputs": []
    },
    {
      "cell_type": "markdown",
      "metadata": {
        "id": "yXzWFR7ye9tN"
      },
      "source": [
        "Apply 5 metrics to each prediction:"
      ]
    },
    {
      "cell_type": "code",
      "metadata": {
        "id": "uWQdnmHmem5I"
      },
      "source": [
        "accuracies = [accuracy_score(y_test, pred) for pred in clf_predictions]\n",
        "micro_precisions = [precision_score(y_test, pred, average=\"micro\", zero_division=1) for pred in clf_predictions] \n",
        "micro_recalls = [recall_score(y_test, pred, average='micro', zero_division=1) for pred in clf_predictions]\n",
        "macro_precisions = [precision_score(y_test, pred, average=\"macro\", zero_division=1) for pred in clf_predictions]\n",
        "macro_recalls = [recall_score(y_test, pred, average='macro', zero_division=1) for pred in clf_predictions]\n",
        "\n",
        "scores = [accuracies, micro_precisions, micro_recalls, macro_precisions, macro_recalls]\n",
        "names = [\"Accuracies\", \"Micro-Precisions\", \"Micro-Recalls\",  \"Macro-Precisions\", \"Macro-Recalls\"]"
      ],
      "execution_count": 49,
      "outputs": []
    },
    {
      "cell_type": "code",
      "metadata": {
        "id": "pDn6e5u9gfWS",
        "outputId": "13e857fb-e0e5-450a-e098-34a2b07422ca",
        "colab": {
          "base_uri": "https://localhost:8080/",
          "height": 336
        }
      },
      "source": [
        "fig, axs = plt.subplots(nrows=1, ncols=5, figsize=(20, 5), sharey=True)\n",
        "plt.setp(axs, ylim=(0, 1))\n",
        "\n",
        "xlabels = [\"knn\", \"linear\", \"dt\", \"rf\"]\n",
        "colors = [\"yellow\", \"red\", \"blue\", \"green\"]\n",
        "xticks = 1 + np.arange(len(xlabels))\n",
        "\n",
        "for ax, score, name in zip(axs, scores, names):\n",
        "    ax.bar(xticks, score, color=colors)\n",
        "    for i, v in enumerate(score):\n",
        "        ax.text(xticks[i] - 0.25, v + 0.01, \"{:.2f}\".format(v))\n",
        "    ax.set_xticks(xticks)\n",
        "    ax.set_xticklabels(xlabels)\n",
        "    ax.set_title(name)\n",
        "    ax.grid()\n",
        "\n",
        "plt.show()"
      ],
      "execution_count": 50,
      "outputs": [
        {
          "output_type": "display_data",
          "data": {
            "image/png": "[encoded data removed]",
            "text/plain": [
              "<Figure size 1440x360 with 5 Axes>"
            ]
          },
          "metadata": {
            "tags": [],
            "needs_background": "light"
          }
        }
      ]
    },
    {
      "cell_type": "markdown",
      "metadata": {
        "id": "84KWh-hGgr40"
      },
      "source": [
        "Choose the model with the biggest gap between micro-precision and macro-precision and plot its confusion matrix. For confusion matrix do from sklearn.metrics import confusion_matrix (don't forget to put valid labels on plots)."
      ]
    },
    {
      "cell_type": "code",
      "metadata": {
        "id": "4Nmh0daCg2CV"
      },
      "source": [
        "from sklearn.metrics import confusion_matrix\n",
        "import seaborn as sns"
      ],
      "execution_count": 51,
      "outputs": []
    },
    {
      "cell_type": "code",
      "metadata": {
        "id": "-uVCMFztg5FH"
      },
      "source": [
        "weakest_model_index = 2\n",
        "\n",
        "dt_preds = clf_predictions[weakest_model_index]\n",
        "conf_matrix = confusion_matrix(y_test, dt_preds)"
      ],
      "execution_count": 52,
      "outputs": []
    },
    {
      "cell_type": "code",
      "metadata": {
        "id": "7qFjYs04if4o",
        "outputId": "9d42a088-1a9b-4065-f974-d98f6027404b",
        "colab": {
          "base_uri": "https://localhost:8080/",
          "height": 279
        }
      },
      "source": [
        "plot_labels = sorted(labels.unique())\n",
        "\n",
        "sns.heatmap(conf_matrix, \n",
        "            cmap=\"Blues\",\n",
        "            xticklabels=y_test.unique(),\n",
        "            yticklabels=np.unique(dt_preds),\n",
        "            linewidths=0.01, linecolor=\"black\", \n",
        "            annot = True, fmt='2g')\n",
        "\n",
        "plt.ylabel(\"GT\")\n",
        "plt.xlabel(\"Predictions\")\n",
        "plt.show()"
      ],
      "execution_count": 53,
      "outputs": [
        {
          "output_type": "display_data",
          "data": {
            "image/png": "[encoded data removed]",
            "text/plain": [
              "<Figure size 432x288 with 2 Axes>"
            ]
          },
          "metadata": {
            "tags": [],
            "needs_background": "light"
          }
        }
      ]
    },
    {
      "cell_type": "markdown",
      "metadata": {
        "id": "z2_-CfmMkVKM"
      },
      "source": [
        "Going by confusion matrix, which class is the hardest to predict? How does it affect macro/micro-precision?"
      ]
    },
    {
      "cell_type": "markdown",
      "metadata": {
        "id": "yd-7qAHhkWOT"
      },
      "source": [
        "**Your answer:**\n",
        "3-d class"
      ]
    },
    {
      "cell_type": "markdown",
      "metadata": {
        "id": "2x4UIibLkcKb"
      },
      "source": [
        "**Task 2.2 [3 points]. 1-D Grid Search**\n"
      ]
    },
    {
      "cell_type": "markdown",
      "metadata": {
        "id": "CFLPvDXjm1CJ"
      },
      "source": [
        "No wonder that default models have scores far from perfect. Let's tweak those hyperparameters with GridSearch: we will iteratively look through all combinations of parameters in the grid and choose the best. At each iteraction use cross validation score with number of folds k=5.\n",
        "\n",
        "Firstly, build the grid for kNN. It will be a 1-D grid with the only parameter n_neighbors. Look through all values from 1 to 50.\n",
        "\n",
        "Hint: np.arange, np.linspace and np.logspace are very useful for grid constructions.\n",
        "\n",
        "**Attention** this part of assignment may need a lot of computational powers (as you probably remember, training of knn is quite expensive).\n",
        "\n",
        "To save some resources while doing grid search for knn you may use the trick from Part1: do feature-selection with DTree/RandomForest and select top-5 or top-10 features."
      ]
    },
    {
      "cell_type": "code",
      "metadata": {
        "id": "ARkh1KOtnIf5"
      },
      "source": [
        "from sklearn.model_selection import cross_val_score\n",
        "from sklearn.model_selection import GridSearchCV"
      ],
      "execution_count": 54,
      "outputs": []
    },
    {
      "cell_type": "code",
      "metadata": {
        "id": "uGozHXZ7nKIT"
      },
      "source": [
        "knn_clf = KNeighborsClassifier()\n",
        "knn_grid = {\n",
        "    \"n_neighbors\": np.arange(1, 5)\n",
        "}"
      ],
      "execution_count": 55,
      "outputs": []
    },
    {
      "cell_type": "code",
      "metadata": {
        "id": "DVw9fUqFoOg0",
        "outputId": "4a19908e-7666-4c28-88d1-07553582c1eb",
        "colab": {
          "base_uri": "https://localhost:8080/",
          "height": 187
        }
      },
      "source": [
        "knn_grid_searcher = GridSearchCV(knn_clf, knn_grid, cv=5, return_train_score=True)\n",
        "knn_grid_searcher.fit(X_train, y_train)"
      ],
      "execution_count": 56,
      "outputs": [
        {
          "output_type": "execute_result",
          "data": {
            "text/plain": [
              "GridSearchCV(cv=5, error_score=nan,\n",
              "             estimator=KNeighborsClassifier(algorithm='auto', leaf_size=30,\n",
              "                                            metric='minkowski',\n",
              "                                            metric_params=None, n_jobs=None,\n",
              "                                            n_neighbors=5, p=2,\n",
              "                                            weights='uniform'),\n",
              "             iid='deprecated', n_jobs=None,\n",
              "             param_grid={'n_neighbors': array([1, 2, 3, 4])},\n",
              "             pre_dispatch='2*n_jobs', refit=True, return_train_score=True,\n",
              "             scoring=None, verbose=0)"
            ]
          },
          "metadata": {
            "tags": []
          },
          "execution_count": 56
        }
      ]
    },
    {
      "cell_type": "markdown",
      "metadata": {
        "id": "QYeyj9r1Yv-e"
      },
      "source": [
        "Plot mean cross-validation score for each hyperparameter:\n",
        "\n",
        "\n",
        "*   X-axis is hyperparameter values\n",
        "*   Y-axis is mean CV-score\n",
        "\n",
        "To show variance of obtained estimatets add mean + 3 stds and mean - 3 stds to the plot. You may use plt.fill_between to make it more descriptive (it will look like a coridor around the mean).\n",
        "\n",
        "To get values we need to plot search in knn_grid_searcher parameters and attributes.\n"
      ]
    },
    {
      "cell_type": "code",
      "metadata": {
        "id": "Me6E8kQFZKrl"
      },
      "source": [
        "res = knn_grid_searcher.cv_results_"
      ],
      "execution_count": 57,
      "outputs": []
    },
    {
      "cell_type": "code",
      "metadata": {
        "id": "izL2TMbnY9W9"
      },
      "source": [
        "means = res['mean_test_score']\n",
        "stds = res['std_test_score']"
      ],
      "execution_count": 58,
      "outputs": []
    },
    {
      "cell_type": "code",
      "metadata": {
        "id": "I4pQsIS_c3Ld",
        "outputId": "8ab8bf86-bba6-4c4d-d279-f3f841923ab8",
        "colab": {
          "base_uri": "https://localhost:8080/",
          "height": 394
        }
      },
      "source": [
        "plt.figure(figsize=(10, 6))\n",
        "xs = knn_grid_searcher.param_grid[\"n_neighbors\"]\n",
        "plt.plot(xs, means, color='red')\n",
        "plt.fill_between(xs, means + 3 * stds, means - 3 * stds)\n",
        "plt.legend()\n",
        "plt.show()"
      ],
      "execution_count": 59,
      "outputs": [
        {
          "output_type": "stream",
          "text": [
            "No handles with labels found to put in legend.\n"
          ],
          "name": "stderr"
        },
        {
          "output_type": "display_data",
          "data": {
            "image/png": "[encoded data removed]",
            "text/plain": [
              "<Figure size 720x432 with 1 Axes>"
            ]
          },
          "metadata": {
            "tags": [],
            "needs_background": "light"
          }
        }
      ]
    },
    {
      "cell_type": "markdown",
      "metadata": {
        "id": "t2LJZjV9ejsI"
      },
      "source": [
        "Print the best estimator and its score:"
      ]
    },
    {
      "cell_type": "code",
      "metadata": {
        "id": "8HDgAcj4c5oq",
        "outputId": "d5d6dada-b189-41ed-be65-1e7198120a04",
        "colab": {
          "base_uri": "https://localhost:8080/",
          "height": 68
        }
      },
      "source": [
        "print(\"Best estimator:\", knn_grid_searcher.best_estimator_, \"its score:\", knn_grid_searcher.best_score_)"
      ],
      "execution_count": 60,
      "outputs": [
        {
          "output_type": "stream",
          "text": [
            "Best estimator: KNeighborsClassifier(algorithm='auto', leaf_size=30, metric='minkowski',\n",
            "                     metric_params=None, n_jobs=None, n_neighbors=4, p=2,\n",
            "                     weights='uniform') its score: 0.57865\n"
          ],
          "name": "stdout"
        }
      ]
    },
    {
      "cell_type": "markdown",
      "metadata": {
        "id": "XPQ_Hn4sCBrh"
      },
      "source": [
        "Now do the same for 3 other models:\n",
        "\n",
        "\n",
        "\n",
        "*   Decision Tree: grid search the max_depth parameter\n",
        "*   LogisticRegression: penalty\n",
        "*   RandomForest: n_estimators\n",
        "\n",
        "Some of the hyperparameters are not numeric, but categorical (like penalty) and you should choose some other way to plot cv-scores instead of plt.plot"
      ]
    },
    {
      "cell_type": "markdown",
      "metadata": {
        "id": "pTynf4ANJcWn"
      },
      "source": [
        "**Decision Tree**"
      ]
    },
    {
      "cell_type": "code",
      "metadata": {
        "id": "J-QUnpy5B9Gw"
      },
      "source": [
        "tree_clf = DecisionTreeClassifier()\n",
        "tree_grid = {\n",
        "    \"max_depth\": np.arange(1,50)\n",
        "}"
      ],
      "execution_count": 61,
      "outputs": []
    },
    {
      "cell_type": "code",
      "metadata": {
        "id": "mUtQ2hPIIoRT",
        "outputId": "a6c03a2b-e625-4e75-ddb6-8b6d59769f60",
        "colab": {
          "base_uri": "https://localhost:8080/",
          "height": 340
        }
      },
      "source": [
        "tree_grid_searcher = GridSearchCV(tree_clf, tree_grid, cv=5, return_train_score=True)\n",
        "tree_grid_searcher.fit(X_train, y_train)"
      ],
      "execution_count": 62,
      "outputs": [
        {
          "output_type": "execute_result",
          "data": {
            "text/plain": [
              "GridSearchCV(cv=5, error_score=nan,\n",
              "             estimator=DecisionTreeClassifier(ccp_alpha=0.0, class_weight=None,\n",
              "                                              criterion='gini', max_depth=None,\n",
              "                                              max_features=None,\n",
              "                                              max_leaf_nodes=None,\n",
              "                                              min_impurity_decrease=0.0,\n",
              "                                              min_impurity_split=None,\n",
              "                                              min_samples_leaf=1,\n",
              "                                              min_samples_split=2,\n",
              "                                              min_weight_fraction_leaf=0.0,\n",
              "                                              presort='deprecated',\n",
              "                                              random_state=None,\n",
              "                                              splitter='best'),\n",
              "             iid='deprecated', n_jobs=None,\n",
              "             param_grid={'max_depth': array([ 1,  2,  3,  4,  5,  6,  7,  8,  9, 10, 11, 12, 13, 14, 15, 16, 17,\n",
              "       18, 19, 20, 21, 22, 23, 24, 25, 26, 27, 28, 29, 30, 31, 32, 33, 34,\n",
              "       35, 36, 37, 38, 39, 40, 41, 42, 43, 44, 45, 46, 47, 48, 49])},\n",
              "             pre_dispatch='2*n_jobs', refit=True, return_train_score=True,\n",
              "             scoring=None, verbose=0)"
            ]
          },
          "metadata": {
            "tags": []
          },
          "execution_count": 62
        }
      ]
    },
    {
      "cell_type": "code",
      "metadata": {
        "id": "EryZzj7VJgMR"
      },
      "source": [
        "res_tree = tree_grid_searcher.cv_results_"
      ],
      "execution_count": 63,
      "outputs": []
    },
    {
      "cell_type": "code",
      "metadata": {
        "id": "qoCxDSbVJyOK"
      },
      "source": [
        "tree_means = res_tree['mean_test_score']\n",
        "tree_stds = res_tree['std_test_score']"
      ],
      "execution_count": 64,
      "outputs": []
    },
    {
      "cell_type": "code",
      "metadata": {
        "id": "kztivfPXJ7mg",
        "outputId": "608805cf-2a9c-4fc3-cd7c-08209c3b5a28",
        "colab": {
          "base_uri": "https://localhost:8080/",
          "height": 391
        }
      },
      "source": [
        "plt.figure(figsize=(10, 6))\n",
        "xs = tree_grid_searcher.param_grid[\"max_depth\"]\n",
        "plt.plot(xs, tree_means, color='red')\n",
        "plt.fill_between(xs, tree_means + 3 * tree_stds, tree_means - 3 * tree_stds)\n",
        "plt.legend()\n",
        "plt.show()"
      ],
      "execution_count": 65,
      "outputs": [
        {
          "output_type": "stream",
          "text": [
            "No handles with labels found to put in legend.\n"
          ],
          "name": "stderr"
        },
        {
          "output_type": "display_data",
          "data": {
            "image/png": "[encoded data removed]",
            "text/plain": [
              "<Figure size 720x432 with 1 Axes>"
            ]
          },
          "metadata": {
            "tags": [],
            "needs_background": "light"
          }
        }
      ]
    },
    {
      "cell_type": "code",
      "metadata": {
        "id": "9JSBFoEfKSaC",
        "outputId": "e65fd21f-a4f1-4cdd-ff73-125cb2b12d20",
        "colab": {
          "base_uri": "https://localhost:8080/",
          "height": 119
        }
      },
      "source": [
        "print(\"Best estimator:\", tree_grid_searcher.best_estimator_, \"its score:\", tree_grid_searcher.best_score_)"
      ],
      "execution_count": 66,
      "outputs": [
        {
          "output_type": "stream",
          "text": [
            "Best estimator: DecisionTreeClassifier(ccp_alpha=0.0, class_weight=None, criterion='gini',\n",
            "                       max_depth=6, max_features=None, max_leaf_nodes=None,\n",
            "                       min_impurity_decrease=0.0, min_impurity_split=None,\n",
            "                       min_samples_leaf=1, min_samples_split=2,\n",
            "                       min_weight_fraction_leaf=0.0, presort='deprecated',\n",
            "                       random_state=None, splitter='best') its score: 0.6533\n"
          ],
          "name": "stdout"
        }
      ]
    },
    {
      "cell_type": "markdown",
      "metadata": {
        "id": "Nkp2-7I7Kc-6"
      },
      "source": [
        "**LogisticRegression**"
      ]
    },
    {
      "cell_type": "code",
      "metadata": {
        "id": "w9GFXQ0NKfrF"
      },
      "source": [
        "log_clf = LogisticRegression()\n",
        "log_grid = {\n",
        "    \"penalty\": ['l1', 'l2', 'elasticnet']\n",
        "}"
      ],
      "execution_count": 67,
      "outputs": []
    },
    {
      "cell_type": "code",
      "metadata": {
        "id": "LvlEk62YLlSd",
        "outputId": "35640c76-a5e8-4403-8fb5-e9bf3033dd5b",
        "colab": {
          "base_uri": "https://localhost:8080/",
          "height": 394
        }
      },
      "source": [
        "log_grid_searcher = GridSearchCV(log_clf, log_grid, cv=5, return_train_score=True)\n",
        "log_grid_searcher.fit(X_train, y_train)"
      ],
      "execution_count": 68,
      "outputs": [
        {
          "output_type": "stream",
          "text": [
            "/usr/local/lib/python3.6/dist-packages/sklearn/model_selection/_validation.py:536: FitFailedWarning: Estimator fit failed. The score on this train-test partition for these parameters will be set to nan. Details: \n",
            "ValueError: Solver lbfgs supports only 'l2' or 'none' penalties, got l1 penalty.\n",
            "\n",
            "  FitFailedWarning)\n",
            "/usr/local/lib/python3.6/dist-packages/sklearn/model_selection/_validation.py:536: FitFailedWarning: Estimator fit failed. The score on this train-test partition for these parameters will be set to nan. Details: \n",
            "ValueError: Solver lbfgs supports only 'l2' or 'none' penalties, got elasticnet penalty.\n",
            "\n",
            "  FitFailedWarning)\n"
          ],
          "name": "stderr"
        },
        {
          "output_type": "execute_result",
          "data": {
            "text/plain": [
              "GridSearchCV(cv=5, error_score=nan,\n",
              "             estimator=LogisticRegression(C=1.0, class_weight=None, dual=False,\n",
              "                                          fit_intercept=True,\n",
              "                                          intercept_scaling=1, l1_ratio=None,\n",
              "                                          max_iter=100, multi_class='auto',\n",
              "                                          n_jobs=None, penalty='l2',\n",
              "                                          random_state=None, solver='lbfgs',\n",
              "                                          tol=0.0001, verbose=0,\n",
              "                                          warm_start=False),\n",
              "             iid='deprecated', n_jobs=None,\n",
              "             param_grid={'penalty': ['l1', 'l2', 'elasticnet']},\n",
              "             pre_dispatch='2*n_jobs', refit=True, return_train_score=True,\n",
              "             scoring=None, verbose=0)"
            ]
          },
          "metadata": {
            "tags": []
          },
          "execution_count": 68
        }
      ]
    },
    {
      "cell_type": "code",
      "metadata": {
        "id": "T44LhU_MLwPS"
      },
      "source": [
        "res_log = log_grid_searcher.cv_results_"
      ],
      "execution_count": 69,
      "outputs": []
    },
    {
      "cell_type": "code",
      "metadata": {
        "id": "chq82QR4L0Xu"
      },
      "source": [
        "log_means = res_log['mean_test_score']\n",
        "log_stds = res_log['std_test_score']"
      ],
      "execution_count": 70,
      "outputs": []
    },
    {
      "cell_type": "code",
      "metadata": {
        "id": "Ntu6YRmiMIj_",
        "outputId": "36060cf3-7160-4e50-9be6-82fcee6c732f",
        "colab": {
          "base_uri": "https://localhost:8080/",
          "height": 34
        }
      },
      "source": [
        "log_means"
      ],
      "execution_count": 71,
      "outputs": [
        {
          "output_type": "execute_result",
          "data": {
            "text/plain": [
              "array([    nan, 0.57865,     nan])"
            ]
          },
          "metadata": {
            "tags": []
          },
          "execution_count": 71
        }
      ]
    },
    {
      "cell_type": "code",
      "metadata": {
        "id": "GgtUzMQzMLCI",
        "outputId": "7abc7efb-291b-41f6-938e-fe0fe6f2af43",
        "colab": {
          "base_uri": "https://localhost:8080/",
          "height": 34
        }
      },
      "source": [
        "log_stds"
      ],
      "execution_count": 72,
      "outputs": [
        {
          "output_type": "execute_result",
          "data": {
            "text/plain": [
              "array([       nan, 0.00621812,        nan])"
            ]
          },
          "metadata": {
            "tags": []
          },
          "execution_count": 72
        }
      ]
    },
    {
      "cell_type": "code",
      "metadata": {
        "id": "LlEGkeZDMPcM",
        "outputId": "d3188cf0-f476-4896-848b-a1e76dee75c6",
        "colab": {
          "base_uri": "https://localhost:8080/",
          "height": 102
        }
      },
      "source": [
        "print(\"Best estimator:\", log_grid_searcher.best_estimator_, \"its score:\", log_grid_searcher.best_score_)"
      ],
      "execution_count": 73,
      "outputs": [
        {
          "output_type": "stream",
          "text": [
            "Best estimator: LogisticRegression(C=1.0, class_weight=None, dual=False, fit_intercept=True,\n",
            "                   intercept_scaling=1, l1_ratio=None, max_iter=100,\n",
            "                   multi_class='auto', n_jobs=None, penalty='l2',\n",
            "                   random_state=None, solver='lbfgs', tol=0.0001, verbose=0,\n",
            "                   warm_start=False) its score: 0.57865\n"
          ],
          "name": "stdout"
        }
      ]
    },
    {
      "cell_type": "markdown",
      "metadata": {
        "id": "PXr1nWL6MUYI"
      },
      "source": [
        "**RandomForest**"
      ]
    },
    {
      "cell_type": "code",
      "metadata": {
        "id": "ZFR86qDGMa4a"
      },
      "source": [
        "forest_clf = RandomForestClassifier()\n",
        "forest_grid = {\n",
        "    \"n_estimators\": np.arange(10,50)\n",
        "}"
      ],
      "execution_count": 74,
      "outputs": []
    },
    {
      "cell_type": "code",
      "metadata": {
        "id": "esYwli6PNbOZ",
        "outputId": "1ee4f38c-a2cd-4bb2-8bbf-212c180e524e",
        "colab": {
          "base_uri": "https://localhost:8080/",
          "height": 391
        }
      },
      "source": [
        "forest_grid_searcher = GridSearchCV(forest_clf, forest_grid, cv=5, return_train_score=True)\n",
        "forest_grid_searcher.fit(X_train, y_train)"
      ],
      "execution_count": 75,
      "outputs": [
        {
          "output_type": "execute_result",
          "data": {
            "text/plain": [
              "GridSearchCV(cv=5, error_score=nan,\n",
              "             estimator=RandomForestClassifier(bootstrap=True, ccp_alpha=0.0,\n",
              "                                              class_weight=None,\n",
              "                                              criterion='gini', max_depth=None,\n",
              "                                              max_features='auto',\n",
              "                                              max_leaf_nodes=None,\n",
              "                                              max_samples=None,\n",
              "                                              min_impurity_decrease=0.0,\n",
              "                                              min_impurity_split=None,\n",
              "                                              min_samples_leaf=1,\n",
              "                                              min_samples_split=2,\n",
              "                                              min_weight_fraction_leaf=0.0,\n",
              "                                              n_estimators=100, n_jobs=None,\n",
              "                                              oob_score=False,\n",
              "                                              random_state=None, verbose=0,\n",
              "                                              warm_start=False),\n",
              "             iid='deprecated', n_jobs=None,\n",
              "             param_grid={'n_estimators': array([10, 11, 12, 13, 14, 15, 16, 17, 18, 19, 20, 21, 22, 23, 24, 25, 26,\n",
              "       27, 28, 29, 30, 31, 32, 33, 34, 35, 36, 37, 38, 39, 40, 41, 42, 43,\n",
              "       44, 45, 46, 47, 48, 49])},\n",
              "             pre_dispatch='2*n_jobs', refit=True, return_train_score=True,\n",
              "             scoring=None, verbose=0)"
            ]
          },
          "metadata": {
            "tags": []
          },
          "execution_count": 75
        }
      ]
    },
    {
      "cell_type": "code",
      "metadata": {
        "id": "YY2CgsuEN7pt"
      },
      "source": [
        "res_forest = forest_grid_searcher.cv_results_"
      ],
      "execution_count": 76,
      "outputs": []
    },
    {
      "cell_type": "code",
      "metadata": {
        "id": "HObEvZQBQXSi"
      },
      "source": [
        "forest_means = res_forest['mean_test_score']\n",
        "forest_stds = res_forest['std_test_score']"
      ],
      "execution_count": 77,
      "outputs": []
    },
    {
      "cell_type": "code",
      "metadata": {
        "id": "5-p_30s9QgC6",
        "outputId": "9d8e071f-989a-4f47-f9b5-5ab192534f3b",
        "colab": {
          "base_uri": "https://localhost:8080/",
          "height": 391
        }
      },
      "source": [
        "plt.figure(figsize=(10, 6))\n",
        "xs = forest_grid_searcher.param_grid[\"n_estimators\"]\n",
        "plt.plot(xs, forest_means, color='red')\n",
        "plt.fill_between(xs, forest_means + 3 * forest_stds, forest_means - 3 * forest_stds)\n",
        "plt.legend()\n",
        "plt.show()"
      ],
      "execution_count": 78,
      "outputs": [
        {
          "output_type": "stream",
          "text": [
            "No handles with labels found to put in legend.\n"
          ],
          "name": "stderr"
        },
        {
          "output_type": "display_data",
          "data": {
            "image/png": "[encoded data removed]",
            "text/plain": [
              "<Figure size 720x432 with 1 Axes>"
            ]
          },
          "metadata": {
            "tags": [],
            "needs_background": "light"
          }
        }
      ]
    },
    {
      "cell_type": "code",
      "metadata": {
        "id": "eymoAwdaQ3pi",
        "outputId": "e52b77fd-3674-4a9f-9c8a-0f5cd8147222",
        "colab": {
          "base_uri": "https://localhost:8080/",
          "height": 153
        }
      },
      "source": [
        "print(\"Best estimator:\", forest_grid_searcher.best_estimator_, \"its score:\", forest_grid_searcher.best_score_)"
      ],
      "execution_count": 79,
      "outputs": [
        {
          "output_type": "stream",
          "text": [
            "Best estimator: RandomForestClassifier(bootstrap=True, ccp_alpha=0.0, class_weight=None,\n",
            "                       criterion='gini', max_depth=None, max_features='auto',\n",
            "                       max_leaf_nodes=None, max_samples=None,\n",
            "                       min_impurity_decrease=0.0, min_impurity_split=None,\n",
            "                       min_samples_leaf=1, min_samples_split=2,\n",
            "                       min_weight_fraction_leaf=0.0, n_estimators=48,\n",
            "                       n_jobs=None, oob_score=False, random_state=None,\n",
            "                       verbose=0, warm_start=False) its score: 0.67145\n"
          ],
          "name": "stdout"
        }
      ]
    },
    {
      "cell_type": "markdown",
      "metadata": {
        "id": "ubdXpfBZSuzR"
      },
      "source": [
        "**Task 2.3 [3 points] 2-D Grid Search**"
      ]
    },
    {
      "cell_type": "markdown",
      "metadata": {
        "id": "2A6mQI5lS8lm"
      },
      "source": [
        "Now it's time to improve the models with a 2-D grid search. For each classifier we will look for an optimal pair of hyperparameters. However, going through the whole grid may be computationally expensive, so here are some ways to speed it up:\n",
        "\n",
        "\n",
        "\n",
        "1.   Make sparse grids with fewer number of parameters\n",
        "2.   Choose random subsample from grid points and look for the optimum there\n",
        "3.   Reduce number of folds in cross-validation\n",
        "4.   Make a greedy grid search (use two grid-searchers sequentially)\n",
        "\n",
        "\n",
        "You have 4 models, 4 methods how to make grid search faster, choose one method per model and try it out. Report whether you got boost in quality.\n",
        "\n",
        "Here are default 2-D grids:\n",
        "\n",
        "\n",
        "*   kNN:\n",
        "\n",
        "> *   n_neighbors from 1 to 50\n",
        "> *   metric: euclidean, manhattan or chebyshev\n",
        "\n",
        "\n",
        "*   linear\n",
        "\n",
        "> *   penalty l1, l2, elasticnet, none\n",
        "> *   C from 0.001 to 1000\n",
        "\n",
        "*   dtree\n",
        "\n",
        "> *   max_depth from 1 to 50\n",
        "> *   criterion gini or entropy\n",
        "\n",
        "*   rf\n",
        "\n",
        "> *   n_estimators from 1 to 200\n",
        "> *   max_features from 1 to 30\n",
        "\n",
        "\n"
      ]
    },
    {
      "cell_type": "markdown",
      "metadata": {
        "id": "-ULLRoW9VHeB"
      },
      "source": [
        "**KNeighborsClassifier**"
      ]
    },
    {
      "cell_type": "code",
      "metadata": {
        "id": "E-DmtcAqSxNZ"
      },
      "source": [
        "knn_clf = KNeighborsClassifier()\n",
        "knn_grid = {\n",
        "    \"n_neighbors\": np.arange(1,5),\n",
        "    \"metric\": ('euclidean', 'manhattan', 'chebyshev')\n",
        "}"
      ],
      "execution_count": 80,
      "outputs": []
    },
    {
      "cell_type": "code",
      "metadata": {
        "id": "8gj49gTKWSRZ",
        "outputId": "746d1546-f4d0-47f6-d4e5-63fe15998565",
        "colab": {
          "base_uri": "https://localhost:8080/",
          "height": 204
        }
      },
      "source": [
        "knn_grid_searcher = GridSearchCV(knn_clf, knn_grid, cv=5, return_train_score=True)\n",
        "knn_grid_searcher.fit(X_train, y_train)"
      ],
      "execution_count": 81,
      "outputs": [
        {
          "output_type": "execute_result",
          "data": {
            "text/plain": [
              "GridSearchCV(cv=5, error_score=nan,\n",
              "             estimator=KNeighborsClassifier(algorithm='auto', leaf_size=30,\n",
              "                                            metric='minkowski',\n",
              "                                            metric_params=None, n_jobs=None,\n",
              "                                            n_neighbors=5, p=2,\n",
              "                                            weights='uniform'),\n",
              "             iid='deprecated', n_jobs=None,\n",
              "             param_grid={'metric': ('euclidean', 'manhattan', 'chebyshev'),\n",
              "                         'n_neighbors': array([1, 2, 3, 4])},\n",
              "             pre_dispatch='2*n_jobs', refit=True, return_train_score=True,\n",
              "             scoring=None, verbose=0)"
            ]
          },
          "metadata": {
            "tags": []
          },
          "execution_count": 81
        }
      ]
    },
    {
      "cell_type": "code",
      "metadata": {
        "id": "tIhPt9Xwj_qF",
        "outputId": "8810f877-d6ef-4512-f904-3b9576f1940d",
        "colab": {
          "base_uri": "https://localhost:8080/",
          "height": 68
        }
      },
      "source": [
        "print(\"Best estimator:\", knn_grid_searcher.best_estimator_, \"its score:\", knn_grid_searcher.best_score_)"
      ],
      "execution_count": 82,
      "outputs": [
        {
          "output_type": "stream",
          "text": [
            "Best estimator: KNeighborsClassifier(algorithm='auto', leaf_size=30, metric='manhattan',\n",
            "                     metric_params=None, n_jobs=None, n_neighbors=4, p=2,\n",
            "                     weights='uniform') its score: 0.5997\n"
          ],
          "name": "stdout"
        }
      ]
    },
    {
      "cell_type": "markdown",
      "metadata": {
        "id": "SO8lYJdu9kPL"
      },
      "source": [
        "**Decision Tree**"
      ]
    },
    {
      "cell_type": "code",
      "metadata": {
        "id": "d_bC5ndg9xAD"
      },
      "source": [
        "tree_clf = DecisionTreeClassifier()\n",
        "tree_grid = {\n",
        "    \"max_depth\": np.arange(1,50),\n",
        "    \"criterion\": ('gini', 'entropy')\n",
        "}"
      ],
      "execution_count": 83,
      "outputs": []
    },
    {
      "cell_type": "code",
      "metadata": {
        "id": "g2LmFsXuA9oq",
        "outputId": "a0444f54-6381-4e24-e5ce-276ebff3b5fb",
        "colab": {
          "base_uri": "https://localhost:8080/",
          "height": 357
        }
      },
      "source": [
        "tree_grid_searcher = GridSearchCV(tree_clf, tree_grid, cv=5, return_train_score=True)\n",
        "tree_grid_searcher.fit(X_train, y_train)"
      ],
      "execution_count": 84,
      "outputs": [
        {
          "output_type": "execute_result",
          "data": {
            "text/plain": [
              "GridSearchCV(cv=5, error_score=nan,\n",
              "             estimator=DecisionTreeClassifier(ccp_alpha=0.0, class_weight=None,\n",
              "                                              criterion='gini', max_depth=None,\n",
              "                                              max_features=None,\n",
              "                                              max_leaf_nodes=None,\n",
              "                                              min_impurity_decrease=0.0,\n",
              "                                              min_impurity_split=None,\n",
              "                                              min_samples_leaf=1,\n",
              "                                              min_samples_split=2,\n",
              "                                              min_weight_fraction_leaf=0.0,\n",
              "                                              presort='deprecated',\n",
              "                                              random_state=None,\n",
              "                                              splitter='best'),\n",
              "             iid='deprecated', n_jobs=None,\n",
              "             param_grid={'criterion': ('gini', 'entropy'),\n",
              "                         'max_depth': array([ 1,  2,  3,  4,  5,  6,  7,  8,  9, 10, 11, 12, 13, 14, 15, 16, 17,\n",
              "       18, 19, 20, 21, 22, 23, 24, 25, 26, 27, 28, 29, 30, 31, 32, 33, 34,\n",
              "       35, 36, 37, 38, 39, 40, 41, 42, 43, 44, 45, 46, 47, 48, 49])},\n",
              "             pre_dispatch='2*n_jobs', refit=True, return_train_score=True,\n",
              "             scoring=None, verbose=0)"
            ]
          },
          "metadata": {
            "tags": []
          },
          "execution_count": 84
        }
      ]
    },
    {
      "cell_type": "code",
      "metadata": {
        "id": "iqmYT8RMBEza",
        "outputId": "fa3c249d-d141-4522-b671-0cce294c0ff3",
        "colab": {
          "base_uri": "https://localhost:8080/",
          "height": 119
        }
      },
      "source": [
        "print(\"Best estimator:\", tree_grid_searcher.best_estimator_, \"its score:\", tree_grid_searcher.best_score_)"
      ],
      "execution_count": 85,
      "outputs": [
        {
          "output_type": "stream",
          "text": [
            "Best estimator: DecisionTreeClassifier(ccp_alpha=0.0, class_weight=None, criterion='gini',\n",
            "                       max_depth=6, max_features=None, max_leaf_nodes=None,\n",
            "                       min_impurity_decrease=0.0, min_impurity_split=None,\n",
            "                       min_samples_leaf=1, min_samples_split=2,\n",
            "                       min_weight_fraction_leaf=0.0, presort='deprecated',\n",
            "                       random_state=None, splitter='best') its score: 0.6533\n"
          ],
          "name": "stdout"
        }
      ]
    },
    {
      "cell_type": "markdown",
      "metadata": {
        "id": "gSK2fRNmBYN2"
      },
      "source": [
        "**RandomForest**"
      ]
    },
    {
      "cell_type": "code",
      "metadata": {
        "id": "iElNc_cYBaQ5"
      },
      "source": [
        "forest_clf = RandomForestClassifier()\n",
        "forest_grid = {\n",
        "    \"n_estimators\": np.arange(10,50),\n",
        "    \"max_features\": np.arange(1,30)\n",
        "}"
      ],
      "execution_count": 86,
      "outputs": []
    },
    {
      "cell_type": "code",
      "metadata": {
        "id": "8xHxjdEwB6gU"
      },
      "source": [
        "forest_grid_searcher = GridSearchCV(forest_clf, forest_grid, cv=5, return_train_score=True)\n",
        "forest_grid_searcher.fit(X_train, y_train)"
      ],
      "execution_count": null,
      "outputs": []
    },
    {
      "cell_type": "code",
      "metadata": {
        "id": "i8X8hEdiCKEF"
      },
      "source": [
        "print(\"Best estimator:\", forest_grid_searcher.best_estimator_, \"its score:\", forest_grid_searcher.best_score_)"
      ],
      "execution_count": null,
      "outputs": []
    }
  ]
}