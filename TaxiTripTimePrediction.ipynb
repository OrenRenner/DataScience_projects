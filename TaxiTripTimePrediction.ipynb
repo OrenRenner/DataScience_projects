{
  "nbformat": 4,
  "nbformat_minor": 0,
  "metadata": {
    "colab": {
      "name": "TaxiTripTimePrediction.ipynb",
      "provenance": [],
      "collapsed_sections": []
    },
    "kernelspec": {
      "name": "python3",
      "display_name": "Python 3"
    },
    "language_info": {
      "name": "python"
    }
  },
  "cells": [
    {
      "cell_type": "code",
      "execution_count": 5,
      "metadata": {
        "colab": {
          "base_uri": "https://localhost:8080/"
        },
        "id": "UkjPo0nwE4ud",
        "outputId": "b5dcada1-325c-41b1-fc31-9618583bf473"
      },
      "outputs": [
        {
          "output_type": "stream",
          "name": "stdout",
          "text": [
            "Drive already mounted at /content/drive; to attempt to forcibly remount, call drive.mount(\"/content/drive\", force_remount=True).\n"
          ]
        }
      ],
      "source": [
        "from google.colab import drive\n",
        "drive.mount('/content/drive')"
      ]
    },
    {
      "cell_type": "markdown",
      "source": [
        "\n",
        "Taxi Trajectory\n",
        "\n",
        "https://www.kaggle.com/akshaychavan123/taxi-trip-time-prediction\n",
        "\n",
        "We have provided with the dataset describing a complete year (from 1 july 2013 to 30 june 2014) of the trajectories for all the 442 taxies running in the city of portugal.\n",
        "\n",
        "We are hired by the transportation industry of portugal and want to predict the total travel time of the trip based on the attributes given in the datasets.\n",
        "Data Overview\n",
        "\n",
        "Each data point corresponds to one complete trip. It contains a total 9 features\n",
        "\n",
        "    TRIP_ID (string) : It contains an unique identifier for each trip\n",
        "    CALL_TYPE (char) : It identifies the way used to demand this service. It may contain one of three possible values.\n",
        "\n",
        "                    1. 'A' : if this trip was dispatched from the central\n",
        "                    2. 'B' : if this trip was demanded directly to a taxi driver on a specific stand\n",
        "                    3. 'C' : otherwise (i.e. a trip demanded on a random street)\n",
        "\n",
        "    ORIGIN_CALL (integer) : It contains an unique identifier for each phone number which was used to demand, at least, one service. It identifies the trip’s customer if CALL_TYPE=’A’. Otherwise, it assumes a NULL value\n",
        "    ORIGIN_STAND (integer): It contains an unique identifier for the taxi stand. It identifies the starting point of the trip if CALL_TYPE=’B’. Otherwise, it assumes a NULL value\n",
        "    TAXI_ID: (integer): It contains an unique identifier for the taxi driver that performed each trip\n",
        "    TIMESTAMP (integer) : Unix Timestamp (in seconds). It identifies the trip’s start\n",
        "    DAYTYPE (char) : It identifies the daytype of the trip’s start. It assumes one of three possible values\n",
        "\n",
        "                  1. 'B' : if this trip started on a holiday or any other special day (i.e. extending holidays, floating holidays, etc.)\n",
        "                  2. 'C' : if the trip started on a day before a type-B day\n",
        "                  3. 'A' : otherwise (i.e. a normal day, workday or weekend)\n",
        "\n",
        "    MISSING_DATA (Boolean) : It is FALSE when the GPS data stream is complete and TRUE whenever one (or more) locations are missing.\n",
        "    POLYLINE (String): It contains a list of GPS coordinates (i.e. WGS84 format) mapped as a string.The last list item corresponds to the trip’s destination while the first one represents its start. The beginning and the end of the string are identified with brackets (i.e. [ and ], respectively). Each pair of coordinates is also identified by the same brackets as [LONGITUDE, LATITUDE]. This list contains one pair of coordinates for each 15 seconds of trip. The POLYLINE can have multiple pairs of longitude and latitude\n",
        "\n",
        "The total travel time of the trip (the prediction target) is defined as the (number of points-1) x 15 seconds. For example, a trip with 101 data points in POLYLINE has a length of (101-1) * 15 = 1500 seconds.\n",
        "Type of Machine Learning task :\n",
        "\n",
        "It is an regression problem where given a set of features we need to predict the total travel time by taxi from starting of ride to the destination in seconds.\n",
        "\n",
        "Performace Metric\n",
        "\n",
        "Since it is an regression problem we will use Root Mean Squared error (RMSE) and R-squared as regression metric.\n",
        "\n",
        "Importing Libraries\n"
      ],
      "metadata": {
        "id": "Ze8zCPD1FmJ0"
      }
    },
    {
      "cell_type": "code",
      "source": [
        "import numpy as np\n",
        "import pandas as pd\n",
        "import matplotlib.pyplot as plt\n",
        "import seaborn as sns\n",
        "%matplotlib inline\n",
        "\n",
        "import datetime\n",
        "\n",
        "from sklearn.model_selection import train_test_split\n",
        "from sklearn.preprocessing import StandardScaler\n",
        "from sklearn.model_selection import GridSearchCV\n",
        "from sklearn.model_selection import RandomizedSearchCV\n",
        "\n",
        "from sklearn.metrics import mean_squared_error as mse\n",
        "from sklearn.metrics import r2_score\n",
        "\n",
        "from math import sqrt\n",
        "\n",
        "from sklearn.neighbors import KNeighborsRegressor\n",
        "from sklearn.linear_model import Ridge\n",
        "from sklearn.linear_model import Lasso\n",
        "from sklearn.tree import DecisionTreeRegressor\n",
        "from sklearn.ensemble import RandomForestRegressor\n",
        "from sklearn.svm import SVR\n",
        "from xgboost import XGBRegressor\n",
        "from mlxtend.regressor import StackingRegressor\n",
        "\n",
        "import joblib"
      ],
      "metadata": {
        "id": "PdHJe21wFRPD"
      },
      "execution_count": 6,
      "outputs": []
    },
    {
      "cell_type": "markdown",
      "source": [
        "\n",
        "**EDA, Data Cleaning and Feature Engineering**\n",
        "\n",
        "Load the taxi trajectory data from CSV file"
      ],
      "metadata": {
        "id": "tcBJAqEYGbO7"
      }
    },
    {
      "cell_type": "code",
      "source": [
        "df = pd.read_csv('/content/drive/My Drive/taxi_trajectory_data/train.csv')"
      ],
      "metadata": {
        "id": "E3MfUsepGT0D"
      },
      "execution_count": 7,
      "outputs": []
    },
    {
      "cell_type": "code",
      "source": [
        "df.shape"
      ],
      "metadata": {
        "colab": {
          "base_uri": "https://localhost:8080/"
        },
        "id": "wVMg5gtoGrIK",
        "outputId": "758ddf61-126e-4961-9b8f-1f56e67dd1c7"
      },
      "execution_count": 8,
      "outputs": [
        {
          "output_type": "execute_result",
          "data": {
            "text/plain": [
              "(1710670, 9)"
            ]
          },
          "metadata": {},
          "execution_count": 8
        }
      ]
    },
    {
      "cell_type": "code",
      "source": [
        "df.columns"
      ],
      "metadata": {
        "colab": {
          "base_uri": "https://localhost:8080/"
        },
        "id": "fGFT_e47ILEa",
        "outputId": "67594952-4768-4d00-da50-37b5caa396d5"
      },
      "execution_count": 9,
      "outputs": [
        {
          "output_type": "execute_result",
          "data": {
            "text/plain": [
              "Index(['TRIP_ID', 'CALL_TYPE', 'ORIGIN_CALL', 'ORIGIN_STAND', 'TAXI_ID',\n",
              "       'TIMESTAMP', 'DAY_TYPE', 'MISSING_DATA', 'POLYLINE'],\n",
              "      dtype='object')"
            ]
          },
          "metadata": {},
          "execution_count": 9
        }
      ]
    },
    {
      "cell_type": "code",
      "source": [
        "df.head(10)"
      ],
      "metadata": {
        "colab": {
          "base_uri": "https://localhost:8080/",
          "height": 363
        },
        "id": "PJFPx1yZIQS6",
        "outputId": "a2173a02-5582-47f5-ddf4-b81fdaed499d"
      },
      "execution_count": 10,
      "outputs": [
        {
          "output_type": "execute_result",
          "data": {
            "text/html": [
              "\n",
              "  <div id=\"df-17abf6cc-7234-44f7-a451-6a7e15a55f9c\">\n",
              "    <div class=\"colab-df-container\">\n",
              "      <div>\n",
              "<style scoped>\n",
              "    .dataframe tbody tr th:only-of-type {\n",
              "        vertical-align: middle;\n",
              "    }\n",
              "\n",
              "    .dataframe tbody tr th {\n",
              "        vertical-align: top;\n",
              "    }\n",
              "\n",
              "    .dataframe thead th {\n",
              "        text-align: right;\n",
              "    }\n",
              "</style>\n",
              "<table border=\"1\" class=\"dataframe\">\n",
              "  <thead>\n",
              "    <tr style=\"text-align: right;\">\n",
              "      <th></th>\n",
              "      <th>TRIP_ID</th>\n",
              "      <th>CALL_TYPE</th>\n",
              "      <th>ORIGIN_CALL</th>\n",
              "      <th>ORIGIN_STAND</th>\n",
              "      <th>TAXI_ID</th>\n",
              "      <th>TIMESTAMP</th>\n",
              "      <th>DAY_TYPE</th>\n",
              "      <th>MISSING_DATA</th>\n",
              "      <th>POLYLINE</th>\n",
              "    </tr>\n",
              "  </thead>\n",
              "  <tbody>\n",
              "    <tr>\n",
              "      <th>0</th>\n",
              "      <td>1372636858620000589</td>\n",
              "      <td>C</td>\n",
              "      <td>NaN</td>\n",
              "      <td>NaN</td>\n",
              "      <td>20000589</td>\n",
              "      <td>1372636858</td>\n",
              "      <td>A</td>\n",
              "      <td>False</td>\n",
              "      <td>[[-8.618643,41.141412],[-8.618499,41.141376],[...</td>\n",
              "    </tr>\n",
              "    <tr>\n",
              "      <th>1</th>\n",
              "      <td>1372637303620000596</td>\n",
              "      <td>B</td>\n",
              "      <td>NaN</td>\n",
              "      <td>7.0</td>\n",
              "      <td>20000596</td>\n",
              "      <td>1372637303</td>\n",
              "      <td>A</td>\n",
              "      <td>False</td>\n",
              "      <td>[[-8.639847,41.159826],[-8.640351,41.159871],[...</td>\n",
              "    </tr>\n",
              "    <tr>\n",
              "      <th>2</th>\n",
              "      <td>1372636951620000320</td>\n",
              "      <td>C</td>\n",
              "      <td>NaN</td>\n",
              "      <td>NaN</td>\n",
              "      <td>20000320</td>\n",
              "      <td>1372636951</td>\n",
              "      <td>A</td>\n",
              "      <td>False</td>\n",
              "      <td>[[-8.612964,41.140359],[-8.613378,41.14035],[-...</td>\n",
              "    </tr>\n",
              "    <tr>\n",
              "      <th>3</th>\n",
              "      <td>1372636854620000520</td>\n",
              "      <td>C</td>\n",
              "      <td>NaN</td>\n",
              "      <td>NaN</td>\n",
              "      <td>20000520</td>\n",
              "      <td>1372636854</td>\n",
              "      <td>A</td>\n",
              "      <td>False</td>\n",
              "      <td>[[-8.574678,41.151951],[-8.574705,41.151942],[...</td>\n",
              "    </tr>\n",
              "    <tr>\n",
              "      <th>4</th>\n",
              "      <td>1372637091620000337</td>\n",
              "      <td>C</td>\n",
              "      <td>NaN</td>\n",
              "      <td>NaN</td>\n",
              "      <td>20000337</td>\n",
              "      <td>1372637091</td>\n",
              "      <td>A</td>\n",
              "      <td>False</td>\n",
              "      <td>[[-8.645994,41.18049],[-8.645949,41.180517],[-...</td>\n",
              "    </tr>\n",
              "    <tr>\n",
              "      <th>5</th>\n",
              "      <td>1372636965620000231</td>\n",
              "      <td>C</td>\n",
              "      <td>NaN</td>\n",
              "      <td>NaN</td>\n",
              "      <td>20000231</td>\n",
              "      <td>1372636965</td>\n",
              "      <td>A</td>\n",
              "      <td>False</td>\n",
              "      <td>[[-8.615502,41.140674],[-8.614854,41.140926],[...</td>\n",
              "    </tr>\n",
              "    <tr>\n",
              "      <th>6</th>\n",
              "      <td>1372637210620000456</td>\n",
              "      <td>C</td>\n",
              "      <td>NaN</td>\n",
              "      <td>NaN</td>\n",
              "      <td>20000456</td>\n",
              "      <td>1372637210</td>\n",
              "      <td>A</td>\n",
              "      <td>False</td>\n",
              "      <td>[[-8.57952,41.145948],[-8.580942,41.145039],[-...</td>\n",
              "    </tr>\n",
              "    <tr>\n",
              "      <th>7</th>\n",
              "      <td>1372637299620000011</td>\n",
              "      <td>C</td>\n",
              "      <td>NaN</td>\n",
              "      <td>NaN</td>\n",
              "      <td>20000011</td>\n",
              "      <td>1372637299</td>\n",
              "      <td>A</td>\n",
              "      <td>False</td>\n",
              "      <td>[[-8.617563,41.146182],[-8.617527,41.145849],[...</td>\n",
              "    </tr>\n",
              "    <tr>\n",
              "      <th>8</th>\n",
              "      <td>1372637274620000403</td>\n",
              "      <td>C</td>\n",
              "      <td>NaN</td>\n",
              "      <td>NaN</td>\n",
              "      <td>20000403</td>\n",
              "      <td>1372637274</td>\n",
              "      <td>A</td>\n",
              "      <td>False</td>\n",
              "      <td>[[-8.611794,41.140557],[-8.611785,41.140575],[...</td>\n",
              "    </tr>\n",
              "    <tr>\n",
              "      <th>9</th>\n",
              "      <td>1372637905620000320</td>\n",
              "      <td>C</td>\n",
              "      <td>NaN</td>\n",
              "      <td>NaN</td>\n",
              "      <td>20000320</td>\n",
              "      <td>1372637905</td>\n",
              "      <td>A</td>\n",
              "      <td>False</td>\n",
              "      <td>[[-8.615907,41.140557],[-8.614449,41.141088],[...</td>\n",
              "    </tr>\n",
              "  </tbody>\n",
              "</table>\n",
              "</div>\n",
              "      <button class=\"colab-df-convert\" onclick=\"convertToInteractive('df-17abf6cc-7234-44f7-a451-6a7e15a55f9c')\"\n",
              "              title=\"Convert this dataframe to an interactive table.\"\n",
              "              style=\"display:none;\">\n",
              "        \n",
              "  <svg xmlns=\"http://www.w3.org/2000/svg\" height=\"24px\"viewBox=\"0 0 24 24\"\n",
              "       width=\"24px\">\n",
              "    <path d=\"M0 0h24v24H0V0z\" fill=\"none\"/>\n",
              "    <path d=\"M18.56 5.44l.94 2.06.94-2.06 2.06-.94-2.06-.94-.94-2.06-.94 2.06-2.06.94zm-11 1L8.5 8.5l.94-2.06 2.06-.94-2.06-.94L8.5 2.5l-.94 2.06-2.06.94zm10 10l.94 2.06.94-2.06 2.06-.94-2.06-.94-.94-2.06-.94 2.06-2.06.94z\"/><path d=\"M17.41 7.96l-1.37-1.37c-.4-.4-.92-.59-1.43-.59-.52 0-1.04.2-1.43.59L10.3 9.45l-7.72 7.72c-.78.78-.78 2.05 0 2.83L4 21.41c.39.39.9.59 1.41.59.51 0 1.02-.2 1.41-.59l7.78-7.78 2.81-2.81c.8-.78.8-2.07 0-2.86zM5.41 20L4 18.59l7.72-7.72 1.47 1.35L5.41 20z\"/>\n",
              "  </svg>\n",
              "      </button>\n",
              "      \n",
              "  <style>\n",
              "    .colab-df-container {\n",
              "      display:flex;\n",
              "      flex-wrap:wrap;\n",
              "      gap: 12px;\n",
              "    }\n",
              "\n",
              "    .colab-df-convert {\n",
              "      background-color: #E8F0FE;\n",
              "      border: none;\n",
              "      border-radius: 50%;\n",
              "      cursor: pointer;\n",
              "      display: none;\n",
              "      fill: #1967D2;\n",
              "      height: 32px;\n",
              "      padding: 0 0 0 0;\n",
              "      width: 32px;\n",
              "    }\n",
              "\n",
              "    .colab-df-convert:hover {\n",
              "      background-color: #E2EBFA;\n",
              "      box-shadow: 0px 1px 2px rgba(60, 64, 67, 0.3), 0px 1px 3px 1px rgba(60, 64, 67, 0.15);\n",
              "      fill: #174EA6;\n",
              "    }\n",
              "\n",
              "    [theme=dark] .colab-df-convert {\n",
              "      background-color: #3B4455;\n",
              "      fill: #D2E3FC;\n",
              "    }\n",
              "\n",
              "    [theme=dark] .colab-df-convert:hover {\n",
              "      background-color: #434B5C;\n",
              "      box-shadow: 0px 1px 3px 1px rgba(0, 0, 0, 0.15);\n",
              "      filter: drop-shadow(0px 1px 2px rgba(0, 0, 0, 0.3));\n",
              "      fill: #FFFFFF;\n",
              "    }\n",
              "  </style>\n",
              "\n",
              "      <script>\n",
              "        const buttonEl =\n",
              "          document.querySelector('#df-17abf6cc-7234-44f7-a451-6a7e15a55f9c button.colab-df-convert');\n",
              "        buttonEl.style.display =\n",
              "          google.colab.kernel.accessAllowed ? 'block' : 'none';\n",
              "\n",
              "        async function convertToInteractive(key) {\n",
              "          const element = document.querySelector('#df-17abf6cc-7234-44f7-a451-6a7e15a55f9c');\n",
              "          const dataTable =\n",
              "            await google.colab.kernel.invokeFunction('convertToInteractive',\n",
              "                                                     [key], {});\n",
              "          if (!dataTable) return;\n",
              "\n",
              "          const docLinkHtml = 'Like what you see? Visit the ' +\n",
              "            '<a target=\"_blank\" href=https://colab.research.google.com/notebooks/data_table.ipynb>data table notebook</a>'\n",
              "            + ' to learn more about interactive tables.';\n",
              "          element.innerHTML = '';\n",
              "          dataTable['output_type'] = 'display_data';\n",
              "          await google.colab.output.renderOutput(dataTable, element);\n",
              "          const docLink = document.createElement('div');\n",
              "          docLink.innerHTML = docLinkHtml;\n",
              "          element.appendChild(docLink);\n",
              "        }\n",
              "      </script>\n",
              "    </div>\n",
              "  </div>\n",
              "  "
            ],
            "text/plain": [
              "               TRIP_ID  ...                                           POLYLINE\n",
              "0  1372636858620000589  ...  [[-8.618643,41.141412],[-8.618499,41.141376],[...\n",
              "1  1372637303620000596  ...  [[-8.639847,41.159826],[-8.640351,41.159871],[...\n",
              "2  1372636951620000320  ...  [[-8.612964,41.140359],[-8.613378,41.14035],[-...\n",
              "3  1372636854620000520  ...  [[-8.574678,41.151951],[-8.574705,41.151942],[...\n",
              "4  1372637091620000337  ...  [[-8.645994,41.18049],[-8.645949,41.180517],[-...\n",
              "5  1372636965620000231  ...  [[-8.615502,41.140674],[-8.614854,41.140926],[...\n",
              "6  1372637210620000456  ...  [[-8.57952,41.145948],[-8.580942,41.145039],[-...\n",
              "7  1372637299620000011  ...  [[-8.617563,41.146182],[-8.617527,41.145849],[...\n",
              "8  1372637274620000403  ...  [[-8.611794,41.140557],[-8.611785,41.140575],[...\n",
              "9  1372637905620000320  ...  [[-8.615907,41.140557],[-8.614449,41.141088],[...\n",
              "\n",
              "[10 rows x 9 columns]"
            ]
          },
          "metadata": {},
          "execution_count": 10
        }
      ]
    },
    {
      "cell_type": "markdown",
      "source": [
        "\n",
        "\n",
        "Filtering out categorical features.\n"
      ],
      "metadata": {
        "id": "vq6I7xnHIkIr"
      }
    },
    {
      "cell_type": "code",
      "source": [
        "df.dtypes[df.dtypes == 'object']"
      ],
      "metadata": {
        "colab": {
          "base_uri": "https://localhost:8080/"
        },
        "id": "YjeF52xRIcqa",
        "outputId": "4e5934a7-44de-459a-c13d-494c182a96af"
      },
      "execution_count": 11,
      "outputs": [
        {
          "output_type": "execute_result",
          "data": {
            "text/plain": [
              "CALL_TYPE    object\n",
              "DAY_TYPE     object\n",
              "POLYLINE     object\n",
              "dtype: object"
            ]
          },
          "metadata": {},
          "execution_count": 11
        }
      ]
    },
    {
      "cell_type": "code",
      "source": [
        "df.isnull().sum()"
      ],
      "metadata": {
        "colab": {
          "base_uri": "https://localhost:8080/"
        },
        "id": "2Avv6bvcItN6",
        "outputId": "b8454db0-3152-411d-d964-00687fb92f6a"
      },
      "execution_count": 12,
      "outputs": [
        {
          "output_type": "execute_result",
          "data": {
            "text/plain": [
              "TRIP_ID               0\n",
              "CALL_TYPE             0\n",
              "ORIGIN_CALL     1345900\n",
              "ORIGIN_STAND     904091\n",
              "TAXI_ID               0\n",
              "TIMESTAMP             0\n",
              "DAY_TYPE              0\n",
              "MISSING_DATA          0\n",
              "POLYLINE              0\n",
              "dtype: int64"
            ]
          },
          "metadata": {},
          "execution_count": 12
        }
      ]
    },
    {
      "cell_type": "code",
      "source": [
        "df.info()"
      ],
      "metadata": {
        "colab": {
          "base_uri": "https://localhost:8080/"
        },
        "id": "UXx_yRCCIyfq",
        "outputId": "d6b671d5-5e91-471c-ebd4-374506950233"
      },
      "execution_count": 13,
      "outputs": [
        {
          "output_type": "stream",
          "name": "stdout",
          "text": [
            "<class 'pandas.core.frame.DataFrame'>\n",
            "RangeIndex: 1710670 entries, 0 to 1710669\n",
            "Data columns (total 9 columns):\n",
            " #   Column        Dtype  \n",
            "---  ------        -----  \n",
            " 0   TRIP_ID       int64  \n",
            " 1   CALL_TYPE     object \n",
            " 2   ORIGIN_CALL   float64\n",
            " 3   ORIGIN_STAND  float64\n",
            " 4   TAXI_ID       int64  \n",
            " 5   TIMESTAMP     int64  \n",
            " 6   DAY_TYPE      object \n",
            " 7   MISSING_DATA  bool   \n",
            " 8   POLYLINE      object \n",
            "dtypes: bool(1), float64(2), int64(3), object(3)\n",
            "memory usage: 106.0+ MB\n"
          ]
        }
      ]
    },
    {
      "cell_type": "code",
      "source": [
        "df.describe()"
      ],
      "metadata": {
        "colab": {
          "base_uri": "https://localhost:8080/",
          "height": 300
        },
        "id": "xv2s6ARXJodS",
        "outputId": "a56422bb-6066-4dad-e746-1b374c2a9b13"
      },
      "execution_count": 14,
      "outputs": [
        {
          "output_type": "execute_result",
          "data": {
            "text/html": [
              "\n",
              "  <div id=\"df-3481340a-97d9-4676-9104-e753b70ff9c6\">\n",
              "    <div class=\"colab-df-container\">\n",
              "      <div>\n",
              "<style scoped>\n",
              "    .dataframe tbody tr th:only-of-type {\n",
              "        vertical-align: middle;\n",
              "    }\n",
              "\n",
              "    .dataframe tbody tr th {\n",
              "        vertical-align: top;\n",
              "    }\n",
              "\n",
              "    .dataframe thead th {\n",
              "        text-align: right;\n",
              "    }\n",
              "</style>\n",
              "<table border=\"1\" class=\"dataframe\">\n",
              "  <thead>\n",
              "    <tr style=\"text-align: right;\">\n",
              "      <th></th>\n",
              "      <th>TRIP_ID</th>\n",
              "      <th>ORIGIN_CALL</th>\n",
              "      <th>ORIGIN_STAND</th>\n",
              "      <th>TAXI_ID</th>\n",
              "      <th>TIMESTAMP</th>\n",
              "    </tr>\n",
              "  </thead>\n",
              "  <tbody>\n",
              "    <tr>\n",
              "      <th>count</th>\n",
              "      <td>1.710670e+06</td>\n",
              "      <td>364770.000000</td>\n",
              "      <td>806579.000000</td>\n",
              "      <td>1.710670e+06</td>\n",
              "      <td>1.710670e+06</td>\n",
              "    </tr>\n",
              "    <tr>\n",
              "      <th>mean</th>\n",
              "      <td>1.388622e+18</td>\n",
              "      <td>24490.363018</td>\n",
              "      <td>30.272381</td>\n",
              "      <td>2.000035e+07</td>\n",
              "      <td>1.388622e+09</td>\n",
              "    </tr>\n",
              "    <tr>\n",
              "      <th>std</th>\n",
              "      <td>9.180944e+15</td>\n",
              "      <td>19624.290043</td>\n",
              "      <td>17.747840</td>\n",
              "      <td>2.112405e+02</td>\n",
              "      <td>9.180944e+06</td>\n",
              "    </tr>\n",
              "    <tr>\n",
              "      <th>min</th>\n",
              "      <td>1.372637e+18</td>\n",
              "      <td>2001.000000</td>\n",
              "      <td>1.000000</td>\n",
              "      <td>2.000000e+07</td>\n",
              "      <td>1.372637e+09</td>\n",
              "    </tr>\n",
              "    <tr>\n",
              "      <th>25%</th>\n",
              "      <td>1.380731e+18</td>\n",
              "      <td>6593.000000</td>\n",
              "      <td>15.000000</td>\n",
              "      <td>2.000017e+07</td>\n",
              "      <td>1.380731e+09</td>\n",
              "    </tr>\n",
              "    <tr>\n",
              "      <th>50%</th>\n",
              "      <td>1.388493e+18</td>\n",
              "      <td>18755.000000</td>\n",
              "      <td>27.000000</td>\n",
              "      <td>2.000034e+07</td>\n",
              "      <td>1.388493e+09</td>\n",
              "    </tr>\n",
              "    <tr>\n",
              "      <th>75%</th>\n",
              "      <td>1.396750e+18</td>\n",
              "      <td>40808.000000</td>\n",
              "      <td>49.000000</td>\n",
              "      <td>2.000052e+07</td>\n",
              "      <td>1.396750e+09</td>\n",
              "    </tr>\n",
              "    <tr>\n",
              "      <th>max</th>\n",
              "      <td>1.404173e+18</td>\n",
              "      <td>63884.000000</td>\n",
              "      <td>63.000000</td>\n",
              "      <td>2.000098e+07</td>\n",
              "      <td>1.404173e+09</td>\n",
              "    </tr>\n",
              "  </tbody>\n",
              "</table>\n",
              "</div>\n",
              "      <button class=\"colab-df-convert\" onclick=\"convertToInteractive('df-3481340a-97d9-4676-9104-e753b70ff9c6')\"\n",
              "              title=\"Convert this dataframe to an interactive table.\"\n",
              "              style=\"display:none;\">\n",
              "        \n",
              "  <svg xmlns=\"http://www.w3.org/2000/svg\" height=\"24px\"viewBox=\"0 0 24 24\"\n",
              "       width=\"24px\">\n",
              "    <path d=\"M0 0h24v24H0V0z\" fill=\"none\"/>\n",
              "    <path d=\"M18.56 5.44l.94 2.06.94-2.06 2.06-.94-2.06-.94-.94-2.06-.94 2.06-2.06.94zm-11 1L8.5 8.5l.94-2.06 2.06-.94-2.06-.94L8.5 2.5l-.94 2.06-2.06.94zm10 10l.94 2.06.94-2.06 2.06-.94-2.06-.94-.94-2.06-.94 2.06-2.06.94z\"/><path d=\"M17.41 7.96l-1.37-1.37c-.4-.4-.92-.59-1.43-.59-.52 0-1.04.2-1.43.59L10.3 9.45l-7.72 7.72c-.78.78-.78 2.05 0 2.83L4 21.41c.39.39.9.59 1.41.59.51 0 1.02-.2 1.41-.59l7.78-7.78 2.81-2.81c.8-.78.8-2.07 0-2.86zM5.41 20L4 18.59l7.72-7.72 1.47 1.35L5.41 20z\"/>\n",
              "  </svg>\n",
              "      </button>\n",
              "      \n",
              "  <style>\n",
              "    .colab-df-container {\n",
              "      display:flex;\n",
              "      flex-wrap:wrap;\n",
              "      gap: 12px;\n",
              "    }\n",
              "\n",
              "    .colab-df-convert {\n",
              "      background-color: #E8F0FE;\n",
              "      border: none;\n",
              "      border-radius: 50%;\n",
              "      cursor: pointer;\n",
              "      display: none;\n",
              "      fill: #1967D2;\n",
              "      height: 32px;\n",
              "      padding: 0 0 0 0;\n",
              "      width: 32px;\n",
              "    }\n",
              "\n",
              "    .colab-df-convert:hover {\n",
              "      background-color: #E2EBFA;\n",
              "      box-shadow: 0px 1px 2px rgba(60, 64, 67, 0.3), 0px 1px 3px 1px rgba(60, 64, 67, 0.15);\n",
              "      fill: #174EA6;\n",
              "    }\n",
              "\n",
              "    [theme=dark] .colab-df-convert {\n",
              "      background-color: #3B4455;\n",
              "      fill: #D2E3FC;\n",
              "    }\n",
              "\n",
              "    [theme=dark] .colab-df-convert:hover {\n",
              "      background-color: #434B5C;\n",
              "      box-shadow: 0px 1px 3px 1px rgba(0, 0, 0, 0.15);\n",
              "      filter: drop-shadow(0px 1px 2px rgba(0, 0, 0, 0.3));\n",
              "      fill: #FFFFFF;\n",
              "    }\n",
              "  </style>\n",
              "\n",
              "      <script>\n",
              "        const buttonEl =\n",
              "          document.querySelector('#df-3481340a-97d9-4676-9104-e753b70ff9c6 button.colab-df-convert');\n",
              "        buttonEl.style.display =\n",
              "          google.colab.kernel.accessAllowed ? 'block' : 'none';\n",
              "\n",
              "        async function convertToInteractive(key) {\n",
              "          const element = document.querySelector('#df-3481340a-97d9-4676-9104-e753b70ff9c6');\n",
              "          const dataTable =\n",
              "            await google.colab.kernel.invokeFunction('convertToInteractive',\n",
              "                                                     [key], {});\n",
              "          if (!dataTable) return;\n",
              "\n",
              "          const docLinkHtml = 'Like what you see? Visit the ' +\n",
              "            '<a target=\"_blank\" href=https://colab.research.google.com/notebooks/data_table.ipynb>data table notebook</a>'\n",
              "            + ' to learn more about interactive tables.';\n",
              "          element.innerHTML = '';\n",
              "          dataTable['output_type'] = 'display_data';\n",
              "          await google.colab.output.renderOutput(dataTable, element);\n",
              "          const docLink = document.createElement('div');\n",
              "          docLink.innerHTML = docLinkHtml;\n",
              "          element.appendChild(docLink);\n",
              "        }\n",
              "      </script>\n",
              "    </div>\n",
              "  </div>\n",
              "  "
            ],
            "text/plain": [
              "            TRIP_ID    ORIGIN_CALL   ORIGIN_STAND       TAXI_ID     TIMESTAMP\n",
              "count  1.710670e+06  364770.000000  806579.000000  1.710670e+06  1.710670e+06\n",
              "mean   1.388622e+18   24490.363018      30.272381  2.000035e+07  1.388622e+09\n",
              "std    9.180944e+15   19624.290043      17.747840  2.112405e+02  9.180944e+06\n",
              "min    1.372637e+18    2001.000000       1.000000  2.000000e+07  1.372637e+09\n",
              "25%    1.380731e+18    6593.000000      15.000000  2.000017e+07  1.380731e+09\n",
              "50%    1.388493e+18   18755.000000      27.000000  2.000034e+07  1.388493e+09\n",
              "75%    1.396750e+18   40808.000000      49.000000  2.000052e+07  1.396750e+09\n",
              "max    1.404173e+18   63884.000000      63.000000  2.000098e+07  1.404173e+09"
            ]
          },
          "metadata": {},
          "execution_count": 14
        }
      ]
    },
    {
      "cell_type": "markdown",
      "source": [
        "\n",
        "\n",
        "Describing the categorical features.\n"
      ],
      "metadata": {
        "id": "kAgbOvKcJ2g9"
      }
    },
    {
      "cell_type": "code",
      "source": [
        "df.describe(include = ['object'])"
      ],
      "metadata": {
        "colab": {
          "base_uri": "https://localhost:8080/",
          "height": 175
        },
        "id": "aieJIo-4JsjZ",
        "outputId": "59860f43-592f-4db0-f88d-95cc29145d78"
      },
      "execution_count": 15,
      "outputs": [
        {
          "output_type": "execute_result",
          "data": {
            "text/html": [
              "\n",
              "  <div id=\"df-b195eadc-1147-4244-b8a6-780d06b0edd9\">\n",
              "    <div class=\"colab-df-container\">\n",
              "      <div>\n",
              "<style scoped>\n",
              "    .dataframe tbody tr th:only-of-type {\n",
              "        vertical-align: middle;\n",
              "    }\n",
              "\n",
              "    .dataframe tbody tr th {\n",
              "        vertical-align: top;\n",
              "    }\n",
              "\n",
              "    .dataframe thead th {\n",
              "        text-align: right;\n",
              "    }\n",
              "</style>\n",
              "<table border=\"1\" class=\"dataframe\">\n",
              "  <thead>\n",
              "    <tr style=\"text-align: right;\">\n",
              "      <th></th>\n",
              "      <th>CALL_TYPE</th>\n",
              "      <th>DAY_TYPE</th>\n",
              "      <th>POLYLINE</th>\n",
              "    </tr>\n",
              "  </thead>\n",
              "  <tbody>\n",
              "    <tr>\n",
              "      <th>count</th>\n",
              "      <td>1710670</td>\n",
              "      <td>1710670</td>\n",
              "      <td>1710670</td>\n",
              "    </tr>\n",
              "    <tr>\n",
              "      <th>unique</th>\n",
              "      <td>3</td>\n",
              "      <td>1</td>\n",
              "      <td>1703650</td>\n",
              "    </tr>\n",
              "    <tr>\n",
              "      <th>top</th>\n",
              "      <td>B</td>\n",
              "      <td>A</td>\n",
              "      <td>[]</td>\n",
              "    </tr>\n",
              "    <tr>\n",
              "      <th>freq</th>\n",
              "      <td>817881</td>\n",
              "      <td>1710670</td>\n",
              "      <td>5901</td>\n",
              "    </tr>\n",
              "  </tbody>\n",
              "</table>\n",
              "</div>\n",
              "      <button class=\"colab-df-convert\" onclick=\"convertToInteractive('df-b195eadc-1147-4244-b8a6-780d06b0edd9')\"\n",
              "              title=\"Convert this dataframe to an interactive table.\"\n",
              "              style=\"display:none;\">\n",
              "        \n",
              "  <svg xmlns=\"http://www.w3.org/2000/svg\" height=\"24px\"viewBox=\"0 0 24 24\"\n",
              "       width=\"24px\">\n",
              "    <path d=\"M0 0h24v24H0V0z\" fill=\"none\"/>\n",
              "    <path d=\"M18.56 5.44l.94 2.06.94-2.06 2.06-.94-2.06-.94-.94-2.06-.94 2.06-2.06.94zm-11 1L8.5 8.5l.94-2.06 2.06-.94-2.06-.94L8.5 2.5l-.94 2.06-2.06.94zm10 10l.94 2.06.94-2.06 2.06-.94-2.06-.94-.94-2.06-.94 2.06-2.06.94z\"/><path d=\"M17.41 7.96l-1.37-1.37c-.4-.4-.92-.59-1.43-.59-.52 0-1.04.2-1.43.59L10.3 9.45l-7.72 7.72c-.78.78-.78 2.05 0 2.83L4 21.41c.39.39.9.59 1.41.59.51 0 1.02-.2 1.41-.59l7.78-7.78 2.81-2.81c.8-.78.8-2.07 0-2.86zM5.41 20L4 18.59l7.72-7.72 1.47 1.35L5.41 20z\"/>\n",
              "  </svg>\n",
              "      </button>\n",
              "      \n",
              "  <style>\n",
              "    .colab-df-container {\n",
              "      display:flex;\n",
              "      flex-wrap:wrap;\n",
              "      gap: 12px;\n",
              "    }\n",
              "\n",
              "    .colab-df-convert {\n",
              "      background-color: #E8F0FE;\n",
              "      border: none;\n",
              "      border-radius: 50%;\n",
              "      cursor: pointer;\n",
              "      display: none;\n",
              "      fill: #1967D2;\n",
              "      height: 32px;\n",
              "      padding: 0 0 0 0;\n",
              "      width: 32px;\n",
              "    }\n",
              "\n",
              "    .colab-df-convert:hover {\n",
              "      background-color: #E2EBFA;\n",
              "      box-shadow: 0px 1px 2px rgba(60, 64, 67, 0.3), 0px 1px 3px 1px rgba(60, 64, 67, 0.15);\n",
              "      fill: #174EA6;\n",
              "    }\n",
              "\n",
              "    [theme=dark] .colab-df-convert {\n",
              "      background-color: #3B4455;\n",
              "      fill: #D2E3FC;\n",
              "    }\n",
              "\n",
              "    [theme=dark] .colab-df-convert:hover {\n",
              "      background-color: #434B5C;\n",
              "      box-shadow: 0px 1px 3px 1px rgba(0, 0, 0, 0.15);\n",
              "      filter: drop-shadow(0px 1px 2px rgba(0, 0, 0, 0.3));\n",
              "      fill: #FFFFFF;\n",
              "    }\n",
              "  </style>\n",
              "\n",
              "      <script>\n",
              "        const buttonEl =\n",
              "          document.querySelector('#df-b195eadc-1147-4244-b8a6-780d06b0edd9 button.colab-df-convert');\n",
              "        buttonEl.style.display =\n",
              "          google.colab.kernel.accessAllowed ? 'block' : 'none';\n",
              "\n",
              "        async function convertToInteractive(key) {\n",
              "          const element = document.querySelector('#df-b195eadc-1147-4244-b8a6-780d06b0edd9');\n",
              "          const dataTable =\n",
              "            await google.colab.kernel.invokeFunction('convertToInteractive',\n",
              "                                                     [key], {});\n",
              "          if (!dataTable) return;\n",
              "\n",
              "          const docLinkHtml = 'Like what you see? Visit the ' +\n",
              "            '<a target=\"_blank\" href=https://colab.research.google.com/notebooks/data_table.ipynb>data table notebook</a>'\n",
              "            + ' to learn more about interactive tables.';\n",
              "          element.innerHTML = '';\n",
              "          dataTable['output_type'] = 'display_data';\n",
              "          await google.colab.output.renderOutput(dataTable, element);\n",
              "          const docLink = document.createElement('div');\n",
              "          docLink.innerHTML = docLinkHtml;\n",
              "          element.appendChild(docLink);\n",
              "        }\n",
              "      </script>\n",
              "    </div>\n",
              "  </div>\n",
              "  "
            ],
            "text/plain": [
              "       CALL_TYPE DAY_TYPE POLYLINE\n",
              "count    1710670  1710670  1710670\n",
              "unique         3        1  1703650\n",
              "top            B        A       []\n",
              "freq      817881  1710670     5901"
            ]
          },
          "metadata": {},
          "execution_count": 15
        }
      ]
    },
    {
      "cell_type": "markdown",
      "source": [
        "We can see the DAY_TYPE has only 1 unique value and that is 'A' which means that all the trips are started on normal day or weekend. Also the 5901 observations don't have the POLYLINE values means we cannot calculate the travel time for those trips."
      ],
      "metadata": {
        "id": "GrHE56bBKTFa"
      }
    },
    {
      "cell_type": "code",
      "source": [
        "df.sort_values('TIMESTAMP',inplace = True)"
      ],
      "metadata": {
        "id": "gTzm-YTAKSRr"
      },
      "execution_count": 16,
      "outputs": []
    },
    {
      "cell_type": "code",
      "source": [
        "df.head()"
      ],
      "metadata": {
        "colab": {
          "base_uri": "https://localhost:8080/",
          "height": 206
        },
        "id": "YMO5bnXHJ4hJ",
        "outputId": "5d46a56e-5735-46e3-e0f5-77ef3ac9731a"
      },
      "execution_count": 17,
      "outputs": [
        {
          "output_type": "execute_result",
          "data": {
            "text/html": [
              "\n",
              "  <div id=\"df-f3a29d92-d3dd-4fff-82c6-f3760d9a771c\">\n",
              "    <div class=\"colab-df-container\">\n",
              "      <div>\n",
              "<style scoped>\n",
              "    .dataframe tbody tr th:only-of-type {\n",
              "        vertical-align: middle;\n",
              "    }\n",
              "\n",
              "    .dataframe tbody tr th {\n",
              "        vertical-align: top;\n",
              "    }\n",
              "\n",
              "    .dataframe thead th {\n",
              "        text-align: right;\n",
              "    }\n",
              "</style>\n",
              "<table border=\"1\" class=\"dataframe\">\n",
              "  <thead>\n",
              "    <tr style=\"text-align: right;\">\n",
              "      <th></th>\n",
              "      <th>TRIP_ID</th>\n",
              "      <th>CALL_TYPE</th>\n",
              "      <th>ORIGIN_CALL</th>\n",
              "      <th>ORIGIN_STAND</th>\n",
              "      <th>TAXI_ID</th>\n",
              "      <th>TIMESTAMP</th>\n",
              "      <th>DAY_TYPE</th>\n",
              "      <th>MISSING_DATA</th>\n",
              "      <th>POLYLINE</th>\n",
              "    </tr>\n",
              "  </thead>\n",
              "  <tbody>\n",
              "    <tr>\n",
              "      <th>577</th>\n",
              "      <td>1372636853620000380</td>\n",
              "      <td>C</td>\n",
              "      <td>NaN</td>\n",
              "      <td>NaN</td>\n",
              "      <td>20000380</td>\n",
              "      <td>1372636853</td>\n",
              "      <td>A</td>\n",
              "      <td>False</td>\n",
              "      <td>[[-8.610291,41.140746],[-8.6103,41.140755],[-8...</td>\n",
              "    </tr>\n",
              "    <tr>\n",
              "      <th>3</th>\n",
              "      <td>1372636854620000520</td>\n",
              "      <td>C</td>\n",
              "      <td>NaN</td>\n",
              "      <td>NaN</td>\n",
              "      <td>20000520</td>\n",
              "      <td>1372636854</td>\n",
              "      <td>A</td>\n",
              "      <td>False</td>\n",
              "      <td>[[-8.574678,41.151951],[-8.574705,41.151942],[...</td>\n",
              "    </tr>\n",
              "    <tr>\n",
              "      <th>0</th>\n",
              "      <td>1372636858620000589</td>\n",
              "      <td>C</td>\n",
              "      <td>NaN</td>\n",
              "      <td>NaN</td>\n",
              "      <td>20000589</td>\n",
              "      <td>1372636858</td>\n",
              "      <td>A</td>\n",
              "      <td>False</td>\n",
              "      <td>[[-8.618643,41.141412],[-8.618499,41.141376],[...</td>\n",
              "    </tr>\n",
              "    <tr>\n",
              "      <th>10</th>\n",
              "      <td>1372636875620000233</td>\n",
              "      <td>C</td>\n",
              "      <td>NaN</td>\n",
              "      <td>NaN</td>\n",
              "      <td>20000233</td>\n",
              "      <td>1372636875</td>\n",
              "      <td>A</td>\n",
              "      <td>False</td>\n",
              "      <td>[[-8.619894,41.148009],[-8.620164,41.14773],[-...</td>\n",
              "    </tr>\n",
              "    <tr>\n",
              "      <th>64</th>\n",
              "      <td>1372636896620000360</td>\n",
              "      <td>C</td>\n",
              "      <td>NaN</td>\n",
              "      <td>NaN</td>\n",
              "      <td>20000360</td>\n",
              "      <td>1372636896</td>\n",
              "      <td>A</td>\n",
              "      <td>False</td>\n",
              "      <td>[[-8.617599,41.146137],[-8.617581,41.14593],[-...</td>\n",
              "    </tr>\n",
              "  </tbody>\n",
              "</table>\n",
              "</div>\n",
              "      <button class=\"colab-df-convert\" onclick=\"convertToInteractive('df-f3a29d92-d3dd-4fff-82c6-f3760d9a771c')\"\n",
              "              title=\"Convert this dataframe to an interactive table.\"\n",
              "              style=\"display:none;\">\n",
              "        \n",
              "  <svg xmlns=\"http://www.w3.org/2000/svg\" height=\"24px\"viewBox=\"0 0 24 24\"\n",
              "       width=\"24px\">\n",
              "    <path d=\"M0 0h24v24H0V0z\" fill=\"none\"/>\n",
              "    <path d=\"M18.56 5.44l.94 2.06.94-2.06 2.06-.94-2.06-.94-.94-2.06-.94 2.06-2.06.94zm-11 1L8.5 8.5l.94-2.06 2.06-.94-2.06-.94L8.5 2.5l-.94 2.06-2.06.94zm10 10l.94 2.06.94-2.06 2.06-.94-2.06-.94-.94-2.06-.94 2.06-2.06.94z\"/><path d=\"M17.41 7.96l-1.37-1.37c-.4-.4-.92-.59-1.43-.59-.52 0-1.04.2-1.43.59L10.3 9.45l-7.72 7.72c-.78.78-.78 2.05 0 2.83L4 21.41c.39.39.9.59 1.41.59.51 0 1.02-.2 1.41-.59l7.78-7.78 2.81-2.81c.8-.78.8-2.07 0-2.86zM5.41 20L4 18.59l7.72-7.72 1.47 1.35L5.41 20z\"/>\n",
              "  </svg>\n",
              "      </button>\n",
              "      \n",
              "  <style>\n",
              "    .colab-df-container {\n",
              "      display:flex;\n",
              "      flex-wrap:wrap;\n",
              "      gap: 12px;\n",
              "    }\n",
              "\n",
              "    .colab-df-convert {\n",
              "      background-color: #E8F0FE;\n",
              "      border: none;\n",
              "      border-radius: 50%;\n",
              "      cursor: pointer;\n",
              "      display: none;\n",
              "      fill: #1967D2;\n",
              "      height: 32px;\n",
              "      padding: 0 0 0 0;\n",
              "      width: 32px;\n",
              "    }\n",
              "\n",
              "    .colab-df-convert:hover {\n",
              "      background-color: #E2EBFA;\n",
              "      box-shadow: 0px 1px 2px rgba(60, 64, 67, 0.3), 0px 1px 3px 1px rgba(60, 64, 67, 0.15);\n",
              "      fill: #174EA6;\n",
              "    }\n",
              "\n",
              "    [theme=dark] .colab-df-convert {\n",
              "      background-color: #3B4455;\n",
              "      fill: #D2E3FC;\n",
              "    }\n",
              "\n",
              "    [theme=dark] .colab-df-convert:hover {\n",
              "      background-color: #434B5C;\n",
              "      box-shadow: 0px 1px 3px 1px rgba(0, 0, 0, 0.15);\n",
              "      filter: drop-shadow(0px 1px 2px rgba(0, 0, 0, 0.3));\n",
              "      fill: #FFFFFF;\n",
              "    }\n",
              "  </style>\n",
              "\n",
              "      <script>\n",
              "        const buttonEl =\n",
              "          document.querySelector('#df-f3a29d92-d3dd-4fff-82c6-f3760d9a771c button.colab-df-convert');\n",
              "        buttonEl.style.display =\n",
              "          google.colab.kernel.accessAllowed ? 'block' : 'none';\n",
              "\n",
              "        async function convertToInteractive(key) {\n",
              "          const element = document.querySelector('#df-f3a29d92-d3dd-4fff-82c6-f3760d9a771c');\n",
              "          const dataTable =\n",
              "            await google.colab.kernel.invokeFunction('convertToInteractive',\n",
              "                                                     [key], {});\n",
              "          if (!dataTable) return;\n",
              "\n",
              "          const docLinkHtml = 'Like what you see? Visit the ' +\n",
              "            '<a target=\"_blank\" href=https://colab.research.google.com/notebooks/data_table.ipynb>data table notebook</a>'\n",
              "            + ' to learn more about interactive tables.';\n",
              "          element.innerHTML = '';\n",
              "          dataTable['output_type'] = 'display_data';\n",
              "          await google.colab.output.renderOutput(dataTable, element);\n",
              "          const docLink = document.createElement('div');\n",
              "          docLink.innerHTML = docLinkHtml;\n",
              "          element.appendChild(docLink);\n",
              "        }\n",
              "      </script>\n",
              "    </div>\n",
              "  </div>\n",
              "  "
            ],
            "text/plain": [
              "                 TRIP_ID  ...                                           POLYLINE\n",
              "577  1372636853620000380  ...  [[-8.610291,41.140746],[-8.6103,41.140755],[-8...\n",
              "3    1372636854620000520  ...  [[-8.574678,41.151951],[-8.574705,41.151942],[...\n",
              "0    1372636858620000589  ...  [[-8.618643,41.141412],[-8.618499,41.141376],[...\n",
              "10   1372636875620000233  ...  [[-8.619894,41.148009],[-8.620164,41.14773],[-...\n",
              "64   1372636896620000360  ...  [[-8.617599,41.146137],[-8.617581,41.14593],[-...\n",
              "\n",
              "[5 rows x 9 columns]"
            ]
          },
          "metadata": {},
          "execution_count": 17
        }
      ]
    },
    {
      "cell_type": "code",
      "source": [
        "df['year'] = df['TIMESTAMP'].apply(lambda x :datetime.datetime.fromtimestamp(x).year) \n",
        "df['month'] = df['TIMESTAMP'].apply(lambda x :datetime.datetime.fromtimestamp(x).month) \n",
        "df['month_day'] = df['TIMESTAMP'].apply(lambda x :datetime.datetime.fromtimestamp(x).day) \n",
        "df['hour'] = df['TIMESTAMP'].apply(lambda x :datetime.datetime.fromtimestamp(x).hour) \n",
        "df['week_day'] = df['TIMESTAMP'].apply(lambda x :datetime.datetime.fromtimestamp(x).weekday()) "
      ],
      "metadata": {
        "id": "mkBjWCX2PBFh"
      },
      "execution_count": 18,
      "outputs": []
    },
    {
      "cell_type": "code",
      "source": [
        "df.head()"
      ],
      "metadata": {
        "colab": {
          "base_uri": "https://localhost:8080/",
          "height": 337
        },
        "id": "fqPsqXRaPG5p",
        "outputId": "62afc81e-ddfd-4c9b-c8d9-caad6599135c"
      },
      "execution_count": 19,
      "outputs": [
        {
          "output_type": "execute_result",
          "data": {
            "text/html": [
              "\n",
              "  <div id=\"df-b4972953-3c8c-4bb6-8390-5b932579f6d8\">\n",
              "    <div class=\"colab-df-container\">\n",
              "      <div>\n",
              "<style scoped>\n",
              "    .dataframe tbody tr th:only-of-type {\n",
              "        vertical-align: middle;\n",
              "    }\n",
              "\n",
              "    .dataframe tbody tr th {\n",
              "        vertical-align: top;\n",
              "    }\n",
              "\n",
              "    .dataframe thead th {\n",
              "        text-align: right;\n",
              "    }\n",
              "</style>\n",
              "<table border=\"1\" class=\"dataframe\">\n",
              "  <thead>\n",
              "    <tr style=\"text-align: right;\">\n",
              "      <th></th>\n",
              "      <th>TRIP_ID</th>\n",
              "      <th>CALL_TYPE</th>\n",
              "      <th>ORIGIN_CALL</th>\n",
              "      <th>ORIGIN_STAND</th>\n",
              "      <th>TAXI_ID</th>\n",
              "      <th>TIMESTAMP</th>\n",
              "      <th>DAY_TYPE</th>\n",
              "      <th>MISSING_DATA</th>\n",
              "      <th>POLYLINE</th>\n",
              "      <th>year</th>\n",
              "      <th>month</th>\n",
              "      <th>month_day</th>\n",
              "      <th>hour</th>\n",
              "      <th>week_day</th>\n",
              "    </tr>\n",
              "  </thead>\n",
              "  <tbody>\n",
              "    <tr>\n",
              "      <th>577</th>\n",
              "      <td>1372636853620000380</td>\n",
              "      <td>C</td>\n",
              "      <td>NaN</td>\n",
              "      <td>NaN</td>\n",
              "      <td>20000380</td>\n",
              "      <td>1372636853</td>\n",
              "      <td>A</td>\n",
              "      <td>False</td>\n",
              "      <td>[[-8.610291,41.140746],[-8.6103,41.140755],[-8...</td>\n",
              "      <td>2013</td>\n",
              "      <td>7</td>\n",
              "      <td>1</td>\n",
              "      <td>0</td>\n",
              "      <td>0</td>\n",
              "    </tr>\n",
              "    <tr>\n",
              "      <th>3</th>\n",
              "      <td>1372636854620000520</td>\n",
              "      <td>C</td>\n",
              "      <td>NaN</td>\n",
              "      <td>NaN</td>\n",
              "      <td>20000520</td>\n",
              "      <td>1372636854</td>\n",
              "      <td>A</td>\n",
              "      <td>False</td>\n",
              "      <td>[[-8.574678,41.151951],[-8.574705,41.151942],[...</td>\n",
              "      <td>2013</td>\n",
              "      <td>7</td>\n",
              "      <td>1</td>\n",
              "      <td>0</td>\n",
              "      <td>0</td>\n",
              "    </tr>\n",
              "    <tr>\n",
              "      <th>0</th>\n",
              "      <td>1372636858620000589</td>\n",
              "      <td>C</td>\n",
              "      <td>NaN</td>\n",
              "      <td>NaN</td>\n",
              "      <td>20000589</td>\n",
              "      <td>1372636858</td>\n",
              "      <td>A</td>\n",
              "      <td>False</td>\n",
              "      <td>[[-8.618643,41.141412],[-8.618499,41.141376],[...</td>\n",
              "      <td>2013</td>\n",
              "      <td>7</td>\n",
              "      <td>1</td>\n",
              "      <td>0</td>\n",
              "      <td>0</td>\n",
              "    </tr>\n",
              "    <tr>\n",
              "      <th>10</th>\n",
              "      <td>1372636875620000233</td>\n",
              "      <td>C</td>\n",
              "      <td>NaN</td>\n",
              "      <td>NaN</td>\n",
              "      <td>20000233</td>\n",
              "      <td>1372636875</td>\n",
              "      <td>A</td>\n",
              "      <td>False</td>\n",
              "      <td>[[-8.619894,41.148009],[-8.620164,41.14773],[-...</td>\n",
              "      <td>2013</td>\n",
              "      <td>7</td>\n",
              "      <td>1</td>\n",
              "      <td>0</td>\n",
              "      <td>0</td>\n",
              "    </tr>\n",
              "    <tr>\n",
              "      <th>64</th>\n",
              "      <td>1372636896620000360</td>\n",
              "      <td>C</td>\n",
              "      <td>NaN</td>\n",
              "      <td>NaN</td>\n",
              "      <td>20000360</td>\n",
              "      <td>1372636896</td>\n",
              "      <td>A</td>\n",
              "      <td>False</td>\n",
              "      <td>[[-8.617599,41.146137],[-8.617581,41.14593],[-...</td>\n",
              "      <td>2013</td>\n",
              "      <td>7</td>\n",
              "      <td>1</td>\n",
              "      <td>0</td>\n",
              "      <td>0</td>\n",
              "    </tr>\n",
              "  </tbody>\n",
              "</table>\n",
              "</div>\n",
              "      <button class=\"colab-df-convert\" onclick=\"convertToInteractive('df-b4972953-3c8c-4bb6-8390-5b932579f6d8')\"\n",
              "              title=\"Convert this dataframe to an interactive table.\"\n",
              "              style=\"display:none;\">\n",
              "        \n",
              "  <svg xmlns=\"http://www.w3.org/2000/svg\" height=\"24px\"viewBox=\"0 0 24 24\"\n",
              "       width=\"24px\">\n",
              "    <path d=\"M0 0h24v24H0V0z\" fill=\"none\"/>\n",
              "    <path d=\"M18.56 5.44l.94 2.06.94-2.06 2.06-.94-2.06-.94-.94-2.06-.94 2.06-2.06.94zm-11 1L8.5 8.5l.94-2.06 2.06-.94-2.06-.94L8.5 2.5l-.94 2.06-2.06.94zm10 10l.94 2.06.94-2.06 2.06-.94-2.06-.94-.94-2.06-.94 2.06-2.06.94z\"/><path d=\"M17.41 7.96l-1.37-1.37c-.4-.4-.92-.59-1.43-.59-.52 0-1.04.2-1.43.59L10.3 9.45l-7.72 7.72c-.78.78-.78 2.05 0 2.83L4 21.41c.39.39.9.59 1.41.59.51 0 1.02-.2 1.41-.59l7.78-7.78 2.81-2.81c.8-.78.8-2.07 0-2.86zM5.41 20L4 18.59l7.72-7.72 1.47 1.35L5.41 20z\"/>\n",
              "  </svg>\n",
              "      </button>\n",
              "      \n",
              "  <style>\n",
              "    .colab-df-container {\n",
              "      display:flex;\n",
              "      flex-wrap:wrap;\n",
              "      gap: 12px;\n",
              "    }\n",
              "\n",
              "    .colab-df-convert {\n",
              "      background-color: #E8F0FE;\n",
              "      border: none;\n",
              "      border-radius: 50%;\n",
              "      cursor: pointer;\n",
              "      display: none;\n",
              "      fill: #1967D2;\n",
              "      height: 32px;\n",
              "      padding: 0 0 0 0;\n",
              "      width: 32px;\n",
              "    }\n",
              "\n",
              "    .colab-df-convert:hover {\n",
              "      background-color: #E2EBFA;\n",
              "      box-shadow: 0px 1px 2px rgba(60, 64, 67, 0.3), 0px 1px 3px 1px rgba(60, 64, 67, 0.15);\n",
              "      fill: #174EA6;\n",
              "    }\n",
              "\n",
              "    [theme=dark] .colab-df-convert {\n",
              "      background-color: #3B4455;\n",
              "      fill: #D2E3FC;\n",
              "    }\n",
              "\n",
              "    [theme=dark] .colab-df-convert:hover {\n",
              "      background-color: #434B5C;\n",
              "      box-shadow: 0px 1px 3px 1px rgba(0, 0, 0, 0.15);\n",
              "      filter: drop-shadow(0px 1px 2px rgba(0, 0, 0, 0.3));\n",
              "      fill: #FFFFFF;\n",
              "    }\n",
              "  </style>\n",
              "\n",
              "      <script>\n",
              "        const buttonEl =\n",
              "          document.querySelector('#df-b4972953-3c8c-4bb6-8390-5b932579f6d8 button.colab-df-convert');\n",
              "        buttonEl.style.display =\n",
              "          google.colab.kernel.accessAllowed ? 'block' : 'none';\n",
              "\n",
              "        async function convertToInteractive(key) {\n",
              "          const element = document.querySelector('#df-b4972953-3c8c-4bb6-8390-5b932579f6d8');\n",
              "          const dataTable =\n",
              "            await google.colab.kernel.invokeFunction('convertToInteractive',\n",
              "                                                     [key], {});\n",
              "          if (!dataTable) return;\n",
              "\n",
              "          const docLinkHtml = 'Like what you see? Visit the ' +\n",
              "            '<a target=\"_blank\" href=https://colab.research.google.com/notebooks/data_table.ipynb>data table notebook</a>'\n",
              "            + ' to learn more about interactive tables.';\n",
              "          element.innerHTML = '';\n",
              "          dataTable['output_type'] = 'display_data';\n",
              "          await google.colab.output.renderOutput(dataTable, element);\n",
              "          const docLink = document.createElement('div');\n",
              "          docLink.innerHTML = docLinkHtml;\n",
              "          element.appendChild(docLink);\n",
              "        }\n",
              "      </script>\n",
              "    </div>\n",
              "  </div>\n",
              "  "
            ],
            "text/plain": [
              "                 TRIP_ID CALL_TYPE  ORIGIN_CALL  ...  month_day  hour  week_day\n",
              "577  1372636853620000380         C          NaN  ...          1     0         0\n",
              "3    1372636854620000520         C          NaN  ...          1     0         0\n",
              "0    1372636858620000589         C          NaN  ...          1     0         0\n",
              "10   1372636875620000233         C          NaN  ...          1     0         0\n",
              "64   1372636896620000360         C          NaN  ...          1     0         0\n",
              "\n",
              "[5 rows x 14 columns]"
            ]
          },
          "metadata": {},
          "execution_count": 19
        }
      ]
    },
    {
      "cell_type": "markdown",
      "source": [
        "Pie chart for the year"
      ],
      "metadata": {
        "id": "EN_ib20YPRU5"
      }
    },
    {
      "cell_type": "code",
      "source": [
        "plt.figure(figsize = (10,10))\n",
        "plt.pie(df['year'].value_counts(), labels = df['year'].value_counts().keys(),autopct = '%.1f%%')"
      ],
      "metadata": {
        "colab": {
          "base_uri": "https://localhost:8080/",
          "height": 684
        },
        "id": "3nG0ffn1PMPR",
        "outputId": "a12227ea-a3b9-409c-8a61-c8983332d5ba"
      },
      "execution_count": 20,
      "outputs": [
        {
          "output_type": "execute_result",
          "data": {
            "text/plain": [
              "([<matplotlib.patches.Wedge at 0x7f597f511d10>,\n",
              "  <matplotlib.patches.Wedge at 0x7f597f4d1650>],\n",
              " [Text(-0.0067795454598015585, 1.0999791078758536, '2013'),\n",
              "  Text(0.006779648447278292, -1.0999791072411018, '2014')],\n",
              " [Text(-0.0036979338871644856, 0.59998860429592, '50.2%'),\n",
              "  Text(0.003697990062151795, -0.5999886039496919, '49.8%')])"
            ]
          },
          "metadata": {},
          "execution_count": 20
        },
        {
          "output_type": "display_data",
          "data": {
            "image/png": "[encoded data removed]",
            "text/plain": [
              "<Figure size 720x720 with 1 Axes>"
            ]
          },
          "metadata": {}
        }
      ]
    },
    {
      "cell_type": "code",
      "source": [
        "plt.figure(figsize = (10,10))\n",
        "plt.title('Count of trips per day of week')\n",
        "sns.countplot(y = 'week_day', data = df)\n",
        "plt.xlabel('Count')\n",
        "plt.ylabel('Day')"
      ],
      "metadata": {
        "colab": {
          "base_uri": "https://localhost:8080/",
          "height": 639
        },
        "id": "0A1V-WMsPWzh",
        "outputId": "2b21b2de-5666-4389-8878-28b045c8317e"
      },
      "execution_count": 21,
      "outputs": [
        {
          "output_type": "execute_result",
          "data": {
            "text/plain": [
              "Text(0, 0.5, 'Day')"
            ]
          },
          "metadata": {},
          "execution_count": 21
        },
        {
          "output_type": "display_data",
          "data": {
            "image/png": "[encoded data removed]",
            "text/plain": [
              "<Figure size 720x720 with 1 Axes>"
            ]
          },
          "metadata": {
            "needs_background": "light"
          }
        }
      ]
    },
    {
      "cell_type": "code",
      "source": [
        "plt.figure(figsize = (10,10))\n",
        "plt.title('Count of trips per month')\n",
        "sns.countplot(y = 'month', data = df)\n",
        "plt.xlabel('Count')\n",
        "plt.ylabel('Month')"
      ],
      "metadata": {
        "colab": {
          "base_uri": "https://localhost:8080/",
          "height": 639
        },
        "id": "d2mwdFmzPdoQ",
        "outputId": "c5006b47-0476-4d24-9ebd-cc2f119979bf"
      },
      "execution_count": 22,
      "outputs": [
        {
          "output_type": "execute_result",
          "data": {
            "text/plain": [
              "Text(0, 0.5, 'Month')"
            ]
          },
          "metadata": {},
          "execution_count": 22
        },
        {
          "output_type": "display_data",
          "data": {
            "image/png": "[encoded data removed]",
            "text/plain": [
              "<Figure size 720x720 with 1 Axes>"
            ]
          },
          "metadata": {
            "needs_background": "light"
          }
        }
      ]
    },
    {
      "cell_type": "code",
      "source": [
        "plt.figure(figsize = (10,10))\n",
        "plt.title('Count of trips per hour')\n",
        "sns.countplot(y = 'hour', data = df)\n",
        "plt.xlabel('Count')\n",
        "plt.ylabel('Hours')"
      ],
      "metadata": {
        "colab": {
          "base_uri": "https://localhost:8080/",
          "height": 639
        },
        "id": "nRGyuTjsQFRp",
        "outputId": "c95fcf13-7829-491f-c69d-84dba39024eb"
      },
      "execution_count": 23,
      "outputs": [
        {
          "output_type": "execute_result",
          "data": {
            "text/plain": [
              "Text(0, 0.5, 'Hours')"
            ]
          },
          "metadata": {},
          "execution_count": 23
        },
        {
          "output_type": "display_data",
          "data": {
            "image/png": "[encoded data removed]",
            "text/plain": [
              "<Figure size 720x720 with 1 Axes>"
            ]
          },
          "metadata": {
            "needs_background": "light"
          }
        }
      ]
    },
    {
      "cell_type": "code",
      "source": [
        "df['MISSING_DATA'].value_counts()"
      ],
      "metadata": {
        "colab": {
          "base_uri": "https://localhost:8080/"
        },
        "id": "jasbBaWEQLzo",
        "outputId": "d14e7234-5da9-4a62-f24d-ecf6d7909bcf"
      },
      "execution_count": 24,
      "outputs": [
        {
          "output_type": "execute_result",
          "data": {
            "text/plain": [
              "False    1710660\n",
              "True          10\n",
              "Name: MISSING_DATA, dtype: int64"
            ]
          },
          "metadata": {},
          "execution_count": 24
        }
      ]
    },
    {
      "cell_type": "code",
      "source": [
        "df.drop(df[df['MISSING_DATA'] == True].index, inplace = True)"
      ],
      "metadata": {
        "id": "Yc439uJgQXnZ"
      },
      "execution_count": 25,
      "outputs": []
    },
    {
      "cell_type": "markdown",
      "source": [
        "For 10 instances the GPS data steam is not complete and there can be one or more locations missing. Such a data points wont gives us the appropriate trip time so we can drop such observations."
      ],
      "metadata": {
        "id": "EIeyWxUwQ2dq"
      }
    },
    {
      "cell_type": "code",
      "source": [
        "df['MISSING_DATA'].unique()"
      ],
      "metadata": {
        "colab": {
          "base_uri": "https://localhost:8080/"
        },
        "id": "N4jRkWgXQreA",
        "outputId": "c44516d0-fbd7-4bc3-b690-7219e8f3aaf4"
      },
      "execution_count": 26,
      "outputs": [
        {
          "output_type": "execute_result",
          "data": {
            "text/plain": [
              "array([False])"
            ]
          },
          "metadata": {},
          "execution_count": 26
        }
      ]
    },
    {
      "cell_type": "markdown",
      "source": [
        "\n",
        "\n",
        "Also some of the POLYLINES values are missing in which we cannot find the trip time, dropping such observations is also the good idea.\n"
      ],
      "metadata": {
        "id": "7aF4rrXsZoEp"
      }
    },
    {
      "cell_type": "code",
      "source": [
        "df[df['POLYLINE'] =='[]']['POLYLINE'].value_counts()"
      ],
      "metadata": {
        "colab": {
          "base_uri": "https://localhost:8080/"
        },
        "id": "Cs0AkCIHZTiG",
        "outputId": "aa7a8554-057c-48b0-caa0-fc347ec682fb"
      },
      "execution_count": 27,
      "outputs": [
        {
          "output_type": "execute_result",
          "data": {
            "text/plain": [
              "[]    5901\n",
              "Name: POLYLINE, dtype: int64"
            ]
          },
          "metadata": {},
          "execution_count": 27
        }
      ]
    },
    {
      "cell_type": "code",
      "source": [
        "df.drop(df[df['POLYLINE'] =='[]']['POLYLINE'].index, inplace = True)"
      ],
      "metadata": {
        "id": "zxD9oeukZrwf"
      },
      "execution_count": 28,
      "outputs": []
    },
    {
      "cell_type": "code",
      "source": [
        "df[df['POLYLINE'] =='[]']['POLYLINE'].value_counts()"
      ],
      "metadata": {
        "colab": {
          "base_uri": "https://localhost:8080/"
        },
        "id": "yX6lhdwCZwPm",
        "outputId": "8ef71439-3636-43d2-f75b-49c8c2b38901"
      },
      "execution_count": 29,
      "outputs": [
        {
          "output_type": "execute_result",
          "data": {
            "text/plain": [
              "Series([], Name: POLYLINE, dtype: int64)"
            ]
          },
          "metadata": {},
          "execution_count": 29
        }
      ]
    },
    {
      "cell_type": "markdown",
      "source": [
        "\n",
        "**Convreting a POLYLINE into the total travelling time.**"
      ],
      "metadata": {
        "id": "6CBvLHD6Z3ku"
      }
    },
    {
      "cell_type": "code",
      "source": [
        "df['Polyline Length'] = df['POLYLINE'].apply(lambda x : len(eval(x))-1)"
      ],
      "metadata": {
        "id": "S5xrNA2HZyJI"
      },
      "execution_count": 30,
      "outputs": []
    },
    {
      "cell_type": "code",
      "source": [
        "df['Trip Time(sec)'] = df['Polyline Length'].apply(lambda x : x * 15)"
      ],
      "metadata": {
        "id": "5p-pSNuLaEO1"
      },
      "execution_count": 31,
      "outputs": []
    },
    {
      "cell_type": "code",
      "source": [
        "df.head()"
      ],
      "metadata": {
        "colab": {
          "base_uri": "https://localhost:8080/",
          "height": 374
        },
        "id": "GstD_C2kcpZd",
        "outputId": "4f54f228-142b-4669-e1eb-e7c10a7050ba"
      },
      "execution_count": 32,
      "outputs": [
        {
          "output_type": "execute_result",
          "data": {
            "text/html": [
              "\n",
              "  <div id=\"df-91ddc7a2-ef22-400e-8056-44d4a3e42509\">\n",
              "    <div class=\"colab-df-container\">\n",
              "      <div>\n",
              "<style scoped>\n",
              "    .dataframe tbody tr th:only-of-type {\n",
              "        vertical-align: middle;\n",
              "    }\n",
              "\n",
              "    .dataframe tbody tr th {\n",
              "        vertical-align: top;\n",
              "    }\n",
              "\n",
              "    .dataframe thead th {\n",
              "        text-align: right;\n",
              "    }\n",
              "</style>\n",
              "<table border=\"1\" class=\"dataframe\">\n",
              "  <thead>\n",
              "    <tr style=\"text-align: right;\">\n",
              "      <th></th>\n",
              "      <th>TRIP_ID</th>\n",
              "      <th>CALL_TYPE</th>\n",
              "      <th>ORIGIN_CALL</th>\n",
              "      <th>ORIGIN_STAND</th>\n",
              "      <th>TAXI_ID</th>\n",
              "      <th>TIMESTAMP</th>\n",
              "      <th>DAY_TYPE</th>\n",
              "      <th>MISSING_DATA</th>\n",
              "      <th>POLYLINE</th>\n",
              "      <th>year</th>\n",
              "      <th>month</th>\n",
              "      <th>month_day</th>\n",
              "      <th>hour</th>\n",
              "      <th>week_day</th>\n",
              "      <th>Polyline Length</th>\n",
              "      <th>Trip Time(sec)</th>\n",
              "    </tr>\n",
              "  </thead>\n",
              "  <tbody>\n",
              "    <tr>\n",
              "      <th>577</th>\n",
              "      <td>1372636853620000380</td>\n",
              "      <td>C</td>\n",
              "      <td>NaN</td>\n",
              "      <td>NaN</td>\n",
              "      <td>20000380</td>\n",
              "      <td>1372636853</td>\n",
              "      <td>A</td>\n",
              "      <td>False</td>\n",
              "      <td>[[-8.610291,41.140746],[-8.6103,41.140755],[-8...</td>\n",
              "      <td>2013</td>\n",
              "      <td>7</td>\n",
              "      <td>1</td>\n",
              "      <td>0</td>\n",
              "      <td>0</td>\n",
              "      <td>24</td>\n",
              "      <td>360</td>\n",
              "    </tr>\n",
              "    <tr>\n",
              "      <th>3</th>\n",
              "      <td>1372636854620000520</td>\n",
              "      <td>C</td>\n",
              "      <td>NaN</td>\n",
              "      <td>NaN</td>\n",
              "      <td>20000520</td>\n",
              "      <td>1372636854</td>\n",
              "      <td>A</td>\n",
              "      <td>False</td>\n",
              "      <td>[[-8.574678,41.151951],[-8.574705,41.151942],[...</td>\n",
              "      <td>2013</td>\n",
              "      <td>7</td>\n",
              "      <td>1</td>\n",
              "      <td>0</td>\n",
              "      <td>0</td>\n",
              "      <td>42</td>\n",
              "      <td>630</td>\n",
              "    </tr>\n",
              "    <tr>\n",
              "      <th>0</th>\n",
              "      <td>1372636858620000589</td>\n",
              "      <td>C</td>\n",
              "      <td>NaN</td>\n",
              "      <td>NaN</td>\n",
              "      <td>20000589</td>\n",
              "      <td>1372636858</td>\n",
              "      <td>A</td>\n",
              "      <td>False</td>\n",
              "      <td>[[-8.618643,41.141412],[-8.618499,41.141376],[...</td>\n",
              "      <td>2013</td>\n",
              "      <td>7</td>\n",
              "      <td>1</td>\n",
              "      <td>0</td>\n",
              "      <td>0</td>\n",
              "      <td>22</td>\n",
              "      <td>330</td>\n",
              "    </tr>\n",
              "    <tr>\n",
              "      <th>10</th>\n",
              "      <td>1372636875620000233</td>\n",
              "      <td>C</td>\n",
              "      <td>NaN</td>\n",
              "      <td>NaN</td>\n",
              "      <td>20000233</td>\n",
              "      <td>1372636875</td>\n",
              "      <td>A</td>\n",
              "      <td>False</td>\n",
              "      <td>[[-8.619894,41.148009],[-8.620164,41.14773],[-...</td>\n",
              "      <td>2013</td>\n",
              "      <td>7</td>\n",
              "      <td>1</td>\n",
              "      <td>0</td>\n",
              "      <td>0</td>\n",
              "      <td>21</td>\n",
              "      <td>315</td>\n",
              "    </tr>\n",
              "    <tr>\n",
              "      <th>64</th>\n",
              "      <td>1372636896620000360</td>\n",
              "      <td>C</td>\n",
              "      <td>NaN</td>\n",
              "      <td>NaN</td>\n",
              "      <td>20000360</td>\n",
              "      <td>1372636896</td>\n",
              "      <td>A</td>\n",
              "      <td>False</td>\n",
              "      <td>[[-8.617599,41.146137],[-8.617581,41.14593],[-...</td>\n",
              "      <td>2013</td>\n",
              "      <td>7</td>\n",
              "      <td>1</td>\n",
              "      <td>0</td>\n",
              "      <td>0</td>\n",
              "      <td>42</td>\n",
              "      <td>630</td>\n",
              "    </tr>\n",
              "  </tbody>\n",
              "</table>\n",
              "</div>\n",
              "      <button class=\"colab-df-convert\" onclick=\"convertToInteractive('df-91ddc7a2-ef22-400e-8056-44d4a3e42509')\"\n",
              "              title=\"Convert this dataframe to an interactive table.\"\n",
              "              style=\"display:none;\">\n",
              "        \n",
              "  <svg xmlns=\"http://www.w3.org/2000/svg\" height=\"24px\"viewBox=\"0 0 24 24\"\n",
              "       width=\"24px\">\n",
              "    <path d=\"M0 0h24v24H0V0z\" fill=\"none\"/>\n",
              "    <path d=\"M18.56 5.44l.94 2.06.94-2.06 2.06-.94-2.06-.94-.94-2.06-.94 2.06-2.06.94zm-11 1L8.5 8.5l.94-2.06 2.06-.94-2.06-.94L8.5 2.5l-.94 2.06-2.06.94zm10 10l.94 2.06.94-2.06 2.06-.94-2.06-.94-.94-2.06-.94 2.06-2.06.94z\"/><path d=\"M17.41 7.96l-1.37-1.37c-.4-.4-.92-.59-1.43-.59-.52 0-1.04.2-1.43.59L10.3 9.45l-7.72 7.72c-.78.78-.78 2.05 0 2.83L4 21.41c.39.39.9.59 1.41.59.51 0 1.02-.2 1.41-.59l7.78-7.78 2.81-2.81c.8-.78.8-2.07 0-2.86zM5.41 20L4 18.59l7.72-7.72 1.47 1.35L5.41 20z\"/>\n",
              "  </svg>\n",
              "      </button>\n",
              "      \n",
              "  <style>\n",
              "    .colab-df-container {\n",
              "      display:flex;\n",
              "      flex-wrap:wrap;\n",
              "      gap: 12px;\n",
              "    }\n",
              "\n",
              "    .colab-df-convert {\n",
              "      background-color: #E8F0FE;\n",
              "      border: none;\n",
              "      border-radius: 50%;\n",
              "      cursor: pointer;\n",
              "      display: none;\n",
              "      fill: #1967D2;\n",
              "      height: 32px;\n",
              "      padding: 0 0 0 0;\n",
              "      width: 32px;\n",
              "    }\n",
              "\n",
              "    .colab-df-convert:hover {\n",
              "      background-color: #E2EBFA;\n",
              "      box-shadow: 0px 1px 2px rgba(60, 64, 67, 0.3), 0px 1px 3px 1px rgba(60, 64, 67, 0.15);\n",
              "      fill: #174EA6;\n",
              "    }\n",
              "\n",
              "    [theme=dark] .colab-df-convert {\n",
              "      background-color: #3B4455;\n",
              "      fill: #D2E3FC;\n",
              "    }\n",
              "\n",
              "    [theme=dark] .colab-df-convert:hover {\n",
              "      background-color: #434B5C;\n",
              "      box-shadow: 0px 1px 3px 1px rgba(0, 0, 0, 0.15);\n",
              "      filter: drop-shadow(0px 1px 2px rgba(0, 0, 0, 0.3));\n",
              "      fill: #FFFFFF;\n",
              "    }\n",
              "  </style>\n",
              "\n",
              "      <script>\n",
              "        const buttonEl =\n",
              "          document.querySelector('#df-91ddc7a2-ef22-400e-8056-44d4a3e42509 button.colab-df-convert');\n",
              "        buttonEl.style.display =\n",
              "          google.colab.kernel.accessAllowed ? 'block' : 'none';\n",
              "\n",
              "        async function convertToInteractive(key) {\n",
              "          const element = document.querySelector('#df-91ddc7a2-ef22-400e-8056-44d4a3e42509');\n",
              "          const dataTable =\n",
              "            await google.colab.kernel.invokeFunction('convertToInteractive',\n",
              "                                                     [key], {});\n",
              "          if (!dataTable) return;\n",
              "\n",
              "          const docLinkHtml = 'Like what you see? Visit the ' +\n",
              "            '<a target=\"_blank\" href=https://colab.research.google.com/notebooks/data_table.ipynb>data table notebook</a>'\n",
              "            + ' to learn more about interactive tables.';\n",
              "          element.innerHTML = '';\n",
              "          dataTable['output_type'] = 'display_data';\n",
              "          await google.colab.output.renderOutput(dataTable, element);\n",
              "          const docLink = document.createElement('div');\n",
              "          docLink.innerHTML = docLinkHtml;\n",
              "          element.appendChild(docLink);\n",
              "        }\n",
              "      </script>\n",
              "    </div>\n",
              "  </div>\n",
              "  "
            ],
            "text/plain": [
              "                 TRIP_ID CALL_TYPE  ...  Polyline Length  Trip Time(sec)\n",
              "577  1372636853620000380         C  ...               24             360\n",
              "3    1372636854620000520         C  ...               42             630\n",
              "0    1372636858620000589         C  ...               22             330\n",
              "10   1372636875620000233         C  ...               21             315\n",
              "64   1372636896620000360         C  ...               42             630\n",
              "\n",
              "[5 rows x 16 columns]"
            ]
          },
          "metadata": {},
          "execution_count": 32
        }
      ]
    },
    {
      "cell_type": "code",
      "source": [
        "df['Trip Time(sec)'].describe()"
      ],
      "metadata": {
        "colab": {
          "base_uri": "https://localhost:8080/"
        },
        "id": "AM9r6e0Bcq79",
        "outputId": "20a35453-d5ac-4ad3-d81a-f915bfa414b8"
      },
      "execution_count": 33,
      "outputs": [
        {
          "output_type": "execute_result",
          "data": {
            "text/plain": [
              "count    1.704759e+06\n",
              "mean     7.189021e+02\n",
              "std      6.846122e+02\n",
              "min      0.000000e+00\n",
              "25%      4.050000e+02\n",
              "50%      6.000000e+02\n",
              "75%      8.700000e+02\n",
              "max      5.820000e+04\n",
              "Name: Trip Time(sec), dtype: float64"
            ]
          },
          "metadata": {},
          "execution_count": 33
        }
      ]
    },
    {
      "cell_type": "code",
      "source": [
        "df.groupby('week_day').mean()"
      ],
      "metadata": {
        "colab": {
          "base_uri": "https://localhost:8080/",
          "height": 300
        },
        "id": "psLjl68zcu_t",
        "outputId": "e94cfc82-3621-40dd-beaf-77362ea54502"
      },
      "execution_count": 34,
      "outputs": [
        {
          "output_type": "execute_result",
          "data": {
            "text/html": [
              "\n",
              "  <div id=\"df-f6dbd4c1-84a4-4a8e-b354-1f103ebdd55c\">\n",
              "    <div class=\"colab-df-container\">\n",
              "      <div>\n",
              "<style scoped>\n",
              "    .dataframe tbody tr th:only-of-type {\n",
              "        vertical-align: middle;\n",
              "    }\n",
              "\n",
              "    .dataframe tbody tr th {\n",
              "        vertical-align: top;\n",
              "    }\n",
              "\n",
              "    .dataframe thead th {\n",
              "        text-align: right;\n",
              "    }\n",
              "</style>\n",
              "<table border=\"1\" class=\"dataframe\">\n",
              "  <thead>\n",
              "    <tr style=\"text-align: right;\">\n",
              "      <th></th>\n",
              "      <th>TRIP_ID</th>\n",
              "      <th>ORIGIN_CALL</th>\n",
              "      <th>ORIGIN_STAND</th>\n",
              "      <th>TAXI_ID</th>\n",
              "      <th>TIMESTAMP</th>\n",
              "      <th>MISSING_DATA</th>\n",
              "      <th>year</th>\n",
              "      <th>month</th>\n",
              "      <th>month_day</th>\n",
              "      <th>hour</th>\n",
              "      <th>Polyline Length</th>\n",
              "      <th>Trip Time(sec)</th>\n",
              "    </tr>\n",
              "    <tr>\n",
              "      <th>week_day</th>\n",
              "      <th></th>\n",
              "      <th></th>\n",
              "      <th></th>\n",
              "      <th></th>\n",
              "      <th></th>\n",
              "      <th></th>\n",
              "      <th></th>\n",
              "      <th></th>\n",
              "      <th></th>\n",
              "      <th></th>\n",
              "      <th></th>\n",
              "      <th></th>\n",
              "    </tr>\n",
              "  </thead>\n",
              "  <tbody>\n",
              "    <tr>\n",
              "      <th>0</th>\n",
              "      <td>1.388541e+18</td>\n",
              "      <td>24266.902923</td>\n",
              "      <td>29.906836</td>\n",
              "      <td>2.000034e+07</td>\n",
              "      <td>1.388541e+09</td>\n",
              "      <td>False</td>\n",
              "      <td>2013.489873</td>\n",
              "      <td>6.645881</td>\n",
              "      <td>15.831436</td>\n",
              "      <td>12.701853</td>\n",
              "      <td>50.161472</td>\n",
              "      <td>752.422087</td>\n",
              "    </tr>\n",
              "    <tr>\n",
              "      <th>1</th>\n",
              "      <td>1.388354e+18</td>\n",
              "      <td>24255.076873</td>\n",
              "      <td>30.345652</td>\n",
              "      <td>2.000035e+07</td>\n",
              "      <td>1.388354e+09</td>\n",
              "      <td>False</td>\n",
              "      <td>2013.477034</td>\n",
              "      <td>6.738722</td>\n",
              "      <td>15.530936</td>\n",
              "      <td>12.381605</td>\n",
              "      <td>48.920652</td>\n",
              "      <td>733.809787</td>\n",
              "    </tr>\n",
              "    <tr>\n",
              "      <th>2</th>\n",
              "      <td>1.388374e+18</td>\n",
              "      <td>24085.274571</td>\n",
              "      <td>30.195455</td>\n",
              "      <td>2.000034e+07</td>\n",
              "      <td>1.388374e+09</td>\n",
              "      <td>False</td>\n",
              "      <td>2013.508033</td>\n",
              "      <td>6.373327</td>\n",
              "      <td>15.530086</td>\n",
              "      <td>12.670080</td>\n",
              "      <td>49.710429</td>\n",
              "      <td>745.656429</td>\n",
              "    </tr>\n",
              "    <tr>\n",
              "      <th>3</th>\n",
              "      <td>1.388607e+18</td>\n",
              "      <td>24016.681072</td>\n",
              "      <td>30.156901</td>\n",
              "      <td>2.000035e+07</td>\n",
              "      <td>1.388607e+09</td>\n",
              "      <td>False</td>\n",
              "      <td>2013.507242</td>\n",
              "      <td>6.469796</td>\n",
              "      <td>15.584794</td>\n",
              "      <td>12.470284</td>\n",
              "      <td>49.189870</td>\n",
              "      <td>737.848052</td>\n",
              "    </tr>\n",
              "    <tr>\n",
              "      <th>4</th>\n",
              "      <td>1.388760e+18</td>\n",
              "      <td>24240.138819</td>\n",
              "      <td>30.093780</td>\n",
              "      <td>2.000035e+07</td>\n",
              "      <td>1.388760e+09</td>\n",
              "      <td>False</td>\n",
              "      <td>2013.504146</td>\n",
              "      <td>6.551442</td>\n",
              "      <td>15.979771</td>\n",
              "      <td>12.654915</td>\n",
              "      <td>50.307077</td>\n",
              "      <td>754.606154</td>\n",
              "    </tr>\n",
              "    <tr>\n",
              "      <th>5</th>\n",
              "      <td>1.388724e+18</td>\n",
              "      <td>25431.411644</td>\n",
              "      <td>30.651643</td>\n",
              "      <td>2.000035e+07</td>\n",
              "      <td>1.388724e+09</td>\n",
              "      <td>False</td>\n",
              "      <td>2013.493629</td>\n",
              "      <td>6.677032</td>\n",
              "      <td>15.702651</td>\n",
              "      <td>10.976918</td>\n",
              "      <td>44.273390</td>\n",
              "      <td>664.100848</td>\n",
              "    </tr>\n",
              "    <tr>\n",
              "      <th>6</th>\n",
              "      <td>1.388954e+18</td>\n",
              "      <td>25552.079126</td>\n",
              "      <td>30.557114</td>\n",
              "      <td>2.000036e+07</td>\n",
              "      <td>1.388954e+09</td>\n",
              "      <td>False</td>\n",
              "      <td>2013.504626</td>\n",
              "      <td>6.660169</td>\n",
              "      <td>14.911438</td>\n",
              "      <td>9.511842</td>\n",
              "      <td>42.771202</td>\n",
              "      <td>641.568025</td>\n",
              "    </tr>\n",
              "  </tbody>\n",
              "</table>\n",
              "</div>\n",
              "      <button class=\"colab-df-convert\" onclick=\"convertToInteractive('df-f6dbd4c1-84a4-4a8e-b354-1f103ebdd55c')\"\n",
              "              title=\"Convert this dataframe to an interactive table.\"\n",
              "              style=\"display:none;\">\n",
              "        \n",
              "  <svg xmlns=\"http://www.w3.org/2000/svg\" height=\"24px\"viewBox=\"0 0 24 24\"\n",
              "       width=\"24px\">\n",
              "    <path d=\"M0 0h24v24H0V0z\" fill=\"none\"/>\n",
              "    <path d=\"M18.56 5.44l.94 2.06.94-2.06 2.06-.94-2.06-.94-.94-2.06-.94 2.06-2.06.94zm-11 1L8.5 8.5l.94-2.06 2.06-.94-2.06-.94L8.5 2.5l-.94 2.06-2.06.94zm10 10l.94 2.06.94-2.06 2.06-.94-2.06-.94-.94-2.06-.94 2.06-2.06.94z\"/><path d=\"M17.41 7.96l-1.37-1.37c-.4-.4-.92-.59-1.43-.59-.52 0-1.04.2-1.43.59L10.3 9.45l-7.72 7.72c-.78.78-.78 2.05 0 2.83L4 21.41c.39.39.9.59 1.41.59.51 0 1.02-.2 1.41-.59l7.78-7.78 2.81-2.81c.8-.78.8-2.07 0-2.86zM5.41 20L4 18.59l7.72-7.72 1.47 1.35L5.41 20z\"/>\n",
              "  </svg>\n",
              "      </button>\n",
              "      \n",
              "  <style>\n",
              "    .colab-df-container {\n",
              "      display:flex;\n",
              "      flex-wrap:wrap;\n",
              "      gap: 12px;\n",
              "    }\n",
              "\n",
              "    .colab-df-convert {\n",
              "      background-color: #E8F0FE;\n",
              "      border: none;\n",
              "      border-radius: 50%;\n",
              "      cursor: pointer;\n",
              "      display: none;\n",
              "      fill: #1967D2;\n",
              "      height: 32px;\n",
              "      padding: 0 0 0 0;\n",
              "      width: 32px;\n",
              "    }\n",
              "\n",
              "    .colab-df-convert:hover {\n",
              "      background-color: #E2EBFA;\n",
              "      box-shadow: 0px 1px 2px rgba(60, 64, 67, 0.3), 0px 1px 3px 1px rgba(60, 64, 67, 0.15);\n",
              "      fill: #174EA6;\n",
              "    }\n",
              "\n",
              "    [theme=dark] .colab-df-convert {\n",
              "      background-color: #3B4455;\n",
              "      fill: #D2E3FC;\n",
              "    }\n",
              "\n",
              "    [theme=dark] .colab-df-convert:hover {\n",
              "      background-color: #434B5C;\n",
              "      box-shadow: 0px 1px 3px 1px rgba(0, 0, 0, 0.15);\n",
              "      filter: drop-shadow(0px 1px 2px rgba(0, 0, 0, 0.3));\n",
              "      fill: #FFFFFF;\n",
              "    }\n",
              "  </style>\n",
              "\n",
              "      <script>\n",
              "        const buttonEl =\n",
              "          document.querySelector('#df-f6dbd4c1-84a4-4a8e-b354-1f103ebdd55c button.colab-df-convert');\n",
              "        buttonEl.style.display =\n",
              "          google.colab.kernel.accessAllowed ? 'block' : 'none';\n",
              "\n",
              "        async function convertToInteractive(key) {\n",
              "          const element = document.querySelector('#df-f6dbd4c1-84a4-4a8e-b354-1f103ebdd55c');\n",
              "          const dataTable =\n",
              "            await google.colab.kernel.invokeFunction('convertToInteractive',\n",
              "                                                     [key], {});\n",
              "          if (!dataTable) return;\n",
              "\n",
              "          const docLinkHtml = 'Like what you see? Visit the ' +\n",
              "            '<a target=\"_blank\" href=https://colab.research.google.com/notebooks/data_table.ipynb>data table notebook</a>'\n",
              "            + ' to learn more about interactive tables.';\n",
              "          element.innerHTML = '';\n",
              "          dataTable['output_type'] = 'display_data';\n",
              "          await google.colab.output.renderOutput(dataTable, element);\n",
              "          const docLink = document.createElement('div');\n",
              "          docLink.innerHTML = docLinkHtml;\n",
              "          element.appendChild(docLink);\n",
              "        }\n",
              "      </script>\n",
              "    </div>\n",
              "  </div>\n",
              "  "
            ],
            "text/plain": [
              "               TRIP_ID   ORIGIN_CALL  ...  Polyline Length  Trip Time(sec)\n",
              "week_day                              ...                                 \n",
              "0         1.388541e+18  24266.902923  ...        50.161472      752.422087\n",
              "1         1.388354e+18  24255.076873  ...        48.920652      733.809787\n",
              "2         1.388374e+18  24085.274571  ...        49.710429      745.656429\n",
              "3         1.388607e+18  24016.681072  ...        49.189870      737.848052\n",
              "4         1.388760e+18  24240.138819  ...        50.307077      754.606154\n",
              "5         1.388724e+18  25431.411644  ...        44.273390      664.100848\n",
              "6         1.388954e+18  25552.079126  ...        42.771202      641.568025\n",
              "\n",
              "[7 rows x 12 columns]"
            ]
          },
          "metadata": {},
          "execution_count": 34
        }
      ]
    },
    {
      "cell_type": "code",
      "source": [
        "df['DAY_TYPE'].isnull().sum()"
      ],
      "metadata": {
        "colab": {
          "base_uri": "https://localhost:8080/"
        },
        "id": "IuVEqPjddCA0",
        "outputId": "d08be718-c7c6-4ed3-86aa-b33dedea90c8"
      },
      "execution_count": 35,
      "outputs": [
        {
          "output_type": "execute_result",
          "data": {
            "text/plain": [
              "0"
            ]
          },
          "metadata": {},
          "execution_count": 35
        }
      ]
    },
    {
      "cell_type": "code",
      "source": [
        "df = pd.get_dummies(df, columns=['CALL_TYPE'])"
      ],
      "metadata": {
        "id": "DA0h2c7HdNhG"
      },
      "execution_count": 36,
      "outputs": []
    },
    {
      "cell_type": "code",
      "source": [
        "df.shape"
      ],
      "metadata": {
        "colab": {
          "base_uri": "https://localhost:8080/"
        },
        "id": "XfwzLdVWdQaM",
        "outputId": "9860a0b2-1d3b-4edc-91c3-f19f1b09c6a4"
      },
      "execution_count": 37,
      "outputs": [
        {
          "output_type": "execute_result",
          "data": {
            "text/plain": [
              "(1704759, 18)"
            ]
          },
          "metadata": {},
          "execution_count": 37
        }
      ]
    },
    {
      "cell_type": "code",
      "source": [
        "df = df.drop_duplicates()\n",
        "print(df.shape)"
      ],
      "metadata": {
        "colab": {
          "base_uri": "https://localhost:8080/"
        },
        "id": "sEnywofgdSv9",
        "outputId": "22caddf5-9daf-49ff-9e40-c4102a15b960"
      },
      "execution_count": 38,
      "outputs": [
        {
          "output_type": "stream",
          "name": "stdout",
          "text": [
            "(1704757, 18)\n"
          ]
        }
      ]
    },
    {
      "cell_type": "code",
      "source": [
        "df.to_csv('/content/drive/My Drive/taxi_trajectory_data/Cleaned_data.csv', index = None)"
      ],
      "metadata": {
        "id": "40TOYnG6dV_c"
      },
      "execution_count": 39,
      "outputs": []
    },
    {
      "cell_type": "code",
      "source": [
        "df = df.iloc[:100000]"
      ],
      "metadata": {
        "id": "6GYJL1AUdox-"
      },
      "execution_count": 40,
      "outputs": []
    },
    {
      "cell_type": "code",
      "source": [
        "df.shape"
      ],
      "metadata": {
        "colab": {
          "base_uri": "https://localhost:8080/"
        },
        "id": "zOmolZqKhHpc",
        "outputId": "c323853a-6195-478c-a52e-bb9daa37d57b"
      },
      "execution_count": 41,
      "outputs": [
        {
          "output_type": "execute_result",
          "data": {
            "text/plain": [
              "(100000, 18)"
            ]
          },
          "metadata": {},
          "execution_count": 41
        }
      ]
    },
    {
      "cell_type": "code",
      "source": [
        "X = df[['Polyline Length', 'CALL_TYPE_A', 'CALL_TYPE_B', 'CALL_TYPE_C']]\n",
        "y = df['Trip Time(sec)']"
      ],
      "metadata": {
        "id": "8yh-LGlwhIbT"
      },
      "execution_count": 42,
      "outputs": []
    },
    {
      "cell_type": "code",
      "source": [
        "s = StandardScaler()\n",
        "X = s.fit_transform(X)"
      ],
      "metadata": {
        "id": "9N6g97JyhMFT"
      },
      "execution_count": 43,
      "outputs": []
    },
    {
      "cell_type": "code",
      "source": [
        "print(np.mean(X))\n",
        "np.std(X)"
      ],
      "metadata": {
        "colab": {
          "base_uri": "https://localhost:8080/"
        },
        "id": "noWuQyLqhPCM",
        "outputId": "79839578-70ec-4831-cc8e-9e1ae3790ae9"
      },
      "execution_count": 44,
      "outputs": [
        {
          "output_type": "stream",
          "name": "stdout",
          "text": [
            "5.4853899200679736e-17\n"
          ]
        },
        {
          "output_type": "execute_result",
          "data": {
            "text/plain": [
              "0.9999999999999998"
            ]
          },
          "metadata": {},
          "execution_count": 44
        }
      ]
    },
    {
      "cell_type": "code",
      "source": [
        "X_train, X_test, y_train, y_test  = train_test_split(X, y, test_size = 0.3)"
      ],
      "metadata": {
        "id": "8v90YGQjhR7j"
      },
      "execution_count": 45,
      "outputs": []
    },
    {
      "cell_type": "code",
      "source": [
        "print(\"The size of training input is\", X_train.shape)\n",
        "print(\"The size of training output is\", y_train.shape)\n",
        "print(50 *'*')\n",
        "print(\"The size of testing input is\", X_test.shape)\n",
        "print(\"The size of testing output is\", y_test.shape)"
      ],
      "metadata": {
        "colab": {
          "base_uri": "https://localhost:8080/"
        },
        "id": "h3gfppnNhWmM",
        "outputId": "da20cdc5-feef-438e-fe94-e1b6e4e815f8"
      },
      "execution_count": 46,
      "outputs": [
        {
          "output_type": "stream",
          "name": "stdout",
          "text": [
            "The size of training input is (70000, 4)\n",
            "The size of training output is (70000,)\n",
            "**************************************************\n",
            "The size of testing input is (30000, 4)\n",
            "The size of testing output is (30000,)\n"
          ]
        }
      ]
    },
    {
      "cell_type": "markdown",
      "source": [
        "### Machine Learning Models\n",
        "\n"
      ],
      "metadata": {
        "id": "lew9AJPqku1s"
      }
    },
    {
      "cell_type": "markdown",
      "source": [
        "**1. Baseline Model**"
      ],
      "metadata": {
        "id": "WHn3YSBRlAF0"
      }
    },
    {
      "cell_type": "markdown",
      "source": [
        "\n",
        "\n",
        "*   In baseline model the predicted trip time would be simply the average of all trip time.\n",
        "*   We will use this baseline model to perform hypothesis testing for other ML complex models.\n",
        "\n"
      ],
      "metadata": {
        "id": "LLBBzO06lSeD"
      }
    },
    {
      "cell_type": "code",
      "source": [
        "y_train_pred = np.ones(X_train.shape[0]) * y_train.mean() #Predicting the train results"
      ],
      "metadata": {
        "id": "p7nLAxKjhYsU"
      },
      "execution_count": 47,
      "outputs": []
    },
    {
      "cell_type": "code",
      "source": [
        "y_test_pred = np.ones(y_test.shape[0]) * y_train.mean() #Predicting the test results"
      ],
      "metadata": {
        "id": "UuLeRoQ0lX-h"
      },
      "execution_count": 48,
      "outputs": []
    },
    {
      "cell_type": "code",
      "source": [
        "print(\"Train Results for Baseline Model:\")\n",
        "print(50 * '-')\n",
        "print(\"Root mean squared error: \", sqrt(mse(y_train.values, y_train_pred)))\n",
        "print(\"R-squared: \", r2_score(y_train.values, y_train_pred))"
      ],
      "metadata": {
        "colab": {
          "base_uri": "https://localhost:8080/"
        },
        "id": "tyTO3q1Nlm3i",
        "outputId": "0d3f333f-f9a4-41b7-ecac-b054c836e959"
      },
      "execution_count": 49,
      "outputs": [
        {
          "output_type": "stream",
          "name": "stdout",
          "text": [
            "Train Results for Baseline Model:\n",
            "--------------------------------------------------\n",
            "Root mean squared error:  671.8328124063846\n",
            "R-squared:  0.0\n"
          ]
        }
      ]
    },
    {
      "cell_type": "code",
      "source": [
        "print(\"Test Results for Baseline Model:\")\n",
        "print(50 * '-')\n",
        "print(\"Root mean squared error: \", sqrt(mse(y_test, y_test_pred)))\n",
        "print(\"R-squared: \", r2_score(y_test, y_test_pred))"
      ],
      "metadata": {
        "colab": {
          "base_uri": "https://localhost:8080/"
        },
        "id": "FeGHl8PolpVD",
        "outputId": "e93b5ebe-849f-44d5-dfad-5ec2636bc4fd"
      },
      "execution_count": 50,
      "outputs": [
        {
          "output_type": "stream",
          "name": "stdout",
          "text": [
            "Test Results for Baseline Model:\n",
            "--------------------------------------------------\n",
            "Root mean squared error:  633.6278444138611\n",
            "R-squared:  -1.4837010436474785e-05\n"
          ]
        }
      ]
    },
    {
      "cell_type": "markdown",
      "source": [
        "**2. KNN Regressor**"
      ],
      "metadata": {
        "id": "E1YoaCg2wuSl"
      }
    },
    {
      "cell_type": "code",
      "source": [
        "k_range  =list(range(1,30)) \n",
        "param =dict(n_neighbors =k_range)\n",
        "knn_regressor =GridSearchCV(KNeighborsRegressor(),param,cv =10)\n",
        "knn_regressor.fit(X_train,y_train)"
      ],
      "metadata": {
        "colab": {
          "base_uri": "https://localhost:8080/"
        },
        "id": "7kaqkCxDlulK",
        "outputId": "1171c12b-7609-4c50-d88e-2c7bd470d27f"
      },
      "execution_count": 51,
      "outputs": [
        {
          "output_type": "execute_result",
          "data": {
            "text/plain": [
              "GridSearchCV(cv=10, estimator=KNeighborsRegressor(),\n",
              "             param_grid={'n_neighbors': [1, 2, 3, 4, 5, 6, 7, 8, 9, 10, 11, 12,\n",
              "                                         13, 14, 15, 16, 17, 18, 19, 20, 21, 22,\n",
              "                                         23, 24, 25, 26, 27, 28, 29]})"
            ]
          },
          "metadata": {},
          "execution_count": 51
        }
      ]
    },
    {
      "cell_type": "code",
      "source": [
        "print(knn_regressor.best_estimator_)\n",
        "knn_regressor.best_params_"
      ],
      "metadata": {
        "colab": {
          "base_uri": "https://localhost:8080/"
        },
        "id": "qN9aba_Zw0wP",
        "outputId": "1fe08ac2-2690-49b5-e30f-225c5be6cbfc"
      },
      "execution_count": 52,
      "outputs": [
        {
          "output_type": "stream",
          "name": "stdout",
          "text": [
            "KNeighborsRegressor(n_neighbors=2)\n"
          ]
        },
        {
          "output_type": "execute_result",
          "data": {
            "text/plain": [
              "{'n_neighbors': 2}"
            ]
          },
          "metadata": {},
          "execution_count": 52
        }
      ]
    },
    {
      "cell_type": "code",
      "source": [
        "y_train_pred =knn_regressor.predict(X_train) ##Predict train result\n",
        "y_test_pred =knn_regressor.predict(X_test) ##Predict test result"
      ],
      "metadata": {
        "id": "9q8kebLCx4Cn"
      },
      "execution_count": 53,
      "outputs": []
    },
    {
      "cell_type": "code",
      "source": [
        "print(\"Train Results for KNN Regressor Model:\")\n",
        "print(50 * '-')\n",
        "print(\"Root mean squared error: \", sqrt(mse(y_train.values, y_train_pred)))\n",
        "print(\"R-squared: \", r2_score(y_train.values, y_train_pred))"
      ],
      "metadata": {
        "colab": {
          "base_uri": "https://localhost:8080/"
        },
        "id": "uY8Re3PCyGGe",
        "outputId": "bfaad0cb-46f6-47cc-af42-f389c693df6a"
      },
      "execution_count": 54,
      "outputs": [
        {
          "output_type": "stream",
          "name": "stdout",
          "text": [
            "Train Results for KNN Regressor Model:\n",
            "--------------------------------------------------\n",
            "Root mean squared error:  11.39668654854183\n",
            "R-squared:  0.9997122371107043\n"
          ]
        }
      ]
    },
    {
      "cell_type": "code",
      "source": [
        "print(\"Test Results for KNN Regressor Model:\")\n",
        "print(50 * '-')\n",
        "print(\"Root mean squared error: \", sqrt(mse(y_test, y_test_pred)))\n",
        "print(\"R-squared: \", r2_score(y_test, y_test_pred))"
      ],
      "metadata": {
        "colab": {
          "base_uri": "https://localhost:8080/"
        },
        "id": "z0cPXxr4yVUH",
        "outputId": "4b3ce1f1-0175-4ebc-ce4b-365d94f62ba0"
      },
      "execution_count": 55,
      "outputs": [
        {
          "output_type": "stream",
          "name": "stdout",
          "text": [
            "Test Results for KNN Regressor Model:\n",
            "--------------------------------------------------\n",
            "Root mean squared error:  20.208429553035536\n",
            "R-squared:  0.9989828076966574\n"
          ]
        }
      ]
    },
    {
      "cell_type": "markdown",
      "source": [
        "**3. Ridge Regressor**"
      ],
      "metadata": {
        "id": "4krNqe3BziUM"
      }
    },
    {
      "cell_type": "code",
      "source": [
        "params ={'alpha' :[0.0001, 0.001, 0.01, 0.1, 1, 10, 100, 1000, 10000, 100000]}\n",
        "ridge_regressor =GridSearchCV(Ridge(), params ,cv =5,scoring = 'neg_mean_absolute_error', n_jobs =-1)\n",
        "ridge_regressor.fit(X_train ,y_train)"
      ],
      "metadata": {
        "colab": {
          "base_uri": "https://localhost:8080/"
        },
        "id": "nqmAkT51yfTe",
        "outputId": "dc779c4d-626b-470a-a5f2-d2a4ad9b74bb"
      },
      "execution_count": 56,
      "outputs": [
        {
          "output_type": "execute_result",
          "data": {
            "text/plain": [
              "GridSearchCV(cv=5, estimator=Ridge(), n_jobs=-1,\n",
              "             param_grid={'alpha': [0.0001, 0.001, 0.01, 0.1, 1, 10, 100, 1000,\n",
              "                                   10000, 100000]},\n",
              "             scoring='neg_mean_absolute_error')"
            ]
          },
          "metadata": {},
          "execution_count": 56
        }
      ]
    },
    {
      "cell_type": "code",
      "source": [
        "print(ridge_regressor.best_estimator_)\n",
        "ridge_regressor.best_params_"
      ],
      "metadata": {
        "colab": {
          "base_uri": "https://localhost:8080/"
        },
        "id": "hyDygQ7dznkw",
        "outputId": "dd513780-ecfd-430e-e65a-64626cea8094"
      },
      "execution_count": 57,
      "outputs": [
        {
          "output_type": "stream",
          "name": "stdout",
          "text": [
            "Ridge(alpha=0.0001)\n"
          ]
        },
        {
          "output_type": "execute_result",
          "data": {
            "text/plain": [
              "{'alpha': 0.0001}"
            ]
          },
          "metadata": {},
          "execution_count": 57
        }
      ]
    },
    {
      "cell_type": "code",
      "source": [
        "y_train_pred =ridge_regressor.predict(X_train) ##Predict train result\n",
        "y_test_pred =ridge_regressor.predict(X_test) ##Predict test result"
      ],
      "metadata": {
        "id": "VY_terYQzq1_"
      },
      "execution_count": 58,
      "outputs": []
    },
    {
      "cell_type": "code",
      "source": [
        "print(\"Train Results for Ridge Regressor Model:\")\n",
        "print(50 * '-')\n",
        "print(\"Root mean squared error: \", sqrt(mse(y_train.values, y_train_pred)))\n",
        "print(\"R-squared: \", r2_score(y_train.values, y_train_pred))"
      ],
      "metadata": {
        "colab": {
          "base_uri": "https://localhost:8080/"
        },
        "id": "_e3iqMNXzv02",
        "outputId": "2048c546-2bd8-4658-a113-41507e7a50a5"
      },
      "execution_count": 59,
      "outputs": [
        {
          "output_type": "stream",
          "name": "stdout",
          "text": [
            "Train Results for Ridge Regressor Model:\n",
            "--------------------------------------------------\n",
            "Root mean squared error:  9.314054282527773e-07\n",
            "R-squared:  1.0\n"
          ]
        }
      ]
    },
    {
      "cell_type": "code",
      "source": [
        "print(\"Test Results for Ridge Regressor Model:\")\n",
        "print(50 * '-')\n",
        "print(\"Root mean squared error: \", sqrt(mse(y_test, y_test_pred)))\n",
        "print(\"R-squared: \", r2_score(y_test, y_test_pred))"
      ],
      "metadata": {
        "colab": {
          "base_uri": "https://localhost:8080/"
        },
        "id": "4GNxr4FNzySe",
        "outputId": "06650e24-f98b-4947-aff2-b45828b947d9"
      },
      "execution_count": 60,
      "outputs": [
        {
          "output_type": "stream",
          "name": "stdout",
          "text": [
            "Test Results for Ridge Regressor Model:\n",
            "--------------------------------------------------\n",
            "Root mean squared error:  8.780380627340071e-07\n",
            "R-squared:  1.0\n"
          ]
        }
      ]
    },
    {
      "cell_type": "markdown",
      "source": [
        "**4. Lasso Regression**"
      ],
      "metadata": {
        "id": "fgYuh7yNz9xj"
      }
    },
    {
      "cell_type": "code",
      "source": [
        "params ={'alpha' :[0.0001, 0.001, 0.01, 0.1, 1, 10, 100, 1000, 10000, 100000]}\n",
        "lasso_regressor =GridSearchCV(Lasso(), params ,cv =15,scoring = 'neg_mean_absolute_error', n_jobs =-1)\n",
        "lasso_regressor.fit(X_train ,y_train)"
      ],
      "metadata": {
        "colab": {
          "base_uri": "https://localhost:8080/"
        },
        "id": "ltOAmT7Yz3AG",
        "outputId": "9fa1dff8-f1c2-4dde-cc47-299a38c8166e"
      },
      "execution_count": 61,
      "outputs": [
        {
          "output_type": "execute_result",
          "data": {
            "text/plain": [
              "GridSearchCV(cv=15, estimator=Lasso(), n_jobs=-1,\n",
              "             param_grid={'alpha': [0.0001, 0.001, 0.01, 0.1, 1, 10, 100, 1000,\n",
              "                                   10000, 100000]},\n",
              "             scoring='neg_mean_absolute_error')"
            ]
          },
          "metadata": {},
          "execution_count": 61
        }
      ]
    },
    {
      "cell_type": "code",
      "source": [
        "print(lasso_regressor.best_estimator_)\n",
        "lasso_regressor.best_params_"
      ],
      "metadata": {
        "colab": {
          "base_uri": "https://localhost:8080/"
        },
        "id": "vq0IqSIZ0A9u",
        "outputId": "41804bce-e078-447a-9f56-1596c345f864"
      },
      "execution_count": 62,
      "outputs": [
        {
          "output_type": "stream",
          "name": "stdout",
          "text": [
            "Lasso(alpha=0.0001)\n"
          ]
        },
        {
          "output_type": "execute_result",
          "data": {
            "text/plain": [
              "{'alpha': 0.0001}"
            ]
          },
          "metadata": {},
          "execution_count": 62
        }
      ]
    },
    {
      "cell_type": "code",
      "source": [
        "y_train_pred =lasso_regressor.predict(X_train) ##Predict train result\n",
        "y_test_pred =lasso_regressor.predict(X_test) ##Predict test result"
      ],
      "metadata": {
        "id": "Oado9VgJ0DVo"
      },
      "execution_count": 63,
      "outputs": []
    },
    {
      "cell_type": "code",
      "source": [
        "print(\"Train Results for Lasso Regressor Model:\")\n",
        "print(50 * '-')\n",
        "print(\"Root mean squared error: \", sqrt(mse(y_train.values, y_train_pred)))\n",
        "print(\"R-squared: \", r2_score(y_train.values, y_train_pred))"
      ],
      "metadata": {
        "colab": {
          "base_uri": "https://localhost:8080/"
        },
        "id": "Z_prrOGR0GPV",
        "outputId": "b83305d4-558a-422d-a17e-a79071a79c18"
      },
      "execution_count": 64,
      "outputs": [
        {
          "output_type": "stream",
          "name": "stdout",
          "text": [
            "Train Results for Lasso Regressor Model:\n",
            "--------------------------------------------------\n",
            "Root mean squared error:  9.832847495975917e-05\n",
            "R-squared:  0.9999999999999786\n"
          ]
        }
      ]
    },
    {
      "cell_type": "code",
      "source": [
        "print(\"Test Results for Lasso Regressor Model:\")\n",
        "print(50 * '-')\n",
        "print(\"Root mean squared error: \", sqrt(mse(y_test, y_test_pred)))\n",
        "print(\"R-squared: \", r2_score(y_test, y_test_pred))"
      ],
      "metadata": {
        "colab": {
          "base_uri": "https://localhost:8080/"
        },
        "id": "HyQfPr5u0KkF",
        "outputId": "e364aca6-bdd2-4f2d-fd41-494c101cefb1"
      },
      "execution_count": 65,
      "outputs": [
        {
          "output_type": "stream",
          "name": "stdout",
          "text": [
            "Test Results for Lasso Regressor Model:\n",
            "--------------------------------------------------\n",
            "Root mean squared error:  9.273685131350477e-05\n",
            "R-squared:  0.9999999999999786\n"
          ]
        }
      ]
    },
    {
      "cell_type": "markdown",
      "source": [
        "**5. Decision Tree Regressor**"
      ],
      "metadata": {
        "id": "icolaQ4G0Th4"
      }
    },
    {
      "cell_type": "code",
      "source": [
        "depth  =list(range(3,30))\n",
        "param_grid =dict(max_depth =depth)\n",
        "tree =GridSearchCV(DecisionTreeRegressor(),param_grid,cv =10)\n",
        "tree.fit(X_train,y_train)"
      ],
      "metadata": {
        "colab": {
          "base_uri": "https://localhost:8080/"
        },
        "id": "ZQ2wvk1m0M1F",
        "outputId": "9a6f7646-8bfb-47b2-d297-1597c1dc6cbd"
      },
      "execution_count": 66,
      "outputs": [
        {
          "output_type": "execute_result",
          "data": {
            "text/plain": [
              "GridSearchCV(cv=10, estimator=DecisionTreeRegressor(),\n",
              "             param_grid={'max_depth': [3, 4, 5, 6, 7, 8, 9, 10, 11, 12, 13, 14,\n",
              "                                       15, 16, 17, 18, 19, 20, 21, 22, 23, 24,\n",
              "                                       25, 26, 27, 28, 29]})"
            ]
          },
          "metadata": {},
          "execution_count": 66
        }
      ]
    },
    {
      "cell_type": "code",
      "source": [
        "print(tree.best_estimator_)\n",
        "tree.best_params_"
      ],
      "metadata": {
        "colab": {
          "base_uri": "https://localhost:8080/"
        },
        "id": "kzwRwICj0XTn",
        "outputId": "17c1d7b9-545f-4f9c-b8d6-49bc75119f67"
      },
      "execution_count": 67,
      "outputs": [
        {
          "output_type": "stream",
          "name": "stdout",
          "text": [
            "DecisionTreeRegressor(max_depth=12)\n"
          ]
        },
        {
          "output_type": "execute_result",
          "data": {
            "text/plain": [
              "{'max_depth': 12}"
            ]
          },
          "metadata": {},
          "execution_count": 67
        }
      ]
    },
    {
      "cell_type": "code",
      "source": [
        "y_train_pred =tree.predict(X_train) ##Predict train result\n",
        "y_test_pred =tree.predict(X_test) ##Predict test result"
      ],
      "metadata": {
        "id": "8Pbbig6X0cWm"
      },
      "execution_count": 68,
      "outputs": []
    },
    {
      "cell_type": "code",
      "source": [
        "print(\"Train Results for Decision Tree Regressor Model:\")\n",
        "print(50 * '-')\n",
        "print(\"Root mean squared error: \", sqrt(mse(y_train.values, y_train_pred)))\n",
        "print(\"R-squared: \", r2_score(y_train.values, y_train_pred))"
      ],
      "metadata": {
        "colab": {
          "base_uri": "https://localhost:8080/"
        },
        "id": "saONGYdH0fZ-",
        "outputId": "1d879f65-0cf9-4afc-ceff-644a5cc2a871"
      },
      "execution_count": 69,
      "outputs": [
        {
          "output_type": "stream",
          "name": "stdout",
          "text": [
            "Train Results for Decision Tree Regressor Model:\n",
            "--------------------------------------------------\n",
            "Root mean squared error:  0.0\n",
            "R-squared:  1.0\n"
          ]
        }
      ]
    },
    {
      "cell_type": "code",
      "source": [
        "print(\"Test Results for Decision Tree Regressor Model:\")\n",
        "print(50 * '-')\n",
        "print(\"Root mean squared error: \", sqrt(mse(y_test, y_test_pred)))\n",
        "print(\"R-squared: \", r2_score(y_test, y_test_pred))"
      ],
      "metadata": {
        "colab": {
          "base_uri": "https://localhost:8080/"
        },
        "id": "VfiotvMC0hw-",
        "outputId": "0ac9d68d-9c02-497b-af32-1887e20ab2af"
      },
      "execution_count": 70,
      "outputs": [
        {
          "output_type": "stream",
          "name": "stdout",
          "text": [
            "Test Results for Decision Tree Regressor Model:\n",
            "--------------------------------------------------\n",
            "Root mean squared error:  29.04931152368331\n",
            "R-squared:  0.9978981117429863\n"
          ]
        }
      ]
    },
    {
      "cell_type": "markdown",
      "source": [
        "**6. XGBoost**"
      ],
      "metadata": {
        "id": "mS5hNPcI0pwC"
      }
    },
    {
      "cell_type": "code",
      "source": [
        "tuned_params = {'max_depth': [1, 2, 3, 4, 5], 'learning_rate': [0.01, 0.05, 0.1], 'n_estimators': [100, 200, 300, 400, 500], 'reg_lambda': [0.001, 0.1, 1.0, 10.0, 100.0]}\n",
        "model = RandomizedSearchCV(XGBRegressor(), tuned_params, n_iter=20, scoring = 'neg_mean_absolute_error', cv=5, n_jobs=-1)\n",
        "model.fit(X_train, y_train)"
      ],
      "metadata": {
        "colab": {
          "base_uri": "https://localhost:8080/"
        },
        "id": "R5DgdF210l3-",
        "outputId": "434521b0-abc4-4008-d255-2896855d083f"
      },
      "execution_count": 71,
      "outputs": [
        {
          "output_type": "stream",
          "name": "stdout",
          "text": [
            "[13:55:47] WARNING: /workspace/src/objective/regression_obj.cu:152: reg:linear is now deprecated in favor of reg:squarederror.\n"
          ]
        },
        {
          "output_type": "execute_result",
          "data": {
            "text/plain": [
              "RandomizedSearchCV(cv=5, estimator=XGBRegressor(), n_iter=20, n_jobs=-1,\n",
              "                   param_distributions={'learning_rate': [0.01, 0.05, 0.1],\n",
              "                                        'max_depth': [1, 2, 3, 4, 5],\n",
              "                                        'n_estimators': [100, 200, 300, 400,\n",
              "                                                         500],\n",
              "                                        'reg_lambda': [0.001, 0.1, 1.0, 10.0,\n",
              "                                                       100.0]},\n",
              "                   scoring='neg_mean_absolute_error')"
            ]
          },
          "metadata": {},
          "execution_count": 71
        }
      ]
    },
    {
      "cell_type": "code",
      "source": [
        "print(model.best_estimator_)\n",
        "model.best_params_"
      ],
      "metadata": {
        "colab": {
          "base_uri": "https://localhost:8080/"
        },
        "id": "jMBx3yFv0wl2",
        "outputId": "b7c9463a-8c7a-4f53-f2ed-12d5a19ea5bc"
      },
      "execution_count": 72,
      "outputs": [
        {
          "output_type": "stream",
          "name": "stdout",
          "text": [
            "XGBRegressor(learning_rate=0.05, max_depth=5, n_estimators=400, reg_lambda=0.1)\n"
          ]
        },
        {
          "output_type": "execute_result",
          "data": {
            "text/plain": [
              "{'learning_rate': 0.05, 'max_depth': 5, 'n_estimators': 400, 'reg_lambda': 0.1}"
            ]
          },
          "metadata": {},
          "execution_count": 72
        }
      ]
    },
    {
      "cell_type": "code",
      "source": [
        "y_train_pred = model.predict(X_train)\n",
        "y_test_pred = model.predict(X_test)"
      ],
      "metadata": {
        "id": "eB2i5BSS33lP"
      },
      "execution_count": 73,
      "outputs": []
    },
    {
      "cell_type": "code",
      "source": [
        "print(\"Train Results for XGBoost Regressor Model:\")\n",
        "print(50 * '-')\n",
        "print(\"Root mean squared error: \", sqrt(mse(y_train.values, y_train_pred)))\n",
        "print(\"R-squared: \", r2_score(y_train.values, y_train_pred))"
      ],
      "metadata": {
        "colab": {
          "base_uri": "https://localhost:8080/"
        },
        "id": "8Aft6tw137KN",
        "outputId": "031cddb7-8241-4ebb-dcc1-2bba50ff738d"
      },
      "execution_count": 74,
      "outputs": [
        {
          "output_type": "stream",
          "name": "stdout",
          "text": [
            "Train Results for XGBoost Regressor Model:\n",
            "--------------------------------------------------\n",
            "Root mean squared error:  0.18135832367218682\n",
            "R-squared:  0.9999999271293634\n"
          ]
        }
      ]
    },
    {
      "cell_type": "code",
      "source": [
        "print(\"Test Results for XGBoost Regressor Model:\")\n",
        "print(50 * '-')\n",
        "print(\"Root mean squared error: \", sqrt(mse(y_test, y_test_pred)))\n",
        "print(\"R-squared: \", r2_score(y_test, y_test_pred))"
      ],
      "metadata": {
        "colab": {
          "base_uri": "https://localhost:8080/"
        },
        "id": "HtZEVIEs3999",
        "outputId": "ab94b4e5-8207-4c45-fa39-8af676eb4ca3"
      },
      "execution_count": 75,
      "outputs": [
        {
          "output_type": "stream",
          "name": "stdout",
          "text": [
            "Test Results for XGBoost Regressor Model:\n",
            "--------------------------------------------------\n",
            "Root mean squared error:  27.200513065843573\n",
            "R-squared:  0.9981571409157688\n"
          ]
        }
      ]
    },
    {
      "cell_type": "markdown",
      "source": [
        "**7. Random Forest Regressor**"
      ],
      "metadata": {
        "id": "ytZ1RDs84G2s"
      }
    },
    {
      "cell_type": "code",
      "source": [
        "tuned_params = {'n_estimators': [100, 200, 300, 400, 500], 'min_samples_split': [2, 5, 10], 'min_samples_leaf': [1, 2, 4]}\n",
        "random_regressor = RandomizedSearchCV(RandomForestRegressor(), tuned_params, n_iter = 20, scoring = 'neg_mean_absolute_error', cv = 5, n_jobs = -1)\n",
        "random_regressor.fit(X_train, y_train)"
      ],
      "metadata": {
        "colab": {
          "base_uri": "https://localhost:8080/"
        },
        "id": "LnSFjsb84DOO",
        "outputId": "105c77e8-22c5-4918-8652-41e77497b39d"
      },
      "execution_count": 76,
      "outputs": [
        {
          "output_type": "execute_result",
          "data": {
            "text/plain": [
              "RandomizedSearchCV(cv=5, estimator=RandomForestRegressor(), n_iter=20,\n",
              "                   n_jobs=-1,\n",
              "                   param_distributions={'min_samples_leaf': [1, 2, 4],\n",
              "                                        'min_samples_split': [2, 5, 10],\n",
              "                                        'n_estimators': [100, 200, 300, 400,\n",
              "                                                         500]},\n",
              "                   scoring='neg_mean_absolute_error')"
            ]
          },
          "metadata": {},
          "execution_count": 76
        }
      ]
    },
    {
      "cell_type": "code",
      "source": [
        "print(random_regressor.best_estimator_)\n",
        "random_regressor.best_params_"
      ],
      "metadata": {
        "colab": {
          "base_uri": "https://localhost:8080/"
        },
        "id": "g0LfhD5f4KmN",
        "outputId": "2b9c18bb-1506-4f27-9a53-3ce19520eae5"
      },
      "execution_count": 77,
      "outputs": [
        {
          "output_type": "stream",
          "name": "stdout",
          "text": [
            "RandomForestRegressor(n_estimators=400)\n"
          ]
        },
        {
          "output_type": "execute_result",
          "data": {
            "text/plain": [
              "{'min_samples_leaf': 1, 'min_samples_split': 2, 'n_estimators': 400}"
            ]
          },
          "metadata": {},
          "execution_count": 77
        }
      ]
    },
    {
      "cell_type": "code",
      "source": [
        "y_train_pred = random_regressor.predict(X_train)\n",
        "y_test_pred = random_regressor.predict(X_test)"
      ],
      "metadata": {
        "id": "e2BP1WNctNsi"
      },
      "execution_count": 78,
      "outputs": []
    },
    {
      "cell_type": "code",
      "source": [
        "print(\"Train Results for Random Forest Regressor Model:\")\n",
        "print(50 * '-')\n",
        "print(\"Root mean squared error: \", sqrt(mse(y_train.values, y_train_pred)))\n",
        "print(\"R-squared: \", r2_score(y_train.values, y_train_pred))"
      ],
      "metadata": {
        "colab": {
          "base_uri": "https://localhost:8080/"
        },
        "id": "7T2drdyWtfxf",
        "outputId": "bcdb707d-2382-45dd-d53f-dc4a6b394651"
      },
      "execution_count": 79,
      "outputs": [
        {
          "output_type": "stream",
          "name": "stdout",
          "text": [
            "Train Results for Random Forest Regressor Model:\n",
            "--------------------------------------------------\n",
            "Root mean squared error:  7.176411917917266\n",
            "R-squared:  0.999885898252588\n"
          ]
        }
      ]
    },
    {
      "cell_type": "code",
      "source": [
        "print(\"Test Results for Random Forest Regressor Model:\")\n",
        "print(50 * '-')\n",
        "print(\"Root mean squared error: \", sqrt(mse(y_test, y_test_pred)))\n",
        "print(\"R-squared: \", r2_score(y_test, y_test_pred))"
      ],
      "metadata": {
        "colab": {
          "base_uri": "https://localhost:8080/"
        },
        "id": "7vDeqh5BtipG",
        "outputId": "b0ca417b-6595-40c5-cd7f-42b99459e368"
      },
      "execution_count": 80,
      "outputs": [
        {
          "output_type": "stream",
          "name": "stdout",
          "text": [
            "Test Results for Random Forest Regressor Model:\n",
            "--------------------------------------------------\n",
            "Root mean squared error:  27.849310548299496\n",
            "R-squared:  0.9980681792259454\n"
          ]
        }
      ]
    },
    {
      "cell_type": "markdown",
      "source": [
        "**8. Stacking**"
      ],
      "metadata": {
        "id": "N_jJRD2dzyXf"
      }
    },
    {
      "cell_type": "code",
      "source": [
        "# Initializing models\n",
        "ridge = Ridge()\n",
        "lasso = Lasso()\n",
        "tree = DecisionTreeRegressor()\n",
        "knn = KNeighborsRegressor()\n",
        "\n",
        "stack = StackingRegressor(regressors = [ridge, lasso, knn], meta_regressor = tree)\n",
        "stack.fit(X_train, y_train)"
      ],
      "metadata": {
        "colab": {
          "base_uri": "https://localhost:8080/"
        },
        "id": "aA9iF1NszvYt",
        "outputId": "2e0b8d7b-f4af-4b54-bf43-3224e707a4eb"
      },
      "execution_count": 81,
      "outputs": [
        {
          "output_type": "execute_result",
          "data": {
            "text/plain": [
              "StackingRegressor(meta_regressor=DecisionTreeRegressor(),\n",
              "                  regressors=[Ridge(), Lasso(), KNeighborsRegressor()])"
            ]
          },
          "metadata": {},
          "execution_count": 81
        }
      ]
    },
    {
      "cell_type": "code",
      "source": [
        "print(stack.regr_)\n",
        "stack.meta_regr_"
      ],
      "metadata": {
        "colab": {
          "base_uri": "https://localhost:8080/"
        },
        "id": "gNwtY5tOz1tV",
        "outputId": "82ad562a-d3c8-47cc-cc9d-24c74eb4fb69"
      },
      "execution_count": 82,
      "outputs": [
        {
          "output_type": "stream",
          "name": "stdout",
          "text": [
            "[Ridge(), Lasso(), KNeighborsRegressor()]\n"
          ]
        },
        {
          "output_type": "execute_result",
          "data": {
            "text/plain": [
              "DecisionTreeRegressor()"
            ]
          },
          "metadata": {},
          "execution_count": 82
        }
      ]
    },
    {
      "cell_type": "code",
      "source": [
        "y_train_pred = stack.predict(X_train)\n",
        "y_test_pred = stack.predict(X_test)"
      ],
      "metadata": {
        "id": "_vRjxhGMz5V0"
      },
      "execution_count": 83,
      "outputs": []
    },
    {
      "cell_type": "code",
      "source": [
        "print(\"Train Results for Stacking Regressor Model:\")\n",
        "print(50 * '-')\n",
        "print(\"Root mean squared error: \", sqrt(mse(y_train.values, y_train_pred)))\n",
        "print(\"R-squared: \", r2_score(y_train.values, y_train_pred))"
      ],
      "metadata": {
        "colab": {
          "base_uri": "https://localhost:8080/"
        },
        "id": "mVT-Xpyvz9LW",
        "outputId": "bab844ec-03cb-4540-8ae5-06daeb07937c"
      },
      "execution_count": 84,
      "outputs": [
        {
          "output_type": "stream",
          "name": "stdout",
          "text": [
            "Train Results for Stacking Regressor Model:\n",
            "--------------------------------------------------\n",
            "Root mean squared error:  0.0\n",
            "R-squared:  1.0\n"
          ]
        }
      ]
    },
    {
      "cell_type": "code",
      "source": [
        "print(\"Test Results for Stacking Regressor Model:\")\n",
        "print(50 * '-')\n",
        "print(\"Root mean squared error: \", sqrt(mse(y_test, y_test_pred)))\n",
        "print(\"R-squared: \", r2_score(y_test, y_test_pred))"
      ],
      "metadata": {
        "colab": {
          "base_uri": "https://localhost:8080/"
        },
        "id": "evMNF7ojz_yt",
        "outputId": "5da2de96-8e42-4e13-9038-9f9bc8e1599f"
      },
      "execution_count": 86,
      "outputs": [
        {
          "output_type": "stream",
          "name": "stdout",
          "text": [
            "Test Results for Stacking Regressor Model:\n",
            "--------------------------------------------------\n",
            "Root mean squared error:  28.860093554941916\n",
            "R-squared:  0.9979254046260996\n"
          ]
        }
      ]
    },
    {
      "cell_type": "code",
      "source": [
        ""
      ],
      "metadata": {
        "id": "SsEGdOza0HKV"
      },
      "execution_count": null,
      "outputs": []
    }
  ]
}