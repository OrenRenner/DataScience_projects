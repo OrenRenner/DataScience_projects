{
  "nbformat": 4,
  "nbformat_minor": 0,
  "metadata": {
    "colab": {
      "name": "lab01_m108_Nishanov_Emil.ipynb",
      "provenance": [],
      "collapsed_sections": []
    },
    "kernelspec": {
      "name": "python3",
      "display_name": "Python 3"
    }
  },
  "cells": [
    {
      "cell_type": "markdown",
      "metadata": {
        "id": "GRlrFo3OO8eO"
      },
      "source": [
        "**Part 1. Numpy [7 points]**\n",
        "\n",
        "In this part you must not use loops (for, while) and map function. For every implemented function provide some usage example (you may use randomly sampled matrices). Pay attention to types of input variables"
      ]
    },
    {
      "cell_type": "code",
      "metadata": {
        "id": "PvMcQaIBOU7j"
      },
      "source": [
        "import numpy as np"
      ],
      "execution_count": 1,
      "outputs": []
    },
    {
      "cell_type": "markdown",
      "metadata": {
        "id": "26ddckJePPke"
      },
      "source": [
        "**Task 1. [0.5 point]** Implement a function that takes two matrices as input, flattens them and returns a one-dimensional array where elements of these matrices alternate.\n",
        "\n",
        "For example, (np.array([[1,2,3], [4,5,6]]), np.array([[7,8],[9,10]])) -> [1,7,2,8,3,9,4,10,5,6]."
      ]
    },
    {
      "cell_type": "code",
      "metadata": {
        "id": "DRb1kfWaPPBv"
      },
      "source": [
        "def flatten_merge(arr_a, arr_b):\n",
        "    if isinstance(arr_a, np.ndarray) and isinstance(arr_b, np.ndarray):\n",
        "        remainder = None\n",
        "        result = None\n",
        "        if len(arr_a.flatten()) > len(arr_b.flatten()):\n",
        "            remainder = arr_a.flatten()[len(arr_b.flatten()):len(arr_a.flatten())]\n",
        "            result = np.stack((arr_a.flatten()[:len(arr_b.flatten())], arr_b.flatten()), axis=1)\n",
        "            result = np.concatenate((result.flatten(), remainder))\n",
        "        else:\n",
        "            remainder = arr_b.flatten()[len(arr_a.flatten()):len(arr_b.flatten())]\n",
        "            result = np.stack((arr_a.flatten(), arr_b.flatten()[:len(arr_a.flatten())]), axis=1)\n",
        "            result = np.concatenate((result.flatten(), remainder))\n",
        "        return result\n",
        "    else:\n",
        "        return None"
      ],
      "execution_count": null,
      "outputs": []
    },
    {
      "cell_type": "code",
      "metadata": {
        "id": "f3Go7X2ZQEoQ",
        "outputId": "fc486b58-e3ff-4fb8-baa8-d6b20c920b71",
        "colab": {
          "base_uri": "https://localhost:8080/",
          "height": 34
        }
      },
      "source": [
        "r = flatten_merge(np.array([[10,11], [12, 13]]), np.array([[1,2,3], [4,5,6], [7, 8, 9]]))\n",
        "print(r)"
      ],
      "execution_count": null,
      "outputs": [
        {
          "output_type": "stream",
          "text": [
            "[10  1 11  2 12  3 13  4  5  6  7  8  9]\n"
          ],
          "name": "stdout"
        }
      ]
    },
    {
      "cell_type": "markdown",
      "metadata": {
        "id": "STllh4a3Y5Hd"
      },
      "source": [
        "**Task 2. [0.5 point]** \n",
        "Implement a function to calculate the product of non-zero elements of array. For example, for np.array([1,2,0,6]) the answer is 12.\n",
        "If there are no non-zero elements, the function must return nan."
      ]
    },
    {
      "cell_type": "code",
      "metadata": {
        "id": "hnPPCzbxajt8"
      },
      "source": [
        "def product_non_zero(arr):\n",
        "    if isinstance(arr, np.ndarray):\n",
        "        if np.count_nonzero(arr) == 0: #len(arr.flatten())\n",
        "            return None\n",
        "        else:\n",
        "            arr[arr == 0] = 1\n",
        "            return np.prod(arr)\n",
        "    else:\n",
        "        return None"
      ],
      "execution_count": null,
      "outputs": []
    },
    {
      "cell_type": "code",
      "metadata": {
        "id": "RTeOcPY4bje0",
        "outputId": "7f7be6d9-b59e-4217-daac-995dee2c3636",
        "colab": {
          "base_uri": "https://localhost:8080/",
          "height": 34
        }
      },
      "source": [
        "r = product_non_zero(np.array([1,2,0,6]))\n",
        "print(r)"
      ],
      "execution_count": null,
      "outputs": [
        {
          "output_type": "stream",
          "text": [
            "12\n"
          ],
          "name": "stdout"
        }
      ]
    },
    {
      "cell_type": "markdown",
      "metadata": {
        "id": "tCdFqJ4Cm1Xo"
      },
      "source": [
        "**Task 3. [1 point]**\n",
        "Normalize every column of the input matrix: subtract the mean and divide by the std (avoid division by zero)"
      ]
    },
    {
      "cell_type": "code",
      "metadata": {
        "id": "urJUkfVmm8Km"
      },
      "source": [
        "def vertical_scale(arr):\n",
        "    if isinstance(arr, np.ndarray):\n",
        "        mean = arr.mean(axis=0)\n",
        "        std = arr.std(axis=0)\n",
        "        std[std == 0] = 1 #could be in try... except, but since the standard deviation is zero, then the values of the constant column (are the same)\n",
        "        return (arr - mean) / std\n",
        "    else:\n",
        "        return None"
      ],
      "execution_count": 1,
      "outputs": []
    },
    {
      "cell_type": "code",
      "metadata": {
        "id": "fMiLvZPbTVkT",
        "outputId": "6933b26f-2821-4484-8282-c3dc1644e73d",
        "colab": {
          "base_uri": "https://localhost:8080/",
          "height": 85
        }
      },
      "source": [
        "r = vertical_scale(np.array([[1,2,3], [4,5,6], [7,8,9], [10,11,12]]))\n",
        "print(r)"
      ],
      "execution_count": 6,
      "outputs": [
        {
          "output_type": "stream",
          "text": [
            "[[-1.34164079 -1.34164079 -1.34164079]\n",
            " [-0.4472136  -0.4472136  -0.4472136 ]\n",
            " [ 0.4472136   0.4472136   0.4472136 ]\n",
            " [ 1.34164079  1.34164079  1.34164079]]\n"
          ],
          "name": "stdout"
        }
      ]
    },
    {
      "cell_type": "markdown",
      "metadata": {
        "id": "9InGTGWPvXAB"
      },
      "source": [
        "**Task 4. [0.5 points]**\n",
        "Implement a function that returns transposed matrix, without changing given."
      ]
    },
    {
      "cell_type": "code",
      "metadata": {
        "id": "DgjfW3E7vdHO"
      },
      "source": [
        "def safe_transpose(arr):\n",
        "    if isinstance(arr, np.ndarray):\n",
        "        return arr.T #As I understand it, not to change the original means not to assign the transposed matrix to the same variable\n",
        "    else:\n",
        "        return None"
      ],
      "execution_count": null,
      "outputs": []
    },
    {
      "cell_type": "code",
      "metadata": {
        "id": "e8g5hfwDwUkn",
        "outputId": "b82c8fa3-e53a-46b0-81b5-589724924c47",
        "colab": {
          "base_uri": "https://localhost:8080/",
          "height": 68
        }
      },
      "source": [
        "a = safe_transpose(np.array([[1, 2, 3], [1, 5, 6], [1, 8, 9]]))\n",
        "print(a)"
      ],
      "execution_count": null,
      "outputs": [
        {
          "output_type": "stream",
          "text": [
            "[[1 1 1]\n",
            " [2 5 8]\n",
            " [3 6 9]]\n"
          ],
          "name": "stdout"
        }
      ]
    },
    {
      "cell_type": "markdown",
      "metadata": {
        "id": "kA3dzHT63m1p"
      },
      "source": [
        "**Task 5. [0.5]**\n",
        "Implement a funtion that returns index of max element in the matrix."
      ]
    },
    {
      "cell_type": "code",
      "metadata": {
        "id": "WKTACvQh4QVd"
      },
      "source": [
        "#First version\n",
        "def max_elem_index(arr):\n",
        "    if isinstance(arr, np.ndarray):\n",
        "        return np.argmax(arr)\n",
        "    else:\n",
        "        return None"
      ],
      "execution_count": 7,
      "outputs": []
    },
    {
      "cell_type": "code",
      "metadata": {
        "id": "895qEVua8HGI",
        "outputId": "5805fb65-eeec-4c1e-8f07-61750dfc416b",
        "colab": {
          "base_uri": "https://localhost:8080/",
          "height": 34
        }
      },
      "source": [
        "a = max_elem_index(np.array([[1,2,3], [4,5,6], [7,8,9], [10,11,12]]))\n",
        "print(a)"
      ],
      "execution_count": 8,
      "outputs": [
        {
          "output_type": "stream",
          "text": [
            "11\n"
          ],
          "name": "stdout"
        }
      ]
    },
    {
      "cell_type": "code",
      "metadata": {
        "id": "X1Q-fL9575-b"
      },
      "source": [
        "#Second version, return tuple of indexes\n",
        "def max_elem_index(arr):\n",
        "    if isinstance(arr, np.ndarray):\n",
        "        return np.unravel_index(np.argmax(arr, axis=None), arr.shape)\n",
        "    else:\n",
        "        return None"
      ],
      "execution_count": null,
      "outputs": []
    },
    {
      "cell_type": "code",
      "metadata": {
        "id": "M6aEyMRr5dEx",
        "outputId": "0d83604c-de84-4a49-e933-40393367714b",
        "colab": {
          "base_uri": "https://localhost:8080/",
          "height": 34
        }
      },
      "source": [
        "a = max_elem_index(np.array([[1, 2, 3], [1, 5, 6], [1, 8, 9]]))\n",
        "print(a)"
      ],
      "execution_count": null,
      "outputs": [
        {
          "output_type": "stream",
          "text": [
            "(2, 2)\n"
          ],
          "name": "stdout"
        }
      ]
    },
    {
      "cell_type": "markdown",
      "metadata": {
        "id": "3fazTNM_83xY"
      },
      "source": [
        "**Task 6. [1 points]**\n",
        "Implement a function that will take a matrix and insert a zeros between every column and row.\n",
        "\n",
        "Example: [[1, 2], [3, 4]] -> [[1, 0, 2], [0, 0, 0], [3, 0, 4]]"
      ]
    },
    {
      "cell_type": "code",
      "metadata": {
        "id": "973y-Ikw8-e3"
      },
      "source": [
        "def insert_zeros(arr):\n",
        "    if isinstance(arr, np.ndarray):\n",
        "        arr = np.dstack((arr, np.zeros_like(arr))).reshape(arr.shape[0], -1)\n",
        "        arr = arr.T\n",
        "        arr = np.dstack((arr, np.zeros_like(arr))).reshape(arr.shape[0], -1)\n",
        "        arr = arr.T\n",
        "        arr = arr[0:-1, 0:-1]\n",
        "        return arr\n",
        "    else:\n",
        "        return None"
      ],
      "execution_count": null,
      "outputs": []
    },
    {
      "cell_type": "code",
      "metadata": {
        "id": "742AFwWGyTIn",
        "outputId": "491be83f-ed3f-48f0-d2c5-f690a92ad46e",
        "colab": {
          "base_uri": "https://localhost:8080/",
          "height": 102
        }
      },
      "source": [
        "a = insert_zeros(np.array([[1, 2, 3], [1, 5, 6], [1, 8, 9]]))\n",
        "print(a)"
      ],
      "execution_count": null,
      "outputs": [
        {
          "output_type": "stream",
          "text": [
            "[[1 0 2 0 3]\n",
            " [0 0 0 0 0]\n",
            " [1 0 5 0 6]\n",
            " [0 0 0 0 0]\n",
            " [1 0 8 0 9]]\n"
          ],
          "name": "stdout"
        }
      ]
    },
    {
      "cell_type": "markdown",
      "metadata": {
        "id": "pgQyoHDDAKLI"
      },
      "source": [
        "**Task 7. [0.5 points]**\n",
        "Implement a function that returns those columns of matrix that have count of elements greater than k is greater than count of elements smaller than k.\n",
        "\n",
        "For example, ([[1,2],[3,4]], 2) -> [[2], [4]]."
      ]
    },
    {
      "cell_type": "code",
      "metadata": {
        "id": "B4gGDpX2ASuA"
      },
      "source": [
        "def k_columns(arr, k):\n",
        "    if isinstance(arr, np.ndarray):\n",
        "        c_max = (arr > k).sum(0)\n",
        "        c_min = (arr < k).sum(0)\n",
        "        index = np.where(c_max > c_min)[0]\n",
        "        arr = arr[:, index]\n",
        "        return arr\n",
        "    else:\n",
        "        return None"
      ],
      "execution_count": null,
      "outputs": []
    },
    {
      "cell_type": "code",
      "metadata": {
        "id": "XzTu93v1ywRs",
        "outputId": "d8355a40-9b33-4434-b72e-b2ab4898bd78",
        "colab": {
          "base_uri": "https://localhost:8080/",
          "height": 68
        }
      },
      "source": [
        "a = k_columns(np.array([[1, 2, 9], [1, 15, 6], [1, 8, 11]]), 8)\n",
        "print(a)"
      ],
      "execution_count": null,
      "outputs": [
        {
          "output_type": "stream",
          "text": [
            "[[ 9]\n",
            " [ 6]\n",
            " [11]]\n"
          ],
          "name": "stdout"
        }
      ]
    },
    {
      "cell_type": "markdown",
      "metadata": {
        "id": "tLxwalubMPcd"
      },
      "source": [
        "**Task 8. [0.5 points]**\n",
        "Implement a function that an integer matrix and an integer as input. It multiplies each element of the matrix by minimal factor that this element becomes divisible by the given number.\n",
        "\n",
        "For example, ([[5, 4, 36, 8]], 12) -> [[60, 12, 36, 24]]."
      ]
    },
    {
      "cell_type": "code",
      "metadata": {
        "id": "KywGACuzOBIk"
      },
      "source": [
        "def make_divisible(arr, k):\n",
        "    if isinstance(arr, np.ndarray) and isinstance(k, int):\n",
        "        return np.lcm(arr, k)\n",
        "    else:\n",
        "        return None"
      ],
      "execution_count": null,
      "outputs": []
    },
    {
      "cell_type": "code",
      "metadata": {
        "id": "_vieiiWdMXa5",
        "outputId": "e362eae7-75ab-4850-b886-d8c38474f304",
        "colab": {
          "base_uri": "https://localhost:8080/",
          "height": 34
        }
      },
      "source": [
        "a = make_divisible(np.array([[5, 4, 36, 8]]), 12)\n",
        "a"
      ],
      "execution_count": null,
      "outputs": [
        {
          "output_type": "execute_result",
          "data": {
            "text/plain": [
              "array([[60, 12, 36, 24]])"
            ]
          },
          "metadata": {
            "tags": []
          },
          "execution_count": 19
        }
      ]
    },
    {
      "cell_type": "markdown",
      "metadata": {
        "id": "f9oUmoOwPezs"
      },
      "source": [
        "**Task 9. [0.5 points]**\n",
        "Given a matrix, implement a function that transforms all elements greater than a_max into a_max. And all elements that are smaller that a_min into a_min."
      ]
    },
    {
      "cell_type": "code",
      "metadata": {
        "id": "07ZJlkOTP51h"
      },
      "source": [
        "def min_max_crop(arr, a_min, a_max):\n",
        "    if isinstance(arr, np.ndarray):\n",
        "        arr[arr < a_min] = a_min\n",
        "        arr[arr > a_max] = a_max\n",
        "        return arr\n",
        "    else:\n",
        "        return None"
      ],
      "execution_count": null,
      "outputs": []
    },
    {
      "cell_type": "code",
      "metadata": {
        "id": "8kcqRqv0Qcbg",
        "outputId": "9c0653ad-83f8-4d01-86e3-67068c425f81",
        "colab": {
          "base_uri": "https://localhost:8080/",
          "height": 68
        }
      },
      "source": [
        "a = min_max_crop(np.array([[1, 2, 3], [1, 5, 6], [1, 8, 9]]), 3, 6)\n",
        "a"
      ],
      "execution_count": null,
      "outputs": [
        {
          "output_type": "execute_result",
          "data": {
            "text/plain": [
              "array([[3, 3, 3],\n",
              "       [3, 5, 6],\n",
              "       [3, 6, 6]])"
            ]
          },
          "metadata": {
            "tags": []
          },
          "execution_count": 21
        }
      ]
    },
    {
      "cell_type": "markdown",
      "metadata": {
        "id": "VXjwjTvLTl_o"
      },
      "source": [
        "**Task 10. [0.5 points]**\n",
        " Implement a function that replaces nan elements with the mean of all non-nan elements. In case if all elements are nan the function does nothing."
      ]
    },
    {
      "cell_type": "code",
      "metadata": {
        "id": "GOi7sdCnTtfX"
      },
      "source": [
        "def replace_nans(arr):\n",
        "    if isinstance(arr, np.ndarray):\n",
        "        if len(arr[np.isnan(arr)].flatten()) == len(arr.flatten()):\n",
        "            return arr\n",
        "        else:\n",
        "            arr[np.isnan(arr)] = np.nanmean(arr)\n",
        "            return arr\n",
        "    else:\n",
        "        return None"
      ],
      "execution_count": null,
      "outputs": []
    },
    {
      "cell_type": "code",
      "metadata": {
        "id": "DYkp-IrJWrjw",
        "outputId": "cb19b1be-afb3-4083-fefe-404b45120f0a",
        "colab": {
          "base_uri": "https://localhost:8080/",
          "height": 51
        }
      },
      "source": [
        "a = replace_nans(np.array([[4, np.NaN], [np.NaN, np.NaN]]))\n",
        "a"
      ],
      "execution_count": null,
      "outputs": [
        {
          "output_type": "execute_result",
          "data": {
            "text/plain": [
              "array([[4., 4.],\n",
              "       [4., 4.]])"
            ]
          },
          "metadata": {
            "tags": []
          },
          "execution_count": 23
        }
      ]
    },
    {
      "cell_type": "markdown",
      "metadata": {
        "id": "e1Ogb5jJdA89"
      },
      "source": [
        "**Task 11. [0.5 points]**\n",
        "Implement a function that calculates:\n",
        "\n",
        "\n",
        "\n",
        "*   determinant\n",
        "*   trace\n",
        "*   eigenvalues\n",
        "*   Frobenius norm\n",
        "*   inverse matrix\n",
        "\n",
        "of a matrix given\n",
        "\n"
      ]
    },
    {
      "cell_type": "code",
      "metadata": {
        "id": "DzYLoZKFdYZL"
      },
      "source": [
        "def matrix_stats(arr):\n",
        "    if isinstance(arr, np.ndarray):\n",
        "        determinant = np.linalg.det(arr)\n",
        "        trace = arr.trace()\n",
        "        eigenvalues, _ = np.linalg.eig(arr)\n",
        "        frobenius_norm = np.linalg.norm(arr, 'fro')\n",
        "\n",
        "        try:\n",
        "            inverse = np.linalg.inv(arr)\n",
        "        except BaseException:\n",
        "            inverse = None\n",
        "        \n",
        "        return determinant, trace, eigenvalues, frobenius_norm, inverse\n",
        "    else:\n",
        "        return None"
      ],
      "execution_count": null,
      "outputs": []
    },
    {
      "cell_type": "code",
      "metadata": {
        "id": "3DpqVclMfp9e",
        "outputId": "337199ca-a187-481e-c841-c7144a494b2b",
        "colab": {
          "base_uri": "https://localhost:8080/",
          "height": 136
        }
      },
      "source": [
        "determinant, trace, eigenvalues, frobenius_norm, inverse = matrix_stats(np.array([[1, 2, 3], [1, 5, 6], [1, 8, 11]]))\n",
        "print(determinant)\n",
        "print(trace)\n",
        "print(eigenvalues)\n",
        "print(frobenius_norm)\n",
        "print(inverse)"
      ],
      "execution_count": null,
      "outputs": [
        {
          "output_type": "stream",
          "text": [
            "6.0\n",
            "17\n",
            "[15.89104669+0.j          0.55447666+0.26481453j  0.55447666-0.26481453j]\n",
            "16.186414056238647\n",
            "[[ 1.16666667  0.33333333 -0.5       ]\n",
            " [-0.83333333  1.33333333 -0.5       ]\n",
            " [ 0.5        -1.          0.5       ]]\n"
          ],
          "name": "stdout"
        }
      ]
    },
    {
      "cell_type": "markdown",
      "metadata": {
        "id": "WjRL9tC8zYhw"
      },
      "source": [
        "**Task 12. [0.5 points]**\n",
        "Implement a function that takes two lists of same length N, constructs a N by 3 matrix. First two columns are the elements of input lists and values in the third column are the result of bitwise xor of elements of the same row."
      ]
    },
    {
      "cell_type": "code",
      "metadata": {
        "id": "S8IL9mFNz4lC"
      },
      "source": [
        "def construct_xor_matrix(list_a, list_b):\n",
        "    if isinstance(list_a, list) and isinstance(list_b, list):\n",
        "        c = np.zeros((len(list_a), 3), dtype=int)\n",
        "        c[:, 2] = np.bitwise_xor(list_a, list_b)\n",
        "        c[:, 0] = np.array(list_a)\n",
        "        c[:, 1] = np.array(list_b)\n",
        "        return c\n",
        "    else:\n",
        "        return None"
      ],
      "execution_count": null,
      "outputs": []
    },
    {
      "cell_type": "code",
      "metadata": {
        "id": "CFd2-I0x0B2o",
        "outputId": "42875dbd-ade1-4637-914d-038573f9c891",
        "colab": {
          "base_uri": "https://localhost:8080/",
          "height": 85
        }
      },
      "source": [
        "a = [1, 3, 5, 7]\n",
        "b = [2, 4, 6, 8]\n",
        "c = construct_xor_matrix(a, b)\n",
        "c"
      ],
      "execution_count": null,
      "outputs": [
        {
          "output_type": "execute_result",
          "data": {
            "text/plain": [
              "array([[ 1,  2,  3],\n",
              "       [ 3,  4,  7],\n",
              "       [ 5,  6,  3],\n",
              "       [ 7,  8, 15]])"
            ]
          },
          "metadata": {
            "tags": []
          },
          "execution_count": 27
        }
      ]
    },
    {
      "cell_type": "markdown",
      "metadata": {
        "id": "ALqwrId7Woha"
      },
      "source": [
        "### **Part 2. Dataset analysis [8 points]**\n",
        "\n",
        "In this part we are going to analyze the \"Titanic dataset\". The main goal of this task is to describe the data.\n",
        "\n",
        "Here are some tips:\n",
        "\n",
        "\n",
        "\n",
        "*   use plots\n",
        "*   notice pecualrities in the data\n",
        "*   present verbal explanations, don't be too shy\n",
        "\n",
        "**Important** Please pay attention to your plots: titles, axis-labels and legends are necessary.\n",
        "\n",
        "These tasks involve numpy, pandas and matplotlib - very common python modules. In one task you may use scipy.\n",
        "\n",
        "**Input data**\n",
        "\n",
        "This task uses 2 files:\n",
        "\n",
        "*   passengers_record.csv contains some general information on passengers (name, class, age, etc.)\n",
        "*   survival_info.csv contains binary labels whether passenger survived or not\n",
        "\n"
      ]
    },
    {
      "cell_type": "code",
      "metadata": {
        "id": "zQCsFkI3Wniy"
      },
      "source": [
        "import pandas as pd\n",
        "import numpy as np\n",
        "import matplotlib.pyplot as plt\n",
        "import seaborn as sns\n",
        "%matplotlib inline"
      ],
      "execution_count": null,
      "outputs": []
    },
    {
      "cell_type": "markdown",
      "metadata": {
        "id": "u6oAUvZDXijT"
      },
      "source": [
        "**Task 1. [1 point]**\n",
        "\n",
        "Read these files and join them into single dataset (use passenger_id as join key). Then provide some description of the dataset:\n",
        "\n",
        "*    What are age/gender/class distributions and their averages? How many people belong to each group?\n",
        "*    Find the oldest/youngest passangers in every class\n",
        "\n",
        "*    Compare survival rates between classes/age groups/genders (configuration of age groups is up to you)"
      ]
    },
    {
      "cell_type": "code",
      "metadata": {
        "id": "t7K_9iUja0AZ",
        "outputId": "c309f9a2-8a7c-42e2-9d9c-8b2b00974d80",
        "colab": {
          "base_uri": "https://localhost:8080/",
          "height": 34
        }
      },
      "source": [
        "from google.colab import drive\n",
        "drive.mount('/gdrive', force_remount=True)"
      ],
      "execution_count": null,
      "outputs": [
        {
          "output_type": "stream",
          "text": [
            "Mounted at /gdrive\n"
          ],
          "name": "stdout"
        }
      ]
    },
    {
      "cell_type": "code",
      "metadata": {
        "id": "IcSM7PMPXw4C",
        "outputId": "eae2749b-e60a-46ed-a2dd-3c634301efa6",
        "colab": {
          "base_uri": "https://localhost:8080/",
          "height": 34
        }
      },
      "source": [
        "#read dataframe from html\n",
        "passengers_record = pd.read_html(\"/gdrive/My Drive/dataset/msu/passengers_record.csv\")\n",
        "passengers_record = passengers_record[0]\n",
        "\n",
        "survival_info = pd.read_html(\"/gdrive/My Drive/dataset/msu/survival_info.csv\")\n",
        "survival_info = survival_info[0]\n",
        "\n",
        "if passengers_record.shape == (891, 12) and survival_info.shape == (891, 3):\n",
        "    print(\"Setup Complete!\")"
      ],
      "execution_count": null,
      "outputs": [
        {
          "output_type": "stream",
          "text": [
            "Setup Complete!\n"
          ],
          "name": "stdout"
        }
      ]
    },
    {
      "cell_type": "code",
      "metadata": {
        "id": "1OoaW3IngHOY",
        "outputId": "090a8a28-7a4e-4d31-d2df-278480663d5b",
        "colab": {
          "base_uri": "https://localhost:8080/",
          "height": 204
        }
      },
      "source": [
        "passengers_record.head()"
      ],
      "execution_count": null,
      "outputs": [
        {
          "output_type": "execute_result",
          "data": {
            "text/html": [
              "<div>\n",
              "<style scoped>\n",
              "    .dataframe tbody tr th:only-of-type {\n",
              "        vertical-align: middle;\n",
              "    }\n",
              "\n",
              "    .dataframe tbody tr th {\n",
              "        vertical-align: top;\n",
              "    }\n",
              "\n",
              "    .dataframe thead th {\n",
              "        text-align: right;\n",
              "    }\n",
              "</style>\n",
              "<table border=\"1\" class=\"dataframe\">\n",
              "  <thead>\n",
              "    <tr style=\"text-align: right;\">\n",
              "      <th></th>\n",
              "      <th>Unnamed: 0</th>\n",
              "      <th>PassengerId</th>\n",
              "      <th>Pclass</th>\n",
              "      <th>Name</th>\n",
              "      <th>Sex</th>\n",
              "      <th>Age</th>\n",
              "      <th>SibSp</th>\n",
              "      <th>Parch</th>\n",
              "      <th>Ticket</th>\n",
              "      <th>Fare</th>\n",
              "      <th>Cabin</th>\n",
              "      <th>Embarked</th>\n",
              "    </tr>\n",
              "  </thead>\n",
              "  <tbody>\n",
              "    <tr>\n",
              "      <th>0</th>\n",
              "      <td>NaN</td>\n",
              "      <td>1</td>\n",
              "      <td>3</td>\n",
              "      <td>Braund, Mr. Owen Harris</td>\n",
              "      <td>male</td>\n",
              "      <td>22.0</td>\n",
              "      <td>1</td>\n",
              "      <td>0</td>\n",
              "      <td>A/5 21171</td>\n",
              "      <td>7.2500</td>\n",
              "      <td>NaN</td>\n",
              "      <td>S</td>\n",
              "    </tr>\n",
              "    <tr>\n",
              "      <th>1</th>\n",
              "      <td>NaN</td>\n",
              "      <td>2</td>\n",
              "      <td>1</td>\n",
              "      <td>Cumings, Mrs. John Bradley (Florence Briggs Th...</td>\n",
              "      <td>female</td>\n",
              "      <td>38.0</td>\n",
              "      <td>1</td>\n",
              "      <td>0</td>\n",
              "      <td>PC 17599</td>\n",
              "      <td>71.2833</td>\n",
              "      <td>C85</td>\n",
              "      <td>C</td>\n",
              "    </tr>\n",
              "    <tr>\n",
              "      <th>2</th>\n",
              "      <td>NaN</td>\n",
              "      <td>3</td>\n",
              "      <td>3</td>\n",
              "      <td>Heikkinen, Miss. Laina</td>\n",
              "      <td>female</td>\n",
              "      <td>26.0</td>\n",
              "      <td>0</td>\n",
              "      <td>0</td>\n",
              "      <td>STON/O2. 3101282</td>\n",
              "      <td>7.9250</td>\n",
              "      <td>NaN</td>\n",
              "      <td>S</td>\n",
              "    </tr>\n",
              "    <tr>\n",
              "      <th>3</th>\n",
              "      <td>NaN</td>\n",
              "      <td>4</td>\n",
              "      <td>1</td>\n",
              "      <td>Futrelle, Mrs. Jacques Heath (Lily May Peel)</td>\n",
              "      <td>female</td>\n",
              "      <td>35.0</td>\n",
              "      <td>1</td>\n",
              "      <td>0</td>\n",
              "      <td>113803</td>\n",
              "      <td>53.1000</td>\n",
              "      <td>C123</td>\n",
              "      <td>S</td>\n",
              "    </tr>\n",
              "    <tr>\n",
              "      <th>4</th>\n",
              "      <td>NaN</td>\n",
              "      <td>5</td>\n",
              "      <td>3</td>\n",
              "      <td>Allen, Mr. William Henry</td>\n",
              "      <td>male</td>\n",
              "      <td>35.0</td>\n",
              "      <td>0</td>\n",
              "      <td>0</td>\n",
              "      <td>373450</td>\n",
              "      <td>8.0500</td>\n",
              "      <td>NaN</td>\n",
              "      <td>S</td>\n",
              "    </tr>\n",
              "  </tbody>\n",
              "</table>\n",
              "</div>"
            ],
            "text/plain": [
              "   Unnamed: 0  PassengerId  Pclass  ...     Fare Cabin  Embarked\n",
              "0         NaN            1       3  ...   7.2500   NaN         S\n",
              "1         NaN            2       1  ...  71.2833   C85         C\n",
              "2         NaN            3       3  ...   7.9250   NaN         S\n",
              "3         NaN            4       1  ...  53.1000  C123         S\n",
              "4         NaN            5       3  ...   8.0500   NaN         S\n",
              "\n",
              "[5 rows x 12 columns]"
            ]
          },
          "metadata": {
            "tags": []
          },
          "execution_count": 4
        }
      ]
    },
    {
      "cell_type": "code",
      "metadata": {
        "id": "Gbx0jzIHgSGr",
        "outputId": "2f8f84bb-ece2-4638-a0c1-a1d1dc870fec",
        "colab": {
          "base_uri": "https://localhost:8080/",
          "height": 204
        }
      },
      "source": [
        "survival_info.head()"
      ],
      "execution_count": null,
      "outputs": [
        {
          "output_type": "execute_result",
          "data": {
            "text/html": [
              "<div>\n",
              "<style scoped>\n",
              "    .dataframe tbody tr th:only-of-type {\n",
              "        vertical-align: middle;\n",
              "    }\n",
              "\n",
              "    .dataframe tbody tr th {\n",
              "        vertical-align: top;\n",
              "    }\n",
              "\n",
              "    .dataframe thead th {\n",
              "        text-align: right;\n",
              "    }\n",
              "</style>\n",
              "<table border=\"1\" class=\"dataframe\">\n",
              "  <thead>\n",
              "    <tr style=\"text-align: right;\">\n",
              "      <th></th>\n",
              "      <th>Unnamed: 0</th>\n",
              "      <th>PassengerId</th>\n",
              "      <th>Survived</th>\n",
              "    </tr>\n",
              "  </thead>\n",
              "  <tbody>\n",
              "    <tr>\n",
              "      <th>0</th>\n",
              "      <td>NaN</td>\n",
              "      <td>1</td>\n",
              "      <td>0</td>\n",
              "    </tr>\n",
              "    <tr>\n",
              "      <th>1</th>\n",
              "      <td>NaN</td>\n",
              "      <td>2</td>\n",
              "      <td>1</td>\n",
              "    </tr>\n",
              "    <tr>\n",
              "      <th>2</th>\n",
              "      <td>NaN</td>\n",
              "      <td>3</td>\n",
              "      <td>1</td>\n",
              "    </tr>\n",
              "    <tr>\n",
              "      <th>3</th>\n",
              "      <td>NaN</td>\n",
              "      <td>4</td>\n",
              "      <td>1</td>\n",
              "    </tr>\n",
              "    <tr>\n",
              "      <th>4</th>\n",
              "      <td>NaN</td>\n",
              "      <td>5</td>\n",
              "      <td>0</td>\n",
              "    </tr>\n",
              "  </tbody>\n",
              "</table>\n",
              "</div>"
            ],
            "text/plain": [
              "   Unnamed: 0  PassengerId  Survived\n",
              "0         NaN            1         0\n",
              "1         NaN            2         1\n",
              "2         NaN            3         1\n",
              "3         NaN            4         1\n",
              "4         NaN            5         0"
            ]
          },
          "metadata": {
            "tags": []
          },
          "execution_count": 5
        }
      ]
    },
    {
      "cell_type": "code",
      "metadata": {
        "id": "6IJrU73wgao0",
        "outputId": "e8a25855-7510-4371-cdda-dd2aa69a6e80",
        "colab": {
          "base_uri": "https://localhost:8080/",
          "height": 272
        }
      },
      "source": [
        "main_df = pd.merge(passengers_record, survival_info, left_on=['PassengerId'], right_on=['PassengerId'], how='inner')\n",
        "main_df.head()"
      ],
      "execution_count": null,
      "outputs": [
        {
          "output_type": "execute_result",
          "data": {
            "text/html": [
              "<div>\n",
              "<style scoped>\n",
              "    .dataframe tbody tr th:only-of-type {\n",
              "        vertical-align: middle;\n",
              "    }\n",
              "\n",
              "    .dataframe tbody tr th {\n",
              "        vertical-align: top;\n",
              "    }\n",
              "\n",
              "    .dataframe thead th {\n",
              "        text-align: right;\n",
              "    }\n",
              "</style>\n",
              "<table border=\"1\" class=\"dataframe\">\n",
              "  <thead>\n",
              "    <tr style=\"text-align: right;\">\n",
              "      <th></th>\n",
              "      <th>Unnamed: 0_x</th>\n",
              "      <th>PassengerId</th>\n",
              "      <th>Pclass</th>\n",
              "      <th>Name</th>\n",
              "      <th>Sex</th>\n",
              "      <th>Age</th>\n",
              "      <th>SibSp</th>\n",
              "      <th>Parch</th>\n",
              "      <th>Ticket</th>\n",
              "      <th>Fare</th>\n",
              "      <th>Cabin</th>\n",
              "      <th>Embarked</th>\n",
              "      <th>Unnamed: 0_y</th>\n",
              "      <th>Survived</th>\n",
              "    </tr>\n",
              "  </thead>\n",
              "  <tbody>\n",
              "    <tr>\n",
              "      <th>0</th>\n",
              "      <td>NaN</td>\n",
              "      <td>1</td>\n",
              "      <td>3</td>\n",
              "      <td>Braund, Mr. Owen Harris</td>\n",
              "      <td>male</td>\n",
              "      <td>22.0</td>\n",
              "      <td>1</td>\n",
              "      <td>0</td>\n",
              "      <td>A/5 21171</td>\n",
              "      <td>7.2500</td>\n",
              "      <td>NaN</td>\n",
              "      <td>S</td>\n",
              "      <td>NaN</td>\n",
              "      <td>0</td>\n",
              "    </tr>\n",
              "    <tr>\n",
              "      <th>1</th>\n",
              "      <td>NaN</td>\n",
              "      <td>2</td>\n",
              "      <td>1</td>\n",
              "      <td>Cumings, Mrs. John Bradley (Florence Briggs Th...</td>\n",
              "      <td>female</td>\n",
              "      <td>38.0</td>\n",
              "      <td>1</td>\n",
              "      <td>0</td>\n",
              "      <td>PC 17599</td>\n",
              "      <td>71.2833</td>\n",
              "      <td>C85</td>\n",
              "      <td>C</td>\n",
              "      <td>NaN</td>\n",
              "      <td>1</td>\n",
              "    </tr>\n",
              "    <tr>\n",
              "      <th>2</th>\n",
              "      <td>NaN</td>\n",
              "      <td>3</td>\n",
              "      <td>3</td>\n",
              "      <td>Heikkinen, Miss. Laina</td>\n",
              "      <td>female</td>\n",
              "      <td>26.0</td>\n",
              "      <td>0</td>\n",
              "      <td>0</td>\n",
              "      <td>STON/O2. 3101282</td>\n",
              "      <td>7.9250</td>\n",
              "      <td>NaN</td>\n",
              "      <td>S</td>\n",
              "      <td>NaN</td>\n",
              "      <td>1</td>\n",
              "    </tr>\n",
              "    <tr>\n",
              "      <th>3</th>\n",
              "      <td>NaN</td>\n",
              "      <td>4</td>\n",
              "      <td>1</td>\n",
              "      <td>Futrelle, Mrs. Jacques Heath (Lily May Peel)</td>\n",
              "      <td>female</td>\n",
              "      <td>35.0</td>\n",
              "      <td>1</td>\n",
              "      <td>0</td>\n",
              "      <td>113803</td>\n",
              "      <td>53.1000</td>\n",
              "      <td>C123</td>\n",
              "      <td>S</td>\n",
              "      <td>NaN</td>\n",
              "      <td>1</td>\n",
              "    </tr>\n",
              "    <tr>\n",
              "      <th>4</th>\n",
              "      <td>NaN</td>\n",
              "      <td>5</td>\n",
              "      <td>3</td>\n",
              "      <td>Allen, Mr. William Henry</td>\n",
              "      <td>male</td>\n",
              "      <td>35.0</td>\n",
              "      <td>0</td>\n",
              "      <td>0</td>\n",
              "      <td>373450</td>\n",
              "      <td>8.0500</td>\n",
              "      <td>NaN</td>\n",
              "      <td>S</td>\n",
              "      <td>NaN</td>\n",
              "      <td>0</td>\n",
              "    </tr>\n",
              "  </tbody>\n",
              "</table>\n",
              "</div>"
            ],
            "text/plain": [
              "   Unnamed: 0_x  PassengerId  Pclass  ... Embarked Unnamed: 0_y  Survived\n",
              "0           NaN            1       3  ...        S          NaN         0\n",
              "1           NaN            2       1  ...        C          NaN         1\n",
              "2           NaN            3       3  ...        S          NaN         1\n",
              "3           NaN            4       1  ...        S          NaN         1\n",
              "4           NaN            5       3  ...        S          NaN         0\n",
              "\n",
              "[5 rows x 14 columns]"
            ]
          },
          "metadata": {
            "tags": []
          },
          "execution_count": 6
        }
      ]
    },
    {
      "cell_type": "code",
      "metadata": {
        "id": "-k0T3YeVqC22",
        "outputId": "e8a6f7a5-25dd-4536-a7be-022810fb5628",
        "colab": {
          "base_uri": "https://localhost:8080/",
          "height": 638
        }
      },
      "source": [
        "import missingno as msno\n",
        "#Visualizing missing values in a dataframe main_df\n",
        "msno.bar(main_df)"
      ],
      "execution_count": null,
      "outputs": [
        {
          "output_type": "execute_result",
          "data": {
            "text/plain": [
              "<matplotlib.axes._subplots.AxesSubplot at 0x7fa827e3dcf8>"
            ]
          },
          "metadata": {
            "tags": []
          },
          "execution_count": 7
        },
        {
          "output_type": "display_data",
          "data": {
            "image/png": "[encoded data removed]",
            "text/plain": [
              "<Figure size 1728x720 with 3 Axes>"
            ]
          },
          "metadata": {
            "tags": [],
            "needs_background": "light"
          }
        }
      ]
    },
    {
      "cell_type": "code",
      "metadata": {
        "id": "mb9N8MA6prGb",
        "outputId": "ad41bb72-1633-446a-e2ed-f3af0d022c48",
        "colab": {
          "base_uri": "https://localhost:8080/",
          "height": 516
        }
      },
      "source": [
        "plt.figure(figsize=(10, 8))\n",
        "plt.title(\"Sex\")\n",
        "sns.barplot(x=main_df['Sex'].value_counts().index, y=main_df['Sex'].value_counts())"
      ],
      "execution_count": null,
      "outputs": [
        {
          "output_type": "execute_result",
          "data": {
            "text/plain": [
              "<matplotlib.axes._subplots.AxesSubplot at 0x7fa8291c3f28>"
            ]
          },
          "metadata": {
            "tags": []
          },
          "execution_count": 8
        },
        {
          "output_type": "display_data",
          "data": {
            "image/png": "[encoded data removed]",
            "text/plain": [
              "<Figure size 720x576 with 1 Axes>"
            ]
          },
          "metadata": {
            "tags": [],
            "needs_background": "light"
          }
        }
      ]
    },
    {
      "cell_type": "code",
      "metadata": {
        "id": "KpBboAjDqUye",
        "outputId": "e16ea826-b1bc-4cbb-88d5-3d412fccca9b",
        "colab": {
          "base_uri": "https://localhost:8080/",
          "height": 584
        }
      },
      "source": [
        "plt.figure(figsize=(10, 8))\n",
        "plt.title(\"Age distribution (female and male)\")\n",
        "sns.distplot(main_df['Age'], color=\"orange\")"
      ],
      "execution_count": null,
      "outputs": [
        {
          "output_type": "stream",
          "text": [
            "/usr/local/lib/python3.6/dist-packages/seaborn/distributions.py:2551: FutureWarning: `distplot` is a deprecated function and will be removed in a future version. Please adapt your code to use either `displot` (a figure-level function with similar flexibility) or `histplot` (an axes-level function for histograms).\n",
            "  warnings.warn(msg, FutureWarning)\n"
          ],
          "name": "stderr"
        },
        {
          "output_type": "execute_result",
          "data": {
            "text/plain": [
              "<matplotlib.axes._subplots.AxesSubplot at 0x7fa8291cbbe0>"
            ]
          },
          "metadata": {
            "tags": []
          },
          "execution_count": 9
        },
        {
          "output_type": "display_data",
          "data": {
            "image/png": "[encoded data removed]",
            "text/plain": [
              "<Figure size 720x576 with 1 Axes>"
            ]
          },
          "metadata": {
            "tags": [],
            "needs_background": "light"
          }
        }
      ]
    },
    {
      "cell_type": "code",
      "metadata": {
        "id": "j6PBvttTqcZZ",
        "outputId": "82727915-9a3e-4eb0-c546-0499e917d598",
        "colab": {
          "base_uri": "https://localhost:8080/",
          "height": 170
        }
      },
      "source": [
        "main_df['Age'].describe()"
      ],
      "execution_count": null,
      "outputs": [
        {
          "output_type": "execute_result",
          "data": {
            "text/plain": [
              "count    714.000000\n",
              "mean      29.699118\n",
              "std       14.526497\n",
              "min        0.420000\n",
              "25%       20.125000\n",
              "50%       28.000000\n",
              "75%       38.000000\n",
              "max       80.000000\n",
              "Name: Age, dtype: float64"
            ]
          },
          "metadata": {
            "tags": []
          },
          "execution_count": 10
        }
      ]
    },
    {
      "cell_type": "code",
      "metadata": {
        "id": "SHTl8eV9qOTs",
        "outputId": "794cf0a1-aa88-4573-a437-120d1dfa5146",
        "colab": {
          "base_uri": "https://localhost:8080/",
          "height": 584
        }
      },
      "source": [
        "plt.figure(figsize=(10, 8))\n",
        "plt.title(\"Age distribution (male)\")\n",
        "sns.distplot(main_df[main_df['Sex'] == 'male']['Age'], color=\"red\")"
      ],
      "execution_count": null,
      "outputs": [
        {
          "output_type": "stream",
          "text": [
            "/usr/local/lib/python3.6/dist-packages/seaborn/distributions.py:2551: FutureWarning: `distplot` is a deprecated function and will be removed in a future version. Please adapt your code to use either `displot` (a figure-level function with similar flexibility) or `histplot` (an axes-level function for histograms).\n",
            "  warnings.warn(msg, FutureWarning)\n"
          ],
          "name": "stderr"
        },
        {
          "output_type": "execute_result",
          "data": {
            "text/plain": [
              "<matplotlib.axes._subplots.AxesSubplot at 0x7fa8291700b8>"
            ]
          },
          "metadata": {
            "tags": []
          },
          "execution_count": 11
        },
        {
          "output_type": "display_data",
          "data": {
            "image/png": "[encoded data removed]",
            "text/plain": [
              "<Figure size 720x576 with 1 Axes>"
            ]
          },
          "metadata": {
            "tags": [],
            "needs_background": "light"
          }
        }
      ]
    },
    {
      "cell_type": "code",
      "metadata": {
        "id": "7Ns4aOJkp1Wr",
        "outputId": "005a509d-47ab-440e-a8de-b322efeb190f",
        "colab": {
          "base_uri": "https://localhost:8080/",
          "height": 170
        }
      },
      "source": [
        "main_df[main_df['Sex'] == 'male']['Age'].describe()"
      ],
      "execution_count": null,
      "outputs": [
        {
          "output_type": "execute_result",
          "data": {
            "text/plain": [
              "count    453.000000\n",
              "mean      30.726645\n",
              "std       14.678201\n",
              "min        0.420000\n",
              "25%       21.000000\n",
              "50%       29.000000\n",
              "75%       39.000000\n",
              "max       80.000000\n",
              "Name: Age, dtype: float64"
            ]
          },
          "metadata": {
            "tags": []
          },
          "execution_count": 12
        }
      ]
    },
    {
      "cell_type": "code",
      "metadata": {
        "id": "ca-1UmI4p8Up",
        "outputId": "856d8ed8-7587-469a-8f3f-88b298d66a68",
        "colab": {
          "base_uri": "https://localhost:8080/",
          "height": 584
        }
      },
      "source": [
        "plt.figure(figsize=(10, 8))\n",
        "plt.title(\"Age distribution (female)\")\n",
        "sns.distplot(main_df[main_df['Sex'] == 'female']['Age'], color=\"blue\")"
      ],
      "execution_count": null,
      "outputs": [
        {
          "output_type": "stream",
          "text": [
            "/usr/local/lib/python3.6/dist-packages/seaborn/distributions.py:2551: FutureWarning: `distplot` is a deprecated function and will be removed in a future version. Please adapt your code to use either `displot` (a figure-level function with similar flexibility) or `histplot` (an axes-level function for histograms).\n",
            "  warnings.warn(msg, FutureWarning)\n"
          ],
          "name": "stderr"
        },
        {
          "output_type": "execute_result",
          "data": {
            "text/plain": [
              "<matplotlib.axes._subplots.AxesSubplot at 0x7fa8291702e8>"
            ]
          },
          "metadata": {
            "tags": []
          },
          "execution_count": 13
        },
        {
          "output_type": "display_data",
          "data": {
            "image/png": "[encoded data removed]",
            "text/plain": [
              "<Figure size 720x576 with 1 Axes>"
            ]
          },
          "metadata": {
            "tags": [],
            "needs_background": "light"
          }
        }
      ]
    },
    {
      "cell_type": "code",
      "metadata": {
        "id": "o3e6sSzqp-1f",
        "outputId": "ac7eae72-3ad7-4255-f787-b801c63a44af",
        "colab": {
          "base_uri": "https://localhost:8080/",
          "height": 170
        }
      },
      "source": [
        "main_df[main_df['Sex'] == 'male']['Age'].describe()"
      ],
      "execution_count": null,
      "outputs": [
        {
          "output_type": "execute_result",
          "data": {
            "text/plain": [
              "count    453.000000\n",
              "mean      30.726645\n",
              "std       14.678201\n",
              "min        0.420000\n",
              "25%       21.000000\n",
              "50%       29.000000\n",
              "75%       39.000000\n",
              "max       80.000000\n",
              "Name: Age, dtype: float64"
            ]
          },
          "metadata": {
            "tags": []
          },
          "execution_count": 14
        }
      ]
    },
    {
      "cell_type": "code",
      "metadata": {
        "id": "V7QBirJTtxqb",
        "outputId": "30e078a0-1b80-4bdd-e2a3-79bc54b2217d",
        "colab": {
          "base_uri": "https://localhost:8080/",
          "height": 170
        }
      },
      "source": [
        "main_df[main_df['Pclass'] == 1]['Age'].describe()"
      ],
      "execution_count": null,
      "outputs": [
        {
          "output_type": "execute_result",
          "data": {
            "text/plain": [
              "count    186.000000\n",
              "mean      38.233441\n",
              "std       14.802856\n",
              "min        0.920000\n",
              "25%       27.000000\n",
              "50%       37.000000\n",
              "75%       49.000000\n",
              "max       80.000000\n",
              "Name: Age, dtype: float64"
            ]
          },
          "metadata": {
            "tags": []
          },
          "execution_count": 15
        }
      ]
    },
    {
      "cell_type": "code",
      "metadata": {
        "id": "eczPZk1DuCIx",
        "outputId": "73e44862-21b1-41f0-8b81-204904c94626",
        "colab": {
          "base_uri": "https://localhost:8080/",
          "height": 170
        }
      },
      "source": [
        "main_df[main_df['Pclass'] == 2]['Age'].describe()"
      ],
      "execution_count": null,
      "outputs": [
        {
          "output_type": "execute_result",
          "data": {
            "text/plain": [
              "count    173.000000\n",
              "mean      29.877630\n",
              "std       14.001077\n",
              "min        0.670000\n",
              "25%       23.000000\n",
              "50%       29.000000\n",
              "75%       36.000000\n",
              "max       70.000000\n",
              "Name: Age, dtype: float64"
            ]
          },
          "metadata": {
            "tags": []
          },
          "execution_count": 16
        }
      ]
    },
    {
      "cell_type": "code",
      "metadata": {
        "id": "RyuKWMJvuDx1",
        "outputId": "c0fe4310-539d-43e4-f0ab-550f39d90eaf",
        "colab": {
          "base_uri": "https://localhost:8080/",
          "height": 170
        }
      },
      "source": [
        "main_df[main_df['Pclass'] == 3]['Age'].describe()"
      ],
      "execution_count": null,
      "outputs": [
        {
          "output_type": "execute_result",
          "data": {
            "text/plain": [
              "count    355.000000\n",
              "mean      25.140620\n",
              "std       12.495398\n",
              "min        0.420000\n",
              "25%       18.000000\n",
              "50%       24.000000\n",
              "75%       32.000000\n",
              "max       74.000000\n",
              "Name: Age, dtype: float64"
            ]
          },
          "metadata": {
            "tags": []
          },
          "execution_count": 17
        }
      ]
    },
    {
      "cell_type": "markdown",
      "metadata": {
        "id": "qYh1yT_i06Co"
      },
      "source": [
        "**Task 2. [2 points]**\n",
        "\n",
        "Compare average age per class: can we consider these values to be equal? Use visualisation to prove your point.\n",
        "\n",
        "Can we answer this question using the T-test? Why? Here you may use scipy.stats."
      ]
    },
    {
      "cell_type": "code",
      "metadata": {
        "id": "vtR7-S8Ei9O-",
        "outputId": "924d8e76-e266-446e-acf0-cf3e442fc1fd",
        "colab": {
          "base_uri": "https://localhost:8080/",
          "height": 516
        }
      },
      "source": [
        "plt.figure(figsize=(10, 8))\n",
        "plt.title(\"Class\")\n",
        "sns.barplot(x=main_df['Pclass'].value_counts().index, y=main_df['Pclass'].value_counts())"
      ],
      "execution_count": null,
      "outputs": [
        {
          "output_type": "execute_result",
          "data": {
            "text/plain": [
              "<matplotlib.axes._subplots.AxesSubplot at 0x7fa8291992e8>"
            ]
          },
          "metadata": {
            "tags": []
          },
          "execution_count": 18
        },
        {
          "output_type": "display_data",
          "data": {
            "image/png": "[encoded data removed]",
            "text/plain": [
              "<Figure size 720x576 with 1 Axes>"
            ]
          },
          "metadata": {
            "tags": [],
            "needs_background": "light"
          }
        }
      ]
    },
    {
      "cell_type": "markdown",
      "metadata": {
        "id": "NQ6GuLfKmKrc"
      },
      "source": [
        "The number of people from the 3rd grade is more than 2 times higher than the 1st and 2nd grades."
      ]
    },
    {
      "cell_type": "code",
      "metadata": {
        "id": "Yv0i8WZNmLWX",
        "outputId": "38b28069-0d51-4985-d1a1-3725507ab1bb",
        "colab": {
          "base_uri": "https://localhost:8080/",
          "height": 584
        }
      },
      "source": [
        "plt.figure(figsize=(10, 8))\n",
        "plt.title(\"Age distribution (class 1)\")\n",
        "sns.distplot(main_df[main_df['Pclass'] == 1]['Age'], color=\"blue\")"
      ],
      "execution_count": null,
      "outputs": [
        {
          "output_type": "stream",
          "text": [
            "/usr/local/lib/python3.6/dist-packages/seaborn/distributions.py:2551: FutureWarning: `distplot` is a deprecated function and will be removed in a future version. Please adapt your code to use either `displot` (a figure-level function with similar flexibility) or `histplot` (an axes-level function for histograms).\n",
            "  warnings.warn(msg, FutureWarning)\n"
          ],
          "name": "stderr"
        },
        {
          "output_type": "execute_result",
          "data": {
            "text/plain": [
              "<matplotlib.axes._subplots.AxesSubplot at 0x7fa827d9cda0>"
            ]
          },
          "metadata": {
            "tags": []
          },
          "execution_count": 19
        },
        {
          "output_type": "display_data",
          "data": {
            "image/png": "[encoded data removed]",
            "text/plain": [
              "<Figure size 720x576 with 1 Axes>"
            ]
          },
          "metadata": {
            "tags": [],
            "needs_background": "light"
          }
        }
      ]
    },
    {
      "cell_type": "code",
      "metadata": {
        "id": "LLKBIh-Fm9vv",
        "outputId": "2d86c9cd-47b0-48a3-992b-4ada88c25e35",
        "colab": {
          "base_uri": "https://localhost:8080/",
          "height": 170
        }
      },
      "source": [
        "main_df[main_df['Pclass'] == 1]['Age'].describe()"
      ],
      "execution_count": null,
      "outputs": [
        {
          "output_type": "execute_result",
          "data": {
            "text/plain": [
              "count    186.000000\n",
              "mean      38.233441\n",
              "std       14.802856\n",
              "min        0.920000\n",
              "25%       27.000000\n",
              "50%       37.000000\n",
              "75%       49.000000\n",
              "max       80.000000\n",
              "Name: Age, dtype: float64"
            ]
          },
          "metadata": {
            "tags": []
          },
          "execution_count": 20
        }
      ]
    },
    {
      "cell_type": "markdown",
      "metadata": {
        "id": "c2hAOw0onZ3V"
      },
      "source": [
        "The age (class 1) distribution density is close to normal. Average age is about 37 years. Minimum 11 months and the oldest 80 years old"
      ]
    },
    {
      "cell_type": "code",
      "metadata": {
        "id": "HcoU98wznlRm",
        "outputId": "50789410-90aa-499c-e1b9-a7ef8e6aa9b9",
        "colab": {
          "base_uri": "https://localhost:8080/",
          "height": 584
        }
      },
      "source": [
        "plt.figure(figsize=(10, 8))\n",
        "plt.title(\"Age distribution (class 2)\")\n",
        "sns.distplot(main_df[main_df['Pclass'] == 2]['Age'], color=\"orange\")"
      ],
      "execution_count": null,
      "outputs": [
        {
          "output_type": "stream",
          "text": [
            "/usr/local/lib/python3.6/dist-packages/seaborn/distributions.py:2551: FutureWarning: `distplot` is a deprecated function and will be removed in a future version. Please adapt your code to use either `displot` (a figure-level function with similar flexibility) or `histplot` (an axes-level function for histograms).\n",
            "  warnings.warn(msg, FutureWarning)\n"
          ],
          "name": "stderr"
        },
        {
          "output_type": "execute_result",
          "data": {
            "text/plain": [
              "<matplotlib.axes._subplots.AxesSubplot at 0x7fa824d52cc0>"
            ]
          },
          "metadata": {
            "tags": []
          },
          "execution_count": 21
        },
        {
          "output_type": "display_data",
          "data": {
            "image/png": "[encoded data removed]",
            "text/plain": [
              "<Figure size 720x576 with 1 Axes>"
            ]
          },
          "metadata": {
            "tags": [],
            "needs_background": "light"
          }
        }
      ]
    },
    {
      "cell_type": "code",
      "metadata": {
        "id": "0eUdpkzunxuN",
        "outputId": "b58caa2e-e4c3-4e0a-bc2f-0c5d24bb1fc6",
        "colab": {
          "base_uri": "https://localhost:8080/",
          "height": 170
        }
      },
      "source": [
        "main_df[main_df['Pclass'] == 2]['Age'].describe()"
      ],
      "execution_count": null,
      "outputs": [
        {
          "output_type": "execute_result",
          "data": {
            "text/plain": [
              "count    173.000000\n",
              "mean      29.877630\n",
              "std       14.001077\n",
              "min        0.670000\n",
              "25%       23.000000\n",
              "50%       29.000000\n",
              "75%       36.000000\n",
              "max       70.000000\n",
              "Name: Age, dtype: float64"
            ]
          },
          "metadata": {
            "tags": []
          },
          "execution_count": 22
        }
      ]
    },
    {
      "cell_type": "markdown",
      "metadata": {
        "id": "r8whPdcRnv7a"
      },
      "source": [
        "The age (class 2) distribution density is close to normal. Average age is about 29 years. Minimum 7 months and the oldest 70 years old"
      ]
    },
    {
      "cell_type": "code",
      "metadata": {
        "id": "-SEq8hHLn7Xq",
        "outputId": "d3816833-62cf-4d2b-802f-d521f1bef7e9",
        "colab": {
          "base_uri": "https://localhost:8080/",
          "height": 584
        }
      },
      "source": [
        "plt.figure(figsize=(10, 8))\n",
        "plt.title(\"Age distribution (class 3)\")\n",
        "sns.distplot(main_df[main_df['Pclass'] == 3]['Age'], color=\"green\")"
      ],
      "execution_count": null,
      "outputs": [
        {
          "output_type": "stream",
          "text": [
            "/usr/local/lib/python3.6/dist-packages/seaborn/distributions.py:2551: FutureWarning: `distplot` is a deprecated function and will be removed in a future version. Please adapt your code to use either `displot` (a figure-level function with similar flexibility) or `histplot` (an axes-level function for histograms).\n",
            "  warnings.warn(msg, FutureWarning)\n"
          ],
          "name": "stderr"
        },
        {
          "output_type": "execute_result",
          "data": {
            "text/plain": [
              "<matplotlib.axes._subplots.AxesSubplot at 0x7fa824dd2be0>"
            ]
          },
          "metadata": {
            "tags": []
          },
          "execution_count": 23
        },
        {
          "output_type": "display_data",
          "data": {
            "image/png": "[encoded data removed]",
            "text/plain": [
              "<Figure size 720x576 with 1 Axes>"
            ]
          },
          "metadata": {
            "tags": [],
            "needs_background": "light"
          }
        }
      ]
    },
    {
      "cell_type": "code",
      "metadata": {
        "id": "yKpqqNaJoDFi",
        "outputId": "49cdfbd8-e98e-4e09-ae1f-6fb1a1fe3104",
        "colab": {
          "base_uri": "https://localhost:8080/",
          "height": 170
        }
      },
      "source": [
        "main_df[main_df['Pclass'] == 3]['Age'].describe()"
      ],
      "execution_count": null,
      "outputs": [
        {
          "output_type": "execute_result",
          "data": {
            "text/plain": [
              "count    355.000000\n",
              "mean      25.140620\n",
              "std       12.495398\n",
              "min        0.420000\n",
              "25%       18.000000\n",
              "50%       24.000000\n",
              "75%       32.000000\n",
              "max       74.000000\n",
              "Name: Age, dtype: float64"
            ]
          },
          "metadata": {
            "tags": []
          },
          "execution_count": 24
        }
      ]
    },
    {
      "cell_type": "markdown",
      "metadata": {
        "id": "03uYh2iMoG86"
      },
      "source": [
        "The age (class 2) distribution density is close to normal. Average age is about 25 years. Minimum 4 months and the oldest 74 years old"
      ]
    },
    {
      "cell_type": "code",
      "metadata": {
        "id": "Sy0Z6szAw_Cj",
        "outputId": "0973b307-4d94-4546-e703-213c27af74a5",
        "colab": {
          "base_uri": "https://localhost:8080/",
          "height": 302
        }
      },
      "source": [
        "df = main_df\n",
        "plt.figure(figsize=(15, 10))\n",
        "df2 = df.groupby(['Pclass','Sex']).size().reset_index(name='Count')\n",
        "df3 = pd.pivot_table(df2,  values='Count',  columns=['Pclass', 'Sex'], aggfunc=np.sum,  fill_value=0)\n",
        "df3.plot(kind=\"bar\")\n",
        "plt.show()"
      ],
      "execution_count": null,
      "outputs": [
        {
          "output_type": "display_data",
          "data": {
            "text/plain": [
              "<Figure size 1080x720 with 0 Axes>"
            ]
          },
          "metadata": {
            "tags": []
          }
        },
        {
          "output_type": "display_data",
          "data": {
            "image/png": "[encoded data removed]",
            "text/plain": [
              "<Figure size 432x288 with 1 Axes>"
            ]
          },
          "metadata": {
            "tags": [],
            "needs_background": "light"
          }
        }
      ]
    },
    {
      "cell_type": "markdown",
      "metadata": {
        "id": "yOVVmhrszNRZ"
      },
      "source": [
        "More people in class 3, where gender is male"
      ]
    },
    {
      "cell_type": "markdown",
      "metadata": {
        "id": "X1q8JOLDvT3F"
      },
      "source": [
        "The average age is not equal, as can be shown in the graphs. Grade 1 is closer to 37, and grades 2 and 3 are close to each other. You can joke that rich people are older"
      ]
    },
    {
      "cell_type": "code",
      "metadata": {
        "id": "JAAfybrEyCqv",
        "outputId": "da78bc92-2ed4-4d54-d520-96da65aa59ac",
        "colab": {
          "base_uri": "https://localhost:8080/",
          "height": 1000
        }
      },
      "source": [
        "# Draw Plot\n",
        "!pip install joypy\n",
        "import joypy\n",
        "plt.figure(figsize=(16,10), dpi= 80)\n",
        "fig, axes = joypy.joyplot(main_df, column=['Pclass', 'Age'], by=\"Sex\", ylim='own', figsize=(14,10))\n",
        "\n",
        "# Decoration\n",
        "plt.title('Joy Plot of Age and Sex by Class', fontsize=22)\n",
        "plt.show()"
      ],
      "execution_count": null,
      "outputs": [
        {
          "output_type": "stream",
          "text": [
            "Collecting joypy\n",
            "  Downloading https://files.pythonhosted.org/packages/77/82/9daf84db2d4e3591fff8432c877c6ab0d5e084b37e52d48ba4d469c03d71/joypy-0.2.2-py2.py3-none-any.whl\n",
            "Requirement already satisfied: matplotlib in /usr/local/lib/python3.6/dist-packages (from joypy) (3.2.2)\n",
            "Requirement already satisfied: scipy>=0.11.0 in /usr/local/lib/python3.6/dist-packages (from joypy) (1.4.1)\n",
            "Requirement already satisfied: pandas>=0.20.0 in /usr/local/lib/python3.6/dist-packages (from joypy) (1.1.2)\n",
            "Requirement already satisfied: numpy in /usr/local/lib/python3.6/dist-packages (from joypy) (1.18.5)\n",
            "Requirement already satisfied: kiwisolver>=1.0.1 in /usr/local/lib/python3.6/dist-packages (from matplotlib->joypy) (1.2.0)\n",
            "Requirement already satisfied: pyparsing!=2.0.4,!=2.1.2,!=2.1.6,>=2.0.1 in /usr/local/lib/python3.6/dist-packages (from matplotlib->joypy) (2.4.7)\n",
            "Requirement already satisfied: cycler>=0.10 in /usr/local/lib/python3.6/dist-packages (from matplotlib->joypy) (0.10.0)\n",
            "Requirement already satisfied: python-dateutil>=2.1 in /usr/local/lib/python3.6/dist-packages (from matplotlib->joypy) (2.8.1)\n",
            "Requirement already satisfied: pytz>=2017.2 in /usr/local/lib/python3.6/dist-packages (from pandas>=0.20.0->joypy) (2018.9)\n",
            "Requirement already satisfied: six in /usr/local/lib/python3.6/dist-packages (from cycler>=0.10->matplotlib->joypy) (1.15.0)\n",
            "Installing collected packages: joypy\n",
            "Successfully installed joypy-0.2.2\n"
          ],
          "name": "stdout"
        },
        {
          "output_type": "display_data",
          "data": {
            "text/plain": [
              "<Figure size 1280x800 with 0 Axes>"
            ]
          },
          "metadata": {
            "tags": []
          }
        },
        {
          "output_type": "display_data",
          "data": {
            "image/png": "[encoded data removed]",
            "text/plain": [
              "<Figure size 1008x720 with 3 Axes>"
            ]
          },
          "metadata": {
            "tags": [],
            "needs_background": "light"
          }
        }
      ]
    },
    {
      "cell_type": "code",
      "metadata": {
        "id": "RwtQ6bSQ1duP",
        "outputId": "d7cb3c16-a84e-4080-c2c6-34acc8dc59d5",
        "colab": {
          "base_uri": "https://localhost:8080/",
          "height": 221
        }
      },
      "source": [
        "from scipy import stats\n",
        "from sklearn.impute import SimpleImputer\n",
        "\n",
        "# Imputation\n",
        "my_imputer = SimpleImputer()\n",
        "main_df_new = pd.DataFrame(my_imputer.fit_transform(main_df[['Age', 'Pclass']]))\n",
        "\n",
        "# Imputation removed column names; put them back\n",
        "main_df_new.columns = main_df[['Age', 'Pclass']].columns\n",
        "\n",
        "print(main_df_new['Age'])\n",
        "main_df['Age'] = main_df_new['Age']"
      ],
      "execution_count": null,
      "outputs": [
        {
          "output_type": "stream",
          "text": [
            "0      22.000000\n",
            "1      38.000000\n",
            "2      26.000000\n",
            "3      35.000000\n",
            "4      35.000000\n",
            "         ...    \n",
            "886    27.000000\n",
            "887    19.000000\n",
            "888    29.699118\n",
            "889    26.000000\n",
            "890    32.000000\n",
            "Name: Age, Length: 891, dtype: float64\n"
          ],
          "name": "stdout"
        }
      ]
    },
    {
      "cell_type": "code",
      "metadata": {
        "id": "RQhtv5UAw4zP",
        "outputId": "6419fdd0-ab2b-462f-83d4-9fa702a7a623",
        "colab": {
          "base_uri": "https://localhost:8080/",
          "height": 34
        }
      },
      "source": [
        "stats.ttest_ind(main_df[main_df['Pclass'] == 1]['Age'],main_df[main_df['Pclass'] == 2]['Age'])"
      ],
      "execution_count": null,
      "outputs": [
        {
          "output_type": "execute_result",
          "data": {
            "text/plain": [
              "Ttest_indResult(statistic=5.17539756047137, pvalue=3.6151399535758465e-07)"
            ]
          },
          "metadata": {
            "tags": []
          },
          "execution_count": 28
        }
      ]
    },
    {
      "cell_type": "code",
      "metadata": {
        "id": "wvrujbtCcY54",
        "outputId": "649aeec3-df11-4f92-92a4-ae118c7889f8",
        "colab": {
          "base_uri": "https://localhost:8080/",
          "height": 34
        }
      },
      "source": [
        "stats.ttest_ind(main_df[main_df['Pclass'] == 1]['Age'],main_df[main_df['Pclass'] == 3]['Age'])"
      ],
      "execution_count": null,
      "outputs": [
        {
          "output_type": "execute_result",
          "data": {
            "text/plain": [
              "Ttest_indResult(statistic=10.961483349004528, pvalue=6.318417680296215e-26)"
            ]
          },
          "metadata": {
            "tags": []
          },
          "execution_count": 29
        }
      ]
    },
    {
      "cell_type": "code",
      "metadata": {
        "id": "axfySyAuccit",
        "outputId": "0d65497d-6282-458c-88b0-f8647365ccea",
        "colab": {
          "base_uri": "https://localhost:8080/",
          "height": 34
        }
      },
      "source": [
        "stats.ttest_ind(main_df[main_df['Pclass'] == 3]['Age'],main_df[main_df['Pclass'] == 2]['Age'])"
      ],
      "execution_count": null,
      "outputs": [
        {
          "output_type": "execute_result",
          "data": {
            "text/plain": [
              "Ttest_indResult(statistic=-3.445458874236269, pvalue=0.000605505253500972)"
            ]
          },
          "metadata": {
            "tags": []
          },
          "execution_count": 30
        }
      ]
    },
    {
      "cell_type": "markdown",
      "metadata": {
        "id": "CW00OBgmb0NR"
      },
      "source": [
        "**What are T-Values and P-values?**\n",
        "\n",
        "How big is “big enough”? Every t-value has a p-value to go with it. A p-value is the probability that the results from your sample data occurred by chance. P-values are from 0% to 100%. They are usually written as a decimal. For example, a p value of 5% is 0.05. Low p-values are good; They indicate your data did not occur by chance. For example, a p-value of .01 means there is only a 1% probability that the results from an experiment happened by chance. In most cases, a p-value of 0.05 (5%) is accepted to mean the data is valid."
      ]
    },
    {
      "cell_type": "markdown",
      "metadata": {
        "id": "W5IwXi-2rUC8"
      },
      "source": [
        "**Task 3. [2 points]**\n",
        "\n",
        "Use plt.subplots to create side-by-side histograms of distributions:\n",
        "\n",
        "\n",
        "\n",
        "*   columns: 3 classes\n",
        "*   rows: age, fare, sex, survival rate\n",
        "\n",
        "The output is 4 by 3 table.\n"
      ]
    },
    {
      "cell_type": "code",
      "metadata": {
        "id": "q-d-HpTOrjPy",
        "outputId": "1a4e83b4-13fa-49e4-d188-a4b71a01c663",
        "colab": {
          "base_uri": "https://localhost:8080/",
          "height": 34
        }
      },
      "source": [
        "columns = main_df['Pclass'].unique()\n",
        "columns"
      ],
      "execution_count": null,
      "outputs": [
        {
          "output_type": "execute_result",
          "data": {
            "text/plain": [
              "array([3, 1, 2])"
            ]
          },
          "metadata": {
            "tags": []
          },
          "execution_count": 32
        }
      ]
    },
    {
      "cell_type": "code",
      "metadata": {
        "id": "tRTwXoe5w7ZQ",
        "outputId": "4a04a9df-708f-4875-c8f7-64d8a9ce2d93",
        "colab": {
          "base_uri": "https://localhost:8080/",
          "height": 272
        }
      },
      "source": [
        "main_df.head()"
      ],
      "execution_count": null,
      "outputs": [
        {
          "output_type": "execute_result",
          "data": {
            "text/html": [
              "<div>\n",
              "<style scoped>\n",
              "    .dataframe tbody tr th:only-of-type {\n",
              "        vertical-align: middle;\n",
              "    }\n",
              "\n",
              "    .dataframe tbody tr th {\n",
              "        vertical-align: top;\n",
              "    }\n",
              "\n",
              "    .dataframe thead th {\n",
              "        text-align: right;\n",
              "    }\n",
              "</style>\n",
              "<table border=\"1\" class=\"dataframe\">\n",
              "  <thead>\n",
              "    <tr style=\"text-align: right;\">\n",
              "      <th></th>\n",
              "      <th>Unnamed: 0_x</th>\n",
              "      <th>PassengerId</th>\n",
              "      <th>Pclass</th>\n",
              "      <th>Name</th>\n",
              "      <th>Sex</th>\n",
              "      <th>Age</th>\n",
              "      <th>SibSp</th>\n",
              "      <th>Parch</th>\n",
              "      <th>Ticket</th>\n",
              "      <th>Fare</th>\n",
              "      <th>Cabin</th>\n",
              "      <th>Embarked</th>\n",
              "      <th>Unnamed: 0_y</th>\n",
              "      <th>Survived</th>\n",
              "    </tr>\n",
              "  </thead>\n",
              "  <tbody>\n",
              "    <tr>\n",
              "      <th>0</th>\n",
              "      <td>NaN</td>\n",
              "      <td>1</td>\n",
              "      <td>3</td>\n",
              "      <td>Braund, Mr. Owen Harris</td>\n",
              "      <td>male</td>\n",
              "      <td>22.0</td>\n",
              "      <td>1</td>\n",
              "      <td>0</td>\n",
              "      <td>A/5 21171</td>\n",
              "      <td>7.2500</td>\n",
              "      <td>NaN</td>\n",
              "      <td>S</td>\n",
              "      <td>NaN</td>\n",
              "      <td>0</td>\n",
              "    </tr>\n",
              "    <tr>\n",
              "      <th>1</th>\n",
              "      <td>NaN</td>\n",
              "      <td>2</td>\n",
              "      <td>1</td>\n",
              "      <td>Cumings, Mrs. John Bradley (Florence Briggs Th...</td>\n",
              "      <td>female</td>\n",
              "      <td>38.0</td>\n",
              "      <td>1</td>\n",
              "      <td>0</td>\n",
              "      <td>PC 17599</td>\n",
              "      <td>71.2833</td>\n",
              "      <td>C85</td>\n",
              "      <td>C</td>\n",
              "      <td>NaN</td>\n",
              "      <td>1</td>\n",
              "    </tr>\n",
              "    <tr>\n",
              "      <th>2</th>\n",
              "      <td>NaN</td>\n",
              "      <td>3</td>\n",
              "      <td>3</td>\n",
              "      <td>Heikkinen, Miss. Laina</td>\n",
              "      <td>female</td>\n",
              "      <td>26.0</td>\n",
              "      <td>0</td>\n",
              "      <td>0</td>\n",
              "      <td>STON/O2. 3101282</td>\n",
              "      <td>7.9250</td>\n",
              "      <td>NaN</td>\n",
              "      <td>S</td>\n",
              "      <td>NaN</td>\n",
              "      <td>1</td>\n",
              "    </tr>\n",
              "    <tr>\n",
              "      <th>3</th>\n",
              "      <td>NaN</td>\n",
              "      <td>4</td>\n",
              "      <td>1</td>\n",
              "      <td>Futrelle, Mrs. Jacques Heath (Lily May Peel)</td>\n",
              "      <td>female</td>\n",
              "      <td>35.0</td>\n",
              "      <td>1</td>\n",
              "      <td>0</td>\n",
              "      <td>113803</td>\n",
              "      <td>53.1000</td>\n",
              "      <td>C123</td>\n",
              "      <td>S</td>\n",
              "      <td>NaN</td>\n",
              "      <td>1</td>\n",
              "    </tr>\n",
              "    <tr>\n",
              "      <th>4</th>\n",
              "      <td>NaN</td>\n",
              "      <td>5</td>\n",
              "      <td>3</td>\n",
              "      <td>Allen, Mr. William Henry</td>\n",
              "      <td>male</td>\n",
              "      <td>35.0</td>\n",
              "      <td>0</td>\n",
              "      <td>0</td>\n",
              "      <td>373450</td>\n",
              "      <td>8.0500</td>\n",
              "      <td>NaN</td>\n",
              "      <td>S</td>\n",
              "      <td>NaN</td>\n",
              "      <td>0</td>\n",
              "    </tr>\n",
              "  </tbody>\n",
              "</table>\n",
              "</div>"
            ],
            "text/plain": [
              "   Unnamed: 0_x  PassengerId  Pclass  ... Embarked Unnamed: 0_y  Survived\n",
              "0           NaN            1       3  ...        S          NaN         0\n",
              "1           NaN            2       1  ...        C          NaN         1\n",
              "2           NaN            3       3  ...        S          NaN         1\n",
              "3           NaN            4       1  ...        S          NaN         1\n",
              "4           NaN            5       3  ...        S          NaN         0\n",
              "\n",
              "[5 rows x 14 columns]"
            ]
          },
          "metadata": {
            "tags": []
          },
          "execution_count": 33
        }
      ]
    },
    {
      "cell_type": "code",
      "metadata": {
        "id": "-pk1IixLvbnA",
        "outputId": "625d6119-7846-44cb-c46b-f0a8edee1a82",
        "colab": {
          "base_uri": "https://localhost:8080/",
          "height": 142
        }
      },
      "source": [
        "df = main_df.groupby(['Pclass']).agg({'Age':'mean', 'Sex':'count', 'Fare':'mean', 'Survived':'count'})[['Age', 'Sex', 'Fare', 'Survived']].reset_index()\n",
        "df"
      ],
      "execution_count": null,
      "outputs": [
        {
          "output_type": "execute_result",
          "data": {
            "text/html": [
              "<div>\n",
              "<style scoped>\n",
              "    .dataframe tbody tr th:only-of-type {\n",
              "        vertical-align: middle;\n",
              "    }\n",
              "\n",
              "    .dataframe tbody tr th {\n",
              "        vertical-align: top;\n",
              "    }\n",
              "\n",
              "    .dataframe thead th {\n",
              "        text-align: right;\n",
              "    }\n",
              "</style>\n",
              "<table border=\"1\" class=\"dataframe\">\n",
              "  <thead>\n",
              "    <tr style=\"text-align: right;\">\n",
              "      <th></th>\n",
              "      <th>Pclass</th>\n",
              "      <th>Age</th>\n",
              "      <th>Sex</th>\n",
              "      <th>Fare</th>\n",
              "      <th>Survived</th>\n",
              "    </tr>\n",
              "  </thead>\n",
              "  <tbody>\n",
              "    <tr>\n",
              "      <th>0</th>\n",
              "      <td>1</td>\n",
              "      <td>37.048118</td>\n",
              "      <td>216</td>\n",
              "      <td>84.154687</td>\n",
              "      <td>216</td>\n",
              "    </tr>\n",
              "    <tr>\n",
              "      <th>1</th>\n",
              "      <td>2</td>\n",
              "      <td>29.866958</td>\n",
              "      <td>184</td>\n",
              "      <td>20.662183</td>\n",
              "      <td>184</td>\n",
              "    </tr>\n",
              "    <tr>\n",
              "      <th>2</th>\n",
              "      <td>3</td>\n",
              "      <td>26.403259</td>\n",
              "      <td>491</td>\n",
              "      <td>13.675550</td>\n",
              "      <td>491</td>\n",
              "    </tr>\n",
              "  </tbody>\n",
              "</table>\n",
              "</div>"
            ],
            "text/plain": [
              "   Pclass        Age  Sex       Fare  Survived\n",
              "0       1  37.048118  216  84.154687       216\n",
              "1       2  29.866958  184  20.662183       184\n",
              "2       3  26.403259  491  13.675550       491"
            ]
          },
          "metadata": {
            "tags": []
          },
          "execution_count": 34
        }
      ]
    },
    {
      "cell_type": "markdown",
      "metadata": {
        "id": "xlhrVb7SxRuE"
      },
      "source": [
        "**Task 4. [1 point]**\n",
        "\n",
        "Find 5 most common surnames in passenger list. Try to use pandas.Series.apply and lambda-function to extract surnames."
      ]
    },
    {
      "cell_type": "code",
      "metadata": {
        "id": "9MuoYIz7xl3t",
        "outputId": "2cec444a-a8fb-4468-e41a-da272d6ede2b",
        "colab": {
          "base_uri": "https://localhost:8080/",
          "height": 306
        }
      },
      "source": [
        "tmp1 = main_df.groupby(['Name']).size()\n",
        "tmp1.head(15)"
      ],
      "execution_count": null,
      "outputs": [
        {
          "output_type": "execute_result",
          "data": {
            "text/plain": [
              "Name\n",
              "Abbing, Mr. Anthony                               1\n",
              "Abbott, Mr. Rossmore Edward                       1\n",
              "Abbott, Mrs. Stanton (Rosa Hunt)                  1\n",
              "Abelson, Mr. Samuel                               1\n",
              "Abelson, Mrs. Samuel (Hannah Wizosky)             1\n",
              "Adahl, Mr. Mauritz Nils Martin                    1\n",
              "Adams, Mr. John                                   1\n",
              "Ahlin, Mrs. Johan (Johanna Persdotter Larsson)    1\n",
              "Aks, Mrs. Sam (Leah Rosen)                        1\n",
              "Albimona, Mr. Nassef Cassem                       1\n",
              "Alexander, Mr. William                            1\n",
              "Alhomaki, Mr. Ilmari Rudolf                       1\n",
              "Ali, Mr. Ahmed                                    1\n",
              "Ali, Mr. William                                  1\n",
              "Allen, Miss. Elisabeth Walton                     1\n",
              "dtype: int64"
            ]
          },
          "metadata": {
            "tags": []
          },
          "execution_count": 36
        }
      ]
    },
    {
      "cell_type": "code",
      "metadata": {
        "id": "QayPNXBIyfFE",
        "outputId": "7c0d81fb-c5d3-486c-f671-a99089d5597f",
        "colab": {
          "base_uri": "https://localhost:8080/",
          "height": 701
        }
      },
      "source": [
        "main_df['Sur_Name']=main_df['Name'].apply(lambda x: str(x).split(',')[0])\n",
        "main_df.head(15)"
      ],
      "execution_count": null,
      "outputs": [
        {
          "output_type": "execute_result",
          "data": {
            "text/html": [
              "<div>\n",
              "<style scoped>\n",
              "    .dataframe tbody tr th:only-of-type {\n",
              "        vertical-align: middle;\n",
              "    }\n",
              "\n",
              "    .dataframe tbody tr th {\n",
              "        vertical-align: top;\n",
              "    }\n",
              "\n",
              "    .dataframe thead th {\n",
              "        text-align: right;\n",
              "    }\n",
              "</style>\n",
              "<table border=\"1\" class=\"dataframe\">\n",
              "  <thead>\n",
              "    <tr style=\"text-align: right;\">\n",
              "      <th></th>\n",
              "      <th>Unnamed: 0_x</th>\n",
              "      <th>PassengerId</th>\n",
              "      <th>Pclass</th>\n",
              "      <th>Name</th>\n",
              "      <th>Sex</th>\n",
              "      <th>Age</th>\n",
              "      <th>SibSp</th>\n",
              "      <th>Parch</th>\n",
              "      <th>Ticket</th>\n",
              "      <th>Fare</th>\n",
              "      <th>Cabin</th>\n",
              "      <th>Embarked</th>\n",
              "      <th>Unnamed: 0_y</th>\n",
              "      <th>Survived</th>\n",
              "      <th>Sur_Name</th>\n",
              "    </tr>\n",
              "  </thead>\n",
              "  <tbody>\n",
              "    <tr>\n",
              "      <th>0</th>\n",
              "      <td>NaN</td>\n",
              "      <td>1</td>\n",
              "      <td>3</td>\n",
              "      <td>Braund, Mr. Owen Harris</td>\n",
              "      <td>male</td>\n",
              "      <td>22.000000</td>\n",
              "      <td>1</td>\n",
              "      <td>0</td>\n",
              "      <td>A/5 21171</td>\n",
              "      <td>7.2500</td>\n",
              "      <td>NaN</td>\n",
              "      <td>S</td>\n",
              "      <td>NaN</td>\n",
              "      <td>0</td>\n",
              "      <td>Braund</td>\n",
              "    </tr>\n",
              "    <tr>\n",
              "      <th>1</th>\n",
              "      <td>NaN</td>\n",
              "      <td>2</td>\n",
              "      <td>1</td>\n",
              "      <td>Cumings, Mrs. John Bradley (Florence Briggs Th...</td>\n",
              "      <td>female</td>\n",
              "      <td>38.000000</td>\n",
              "      <td>1</td>\n",
              "      <td>0</td>\n",
              "      <td>PC 17599</td>\n",
              "      <td>71.2833</td>\n",
              "      <td>C85</td>\n",
              "      <td>C</td>\n",
              "      <td>NaN</td>\n",
              "      <td>1</td>\n",
              "      <td>Cumings</td>\n",
              "    </tr>\n",
              "    <tr>\n",
              "      <th>2</th>\n",
              "      <td>NaN</td>\n",
              "      <td>3</td>\n",
              "      <td>3</td>\n",
              "      <td>Heikkinen, Miss. Laina</td>\n",
              "      <td>female</td>\n",
              "      <td>26.000000</td>\n",
              "      <td>0</td>\n",
              "      <td>0</td>\n",
              "      <td>STON/O2. 3101282</td>\n",
              "      <td>7.9250</td>\n",
              "      <td>NaN</td>\n",
              "      <td>S</td>\n",
              "      <td>NaN</td>\n",
              "      <td>1</td>\n",
              "      <td>Heikkinen</td>\n",
              "    </tr>\n",
              "    <tr>\n",
              "      <th>3</th>\n",
              "      <td>NaN</td>\n",
              "      <td>4</td>\n",
              "      <td>1</td>\n",
              "      <td>Futrelle, Mrs. Jacques Heath (Lily May Peel)</td>\n",
              "      <td>female</td>\n",
              "      <td>35.000000</td>\n",
              "      <td>1</td>\n",
              "      <td>0</td>\n",
              "      <td>113803</td>\n",
              "      <td>53.1000</td>\n",
              "      <td>C123</td>\n",
              "      <td>S</td>\n",
              "      <td>NaN</td>\n",
              "      <td>1</td>\n",
              "      <td>Futrelle</td>\n",
              "    </tr>\n",
              "    <tr>\n",
              "      <th>4</th>\n",
              "      <td>NaN</td>\n",
              "      <td>5</td>\n",
              "      <td>3</td>\n",
              "      <td>Allen, Mr. William Henry</td>\n",
              "      <td>male</td>\n",
              "      <td>35.000000</td>\n",
              "      <td>0</td>\n",
              "      <td>0</td>\n",
              "      <td>373450</td>\n",
              "      <td>8.0500</td>\n",
              "      <td>NaN</td>\n",
              "      <td>S</td>\n",
              "      <td>NaN</td>\n",
              "      <td>0</td>\n",
              "      <td>Allen</td>\n",
              "    </tr>\n",
              "    <tr>\n",
              "      <th>5</th>\n",
              "      <td>NaN</td>\n",
              "      <td>6</td>\n",
              "      <td>3</td>\n",
              "      <td>Moran, Mr. James</td>\n",
              "      <td>male</td>\n",
              "      <td>29.699118</td>\n",
              "      <td>0</td>\n",
              "      <td>0</td>\n",
              "      <td>330877</td>\n",
              "      <td>8.4583</td>\n",
              "      <td>NaN</td>\n",
              "      <td>Q</td>\n",
              "      <td>NaN</td>\n",
              "      <td>0</td>\n",
              "      <td>Moran</td>\n",
              "    </tr>\n",
              "    <tr>\n",
              "      <th>6</th>\n",
              "      <td>NaN</td>\n",
              "      <td>7</td>\n",
              "      <td>1</td>\n",
              "      <td>McCarthy, Mr. Timothy J</td>\n",
              "      <td>male</td>\n",
              "      <td>54.000000</td>\n",
              "      <td>0</td>\n",
              "      <td>0</td>\n",
              "      <td>17463</td>\n",
              "      <td>51.8625</td>\n",
              "      <td>E46</td>\n",
              "      <td>S</td>\n",
              "      <td>NaN</td>\n",
              "      <td>0</td>\n",
              "      <td>McCarthy</td>\n",
              "    </tr>\n",
              "    <tr>\n",
              "      <th>7</th>\n",
              "      <td>NaN</td>\n",
              "      <td>8</td>\n",
              "      <td>3</td>\n",
              "      <td>Palsson, Master. Gosta Leonard</td>\n",
              "      <td>male</td>\n",
              "      <td>2.000000</td>\n",
              "      <td>3</td>\n",
              "      <td>1</td>\n",
              "      <td>349909</td>\n",
              "      <td>21.0750</td>\n",
              "      <td>NaN</td>\n",
              "      <td>S</td>\n",
              "      <td>NaN</td>\n",
              "      <td>0</td>\n",
              "      <td>Palsson</td>\n",
              "    </tr>\n",
              "    <tr>\n",
              "      <th>8</th>\n",
              "      <td>NaN</td>\n",
              "      <td>9</td>\n",
              "      <td>3</td>\n",
              "      <td>Johnson, Mrs. Oscar W (Elisabeth Vilhelmina Berg)</td>\n",
              "      <td>female</td>\n",
              "      <td>27.000000</td>\n",
              "      <td>0</td>\n",
              "      <td>2</td>\n",
              "      <td>347742</td>\n",
              "      <td>11.1333</td>\n",
              "      <td>NaN</td>\n",
              "      <td>S</td>\n",
              "      <td>NaN</td>\n",
              "      <td>1</td>\n",
              "      <td>Johnson</td>\n",
              "    </tr>\n",
              "    <tr>\n",
              "      <th>9</th>\n",
              "      <td>NaN</td>\n",
              "      <td>10</td>\n",
              "      <td>2</td>\n",
              "      <td>Nasser, Mrs. Nicholas (Adele Achem)</td>\n",
              "      <td>female</td>\n",
              "      <td>14.000000</td>\n",
              "      <td>1</td>\n",
              "      <td>0</td>\n",
              "      <td>237736</td>\n",
              "      <td>30.0708</td>\n",
              "      <td>NaN</td>\n",
              "      <td>C</td>\n",
              "      <td>NaN</td>\n",
              "      <td>1</td>\n",
              "      <td>Nasser</td>\n",
              "    </tr>\n",
              "    <tr>\n",
              "      <th>10</th>\n",
              "      <td>NaN</td>\n",
              "      <td>11</td>\n",
              "      <td>3</td>\n",
              "      <td>Sandstrom, Miss. Marguerite Rut</td>\n",
              "      <td>female</td>\n",
              "      <td>4.000000</td>\n",
              "      <td>1</td>\n",
              "      <td>1</td>\n",
              "      <td>PP 9549</td>\n",
              "      <td>16.7000</td>\n",
              "      <td>G6</td>\n",
              "      <td>S</td>\n",
              "      <td>NaN</td>\n",
              "      <td>1</td>\n",
              "      <td>Sandstrom</td>\n",
              "    </tr>\n",
              "    <tr>\n",
              "      <th>11</th>\n",
              "      <td>NaN</td>\n",
              "      <td>12</td>\n",
              "      <td>1</td>\n",
              "      <td>Bonnell, Miss. Elizabeth</td>\n",
              "      <td>female</td>\n",
              "      <td>58.000000</td>\n",
              "      <td>0</td>\n",
              "      <td>0</td>\n",
              "      <td>113783</td>\n",
              "      <td>26.5500</td>\n",
              "      <td>C103</td>\n",
              "      <td>S</td>\n",
              "      <td>NaN</td>\n",
              "      <td>1</td>\n",
              "      <td>Bonnell</td>\n",
              "    </tr>\n",
              "    <tr>\n",
              "      <th>12</th>\n",
              "      <td>NaN</td>\n",
              "      <td>13</td>\n",
              "      <td>3</td>\n",
              "      <td>Saundercock, Mr. William Henry</td>\n",
              "      <td>male</td>\n",
              "      <td>20.000000</td>\n",
              "      <td>0</td>\n",
              "      <td>0</td>\n",
              "      <td>A/5. 2151</td>\n",
              "      <td>8.0500</td>\n",
              "      <td>NaN</td>\n",
              "      <td>S</td>\n",
              "      <td>NaN</td>\n",
              "      <td>0</td>\n",
              "      <td>Saundercock</td>\n",
              "    </tr>\n",
              "    <tr>\n",
              "      <th>13</th>\n",
              "      <td>NaN</td>\n",
              "      <td>14</td>\n",
              "      <td>3</td>\n",
              "      <td>Andersson, Mr. Anders Johan</td>\n",
              "      <td>male</td>\n",
              "      <td>39.000000</td>\n",
              "      <td>1</td>\n",
              "      <td>5</td>\n",
              "      <td>347082</td>\n",
              "      <td>31.2750</td>\n",
              "      <td>NaN</td>\n",
              "      <td>S</td>\n",
              "      <td>NaN</td>\n",
              "      <td>0</td>\n",
              "      <td>Andersson</td>\n",
              "    </tr>\n",
              "    <tr>\n",
              "      <th>14</th>\n",
              "      <td>NaN</td>\n",
              "      <td>15</td>\n",
              "      <td>3</td>\n",
              "      <td>Vestrom, Miss. Hulda Amanda Adolfina</td>\n",
              "      <td>female</td>\n",
              "      <td>14.000000</td>\n",
              "      <td>0</td>\n",
              "      <td>0</td>\n",
              "      <td>350406</td>\n",
              "      <td>7.8542</td>\n",
              "      <td>NaN</td>\n",
              "      <td>S</td>\n",
              "      <td>NaN</td>\n",
              "      <td>0</td>\n",
              "      <td>Vestrom</td>\n",
              "    </tr>\n",
              "  </tbody>\n",
              "</table>\n",
              "</div>"
            ],
            "text/plain": [
              "    Unnamed: 0_x  PassengerId  Pclass  ... Unnamed: 0_y Survived     Sur_Name\n",
              "0            NaN            1       3  ...          NaN        0       Braund\n",
              "1            NaN            2       1  ...          NaN        1      Cumings\n",
              "2            NaN            3       3  ...          NaN        1    Heikkinen\n",
              "3            NaN            4       1  ...          NaN        1     Futrelle\n",
              "4            NaN            5       3  ...          NaN        0        Allen\n",
              "5            NaN            6       3  ...          NaN        0        Moran\n",
              "6            NaN            7       1  ...          NaN        0     McCarthy\n",
              "7            NaN            8       3  ...          NaN        0      Palsson\n",
              "8            NaN            9       3  ...          NaN        1      Johnson\n",
              "9            NaN           10       2  ...          NaN        1       Nasser\n",
              "10           NaN           11       3  ...          NaN        1    Sandstrom\n",
              "11           NaN           12       1  ...          NaN        1      Bonnell\n",
              "12           NaN           13       3  ...          NaN        0  Saundercock\n",
              "13           NaN           14       3  ...          NaN        0    Andersson\n",
              "14           NaN           15       3  ...          NaN        0      Vestrom\n",
              "\n",
              "[15 rows x 15 columns]"
            ]
          },
          "metadata": {
            "tags": []
          },
          "execution_count": 42
        }
      ]
    },
    {
      "cell_type": "code",
      "metadata": {
        "id": "RYnc5pyizWfV",
        "outputId": "4915ddfd-7d40-405a-cc45-139a3692b04d",
        "colab": {
          "base_uri": "https://localhost:8080/",
          "height": 136
        }
      },
      "source": [
        "tmp1 = main_df.groupby(['Sur_Name']).size().sort_values(ascending=False)\n",
        "tmp1.head(5)"
      ],
      "execution_count": null,
      "outputs": [
        {
          "output_type": "execute_result",
          "data": {
            "text/plain": [
              "Sur_Name\n",
              "Andersson    9\n",
              "Sage         7\n",
              "Skoog        6\n",
              "Johnson      6\n",
              "Panula       6\n",
              "dtype: int64"
            ]
          },
          "metadata": {
            "tags": []
          },
          "execution_count": 43
        }
      ]
    },
    {
      "cell_type": "markdown",
      "metadata": {
        "id": "LTKqfZoAdGWt"
      },
      "source": [
        "**Task 5. [2 points]**\n",
        "\n",
        "Probably you already have noticed that there are missing values in the dataset. We will try to fix that.\n",
        "\n",
        "\n",
        "\n",
        "1.   Omit all the rows, that contain missing values. Is the result plausible? How does this method effect amount of data and values from Task 1 (age histograms, survival rates, etc.?)\n",
        "2.   Suggest some better options to handle missing values in the data and check if it distorts the statistics.\n",
        "\n"
      ]
    },
    {
      "cell_type": "code",
      "metadata": {
        "id": "pRWjHX7Nqyfz",
        "outputId": "076c67e8-34de-4741-8121-38de682ed6db",
        "colab": {
          "base_uri": "https://localhost:8080/",
          "height": 221
        }
      },
      "source": [
        "from sklearn.impute import SimpleImputer\n",
        "\n",
        "# Imputation\n",
        "my_imputer = SimpleImputer()\n",
        "main_df_new = pd.DataFrame(my_imputer.fit_transform(main_df[['Age', 'Pclass']]))\n",
        "\n",
        "# Imputation removed column names; put them back\n",
        "main_df_new.columns = main_df[['Age', 'Pclass']].columns\n",
        "\n",
        "print(main_df_new['Age'])\n",
        "main_df['Age'] = main_df_new['Age']"
      ],
      "execution_count": null,
      "outputs": [
        {
          "output_type": "stream",
          "text": [
            "0      22.000000\n",
            "1      38.000000\n",
            "2      26.000000\n",
            "3      35.000000\n",
            "4      35.000000\n",
            "         ...    \n",
            "886    27.000000\n",
            "887    19.000000\n",
            "888    29.699118\n",
            "889    26.000000\n",
            "890    32.000000\n",
            "Name: Age, Length: 891, dtype: float64\n"
          ],
          "name": "stdout"
        }
      ]
    },
    {
      "cell_type": "code",
      "metadata": {
        "id": "_33K78XhtViW",
        "outputId": "838dd71b-fbef-4980-a8af-31e96d8fe362",
        "colab": {
          "base_uri": "https://localhost:8080/",
          "height": 638
        }
      },
      "source": [
        "import missingno as msno\n",
        "#Visualizing missing values in a dataframe main_df\n",
        "msno.bar(main_df)"
      ],
      "execution_count": null,
      "outputs": [
        {
          "output_type": "execute_result",
          "data": {
            "text/plain": [
              "<matplotlib.axes._subplots.AxesSubplot at 0x7f879d5c3d30>"
            ]
          },
          "metadata": {
            "tags": []
          },
          "execution_count": 59
        },
        {
          "output_type": "display_data",
          "data": {
            "image/png": "[encoded data removed]",
            "text/plain": [
              "<Figure size 1728x720 with 3 Axes>"
            ]
          },
          "metadata": {
            "tags": [],
            "needs_background": "light"
          }
        }
      ]
    },
    {
      "cell_type": "code",
      "metadata": {
        "id": "7W40kb7lqseM",
        "outputId": "c1b50861-520e-4ece-8b6d-c45332c86a05",
        "colab": {
          "base_uri": "https://localhost:8080/",
          "height": 516
        }
      },
      "source": [
        "plt.figure(figsize=(10, 8))\n",
        "plt.title(\"Sex\")\n",
        "sns.barplot(x=main_df['Sex'].value_counts().index, y=main_df['Sex'].value_counts())"
      ],
      "execution_count": null,
      "outputs": [
        {
          "output_type": "execute_result",
          "data": {
            "text/plain": [
              "<matplotlib.axes._subplots.AxesSubplot at 0x7f879dcd1860>"
            ]
          },
          "metadata": {
            "tags": []
          },
          "execution_count": 60
        },
        {
          "output_type": "display_data",
          "data": {
            "image/png": "[encoded data removed]",
            "text/plain": [
              "<Figure size 720x576 with 1 Axes>"
            ]
          },
          "metadata": {
            "tags": [],
            "needs_background": "light"
          }
        }
      ]
    },
    {
      "cell_type": "markdown",
      "metadata": {
        "id": "LF_C_oM3iOFf"
      },
      "source": [
        "The number of men on board is almost double that of women"
      ]
    },
    {
      "cell_type": "code",
      "metadata": {
        "id": "ujIY_qoziO6f",
        "outputId": "c845861d-2a67-445f-879a-1aa2c183a1be",
        "colab": {
          "base_uri": "https://localhost:8080/",
          "height": 584
        }
      },
      "source": [
        "plt.figure(figsize=(10, 8))\n",
        "plt.title(\"Age distribution (female and male)\")\n",
        "sns.distplot(main_df['Age'], color=\"red\")"
      ],
      "execution_count": null,
      "outputs": [
        {
          "output_type": "stream",
          "text": [
            "/usr/local/lib/python3.6/dist-packages/seaborn/distributions.py:2551: FutureWarning: `distplot` is a deprecated function and will be removed in a future version. Please adapt your code to use either `displot` (a figure-level function with similar flexibility) or `histplot` (an axes-level function for histograms).\n",
            "  warnings.warn(msg, FutureWarning)\n"
          ],
          "name": "stderr"
        },
        {
          "output_type": "execute_result",
          "data": {
            "text/plain": [
              "<matplotlib.axes._subplots.AxesSubplot at 0x7f87992f91d0>"
            ]
          },
          "metadata": {
            "tags": []
          },
          "execution_count": 61
        },
        {
          "output_type": "display_data",
          "data": {
            "image/png": "[encoded data removed]",
            "text/plain": [
              "<Figure size 720x576 with 1 Axes>"
            ]
          },
          "metadata": {
            "tags": [],
            "needs_background": "light"
          }
        }
      ]
    },
    {
      "cell_type": "code",
      "metadata": {
        "id": "kOeTw2foitTq",
        "outputId": "f63bfd71-5266-4fa1-98aa-44efa67f4d69",
        "colab": {
          "base_uri": "https://localhost:8080/",
          "height": 170
        }
      },
      "source": [
        "main_df['Age'].describe()"
      ],
      "execution_count": null,
      "outputs": [
        {
          "output_type": "execute_result",
          "data": {
            "text/plain": [
              "count    891.000000\n",
              "mean      29.699118\n",
              "std       13.002015\n",
              "min        0.420000\n",
              "25%       22.000000\n",
              "50%       29.699118\n",
              "75%       35.000000\n",
              "max       80.000000\n",
              "Name: Age, dtype: float64"
            ]
          },
          "metadata": {
            "tags": []
          },
          "execution_count": 62
        }
      ]
    },
    {
      "cell_type": "markdown",
      "metadata": {
        "id": "-XbozinGjbtS"
      },
      "source": [
        "The age (male and female) distribution density is close to normal. Average age is about 29 years. Minimum 4 months and the oldest 80 years old"
      ]
    },
    {
      "cell_type": "code",
      "metadata": {
        "id": "gJZyM3BNjz6L",
        "outputId": "73a9795e-d69e-4c1c-9283-660a35e323a5",
        "colab": {
          "base_uri": "https://localhost:8080/",
          "height": 584
        }
      },
      "source": [
        "plt.figure(figsize=(10, 8))\n",
        "plt.title(\"Age distribution (female)\")\n",
        "sns.distplot(main_df[main_df['Sex'] == 'female']['Age'], color=\"blue\")"
      ],
      "execution_count": null,
      "outputs": [
        {
          "output_type": "stream",
          "text": [
            "/usr/local/lib/python3.6/dist-packages/seaborn/distributions.py:2551: FutureWarning: `distplot` is a deprecated function and will be removed in a future version. Please adapt your code to use either `displot` (a figure-level function with similar flexibility) or `histplot` (an axes-level function for histograms).\n",
            "  warnings.warn(msg, FutureWarning)\n"
          ],
          "name": "stderr"
        },
        {
          "output_type": "execute_result",
          "data": {
            "text/plain": [
              "<matplotlib.axes._subplots.AxesSubplot at 0x7f87991e9c18>"
            ]
          },
          "metadata": {
            "tags": []
          },
          "execution_count": 63
        },
        {
          "output_type": "display_data",
          "data": {
            "image/png": "[encoded data removed]",
            "text/plain": [
              "<Figure size 720x576 with 1 Axes>"
            ]
          },
          "metadata": {
            "tags": [],
            "needs_background": "light"
          }
        }
      ]
    },
    {
      "cell_type": "code",
      "metadata": {
        "id": "y3HRPT1zkasf",
        "outputId": "75ee7cab-3b71-49ac-bc6c-ee6a52b86e85",
        "colab": {
          "base_uri": "https://localhost:8080/",
          "height": 170
        }
      },
      "source": [
        "main_df[main_df['Sex'] == 'female']['Age'].describe()"
      ],
      "execution_count": null,
      "outputs": [
        {
          "output_type": "execute_result",
          "data": {
            "text/plain": [
              "count    314.000000\n",
              "mean      28.216730\n",
              "std       12.877543\n",
              "min        0.750000\n",
              "25%       21.000000\n",
              "50%       29.699118\n",
              "75%       35.000000\n",
              "max       63.000000\n",
              "Name: Age, dtype: float64"
            ]
          },
          "metadata": {
            "tags": []
          },
          "execution_count": 64
        }
      ]
    },
    {
      "cell_type": "markdown",
      "metadata": {
        "id": "_sSD-1F3kpn8"
      },
      "source": [
        "The age (female) distribution density is close to normal. Average age is about 27 years. Minimum 9 months and the oldest 63 years old"
      ]
    },
    {
      "cell_type": "code",
      "metadata": {
        "id": "Z6kdXTP_kys_",
        "outputId": "897eb6c6-c8be-4d37-8a50-44f75ebac8b0",
        "colab": {
          "base_uri": "https://localhost:8080/",
          "height": 584
        }
      },
      "source": [
        "plt.figure(figsize=(10, 8))\n",
        "plt.title(\"Age distribution (male)\")\n",
        "sns.distplot(main_df[main_df['Sex'] == 'male']['Age'], color=\"orange\")"
      ],
      "execution_count": null,
      "outputs": [
        {
          "output_type": "stream",
          "text": [
            "/usr/local/lib/python3.6/dist-packages/seaborn/distributions.py:2551: FutureWarning: `distplot` is a deprecated function and will be removed in a future version. Please adapt your code to use either `displot` (a figure-level function with similar flexibility) or `histplot` (an axes-level function for histograms).\n",
            "  warnings.warn(msg, FutureWarning)\n"
          ],
          "name": "stderr"
        },
        {
          "output_type": "execute_result",
          "data": {
            "text/plain": [
              "<matplotlib.axes._subplots.AxesSubplot at 0x7f8799192080>"
            ]
          },
          "metadata": {
            "tags": []
          },
          "execution_count": 65
        },
        {
          "output_type": "display_data",
          "data": {
            "image/png": "[encoded data removed]",
            "text/plain": [
              "<Figure size 720x576 with 1 Axes>"
            ]
          },
          "metadata": {
            "tags": [],
            "needs_background": "light"
          }
        }
      ]
    },
    {
      "cell_type": "code",
      "metadata": {
        "id": "UbDg6gmRll2v",
        "outputId": "eab4b08b-5b62-4511-a047-876a64007175",
        "colab": {
          "base_uri": "https://localhost:8080/",
          "height": 170
        }
      },
      "source": [
        "main_df[main_df['Sex'] == 'male']['Age'].describe()"
      ],
      "execution_count": null,
      "outputs": [
        {
          "output_type": "execute_result",
          "data": {
            "text/plain": [
              "count    577.000000\n",
              "mean      30.505824\n",
              "std       13.009478\n",
              "min        0.420000\n",
              "25%       23.000000\n",
              "50%       29.699118\n",
              "75%       35.000000\n",
              "max       80.000000\n",
              "Name: Age, dtype: float64"
            ]
          },
          "metadata": {
            "tags": []
          },
          "execution_count": 66
        }
      ]
    },
    {
      "cell_type": "markdown",
      "metadata": {
        "id": "0sJbUssHls6a"
      },
      "source": [
        "The age (male) distribution density is close to normal. Average age is about 30 years. Minimum 4 months and the oldest 80 years old"
      ]
    }
  ]
}